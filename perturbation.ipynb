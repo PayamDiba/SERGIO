{
 "cells": [
  {
   "cell_type": "code",
   "execution_count": 1,
   "id": "a289cbf6",
   "metadata": {},
   "outputs": [],
   "source": [
    "import numpy as np\n",
    "import networkx as nx\n",
    "from collections import defaultdict\n",
    "import pandas as pd\n",
    "from collections import Counter\n",
    "import itertools\n",
    "import seaborn as sns\n",
    "import matplotlib.pyplot as plt\n",
    "import random\n",
    "import scperturb\n",
    "from SERGIO._perturbation import perturbation\n"
   ]
  },
  {
   "cell_type": "markdown",
   "id": "5c209897",
   "metadata": {},
   "source": [
    "create perturbation object"
   ]
  },
  {
   "cell_type": "code",
   "execution_count": 19,
   "id": "f8198108",
   "metadata": {},
   "outputs": [
    {
     "data": {
      "text/plain": [
       "1000"
      ]
     },
     "execution_count": 19,
     "metadata": {},
     "output_type": "execute_result"
    }
   ],
   "source": [
    "pert.wt.shape[-1]"
   ]
  },
  {
   "cell_type": "code",
   "execution_count": 11,
   "id": "7b850e62",
   "metadata": {},
   "outputs": [
    {
     "ename": "KeyboardInterrupt",
     "evalue": "",
     "output_type": "error",
     "traceback": [
      "\u001b[0;31m---------------------------------------------------------------------------\u001b[0m",
      "\u001b[0;31mKeyboardInterrupt\u001b[0m                         Traceback (most recent call last)",
      "\u001b[0;32m<timed eval>\u001b[0m in \u001b[0;36m<module>\u001b[0;34m\u001b[0m\n",
      "\u001b[0;32m~/Documents/Github/SERGIO/SERGIO/_perturbation.py\u001b[0m in \u001b[0;36mperturbation_all\u001b[0;34m(self, nCells)\u001b[0m\n\u001b[1;32m    102\u001b[0m         \u001b[0;32mfor\u001b[0m \u001b[0mi\u001b[0m\u001b[0;34m,\u001b[0m\u001b[0mtarget_gene\u001b[0m \u001b[0;32min\u001b[0m \u001b[0menumerate\u001b[0m\u001b[0;34m(\u001b[0m\u001b[0mgrn\u001b[0m\u001b[0;34m.\u001b[0m\u001b[0mattr_\u001b[0m\u001b[0;34m[\u001b[0m\u001b[0;34m'genes'\u001b[0m\u001b[0;34m]\u001b[0m\u001b[0;34m.\u001b[0m\u001b[0mkeys\u001b[0m\u001b[0;34m(\u001b[0m\u001b[0;34m)\u001b[0m\u001b[0;34m)\u001b[0m\u001b[0;34m:\u001b[0m\u001b[0;34m\u001b[0m\u001b[0;34m\u001b[0m\u001b[0m\n\u001b[1;32m    103\u001b[0m             \u001b[0;31m#simulate Crispri\u001b[0m\u001b[0;34m\u001b[0m\u001b[0;34m\u001b[0m\u001b[0;34m\u001b[0m\u001b[0m\n\u001b[0;32m--> 104\u001b[0;31m             \u001b[0mself\u001b[0m\u001b[0;34m.\u001b[0m\u001b[0mstore\u001b[0m\u001b[0;34m[\u001b[0m\u001b[0;36m0\u001b[0m\u001b[0;34m,\u001b[0m\u001b[0mi\u001b[0m\u001b[0;34m]\u001b[0m\u001b[0;34m=\u001b[0m \u001b[0mself\u001b[0m\u001b[0;34m.\u001b[0m\u001b[0m_single_perturbation\u001b[0m\u001b[0;34m(\u001b[0m\u001b[0mgrn\u001b[0m \u001b[0;34m=\u001b[0m \u001b[0mgrn\u001b[0m\u001b[0;34m,\u001b[0m\u001b[0mmr_profs\u001b[0m\u001b[0;34m=\u001b[0m\u001b[0mmr_profs\u001b[0m\u001b[0;34m,\u001b[0m\u001b[0mtarget_gene\u001b[0m\u001b[0;34m=\u001b[0m\u001b[0mtarget_gene\u001b[0m\u001b[0;34m,\u001b[0m\u001b[0mbasal_prod\u001b[0m\u001b[0;34m=\u001b[0m\u001b[0;36m0.2\u001b[0m\u001b[0;34m,\u001b[0m\u001b[0mnCells\u001b[0m\u001b[0;34m=\u001b[0m\u001b[0mnCells\u001b[0m\u001b[0;34m,\u001b[0m\u001b[0mcutting\u001b[0m\u001b[0;34m=\u001b[0m\u001b[0;32mTrue\u001b[0m\u001b[0;34m)\u001b[0m\u001b[0;34m.\u001b[0m\u001b[0mgetSimExpr\u001b[0m\u001b[0;34m(\u001b[0m\u001b[0;34m)\u001b[0m\u001b[0;34m.\u001b[0m\u001b[0mvalues\u001b[0m\u001b[0;34m\u001b[0m\u001b[0;34m\u001b[0m\u001b[0m\n\u001b[0m\u001b[1;32m    105\u001b[0m             \u001b[0;31m#simulate Crispra\u001b[0m\u001b[0;34m\u001b[0m\u001b[0;34m\u001b[0m\u001b[0;34m\u001b[0m\u001b[0m\n\u001b[1;32m    106\u001b[0m             \u001b[0mself\u001b[0m\u001b[0;34m.\u001b[0m\u001b[0mstore\u001b[0m\u001b[0;34m[\u001b[0m\u001b[0;36m1\u001b[0m\u001b[0;34m,\u001b[0m\u001b[0mi\u001b[0m\u001b[0;34m]\u001b[0m\u001b[0;34m=\u001b[0m \u001b[0mself\u001b[0m\u001b[0;34m.\u001b[0m\u001b[0m_single_perturbation\u001b[0m\u001b[0;34m(\u001b[0m\u001b[0mgrn\u001b[0m \u001b[0;34m=\u001b[0m \u001b[0mgrn\u001b[0m\u001b[0;34m,\u001b[0m\u001b[0mmr_profs\u001b[0m\u001b[0;34m=\u001b[0m\u001b[0mmr_profs\u001b[0m\u001b[0;34m,\u001b[0m\u001b[0mtarget_gene\u001b[0m\u001b[0;34m=\u001b[0m\u001b[0mtarget_gene\u001b[0m\u001b[0;34m,\u001b[0m\u001b[0mbasal_prod\u001b[0m\u001b[0;34m=\u001b[0m\u001b[0;36m7\u001b[0m\u001b[0;34m,\u001b[0m\u001b[0mnCells\u001b[0m\u001b[0;34m=\u001b[0m\u001b[0mnCells\u001b[0m\u001b[0;34m,\u001b[0m\u001b[0mcutting\u001b[0m\u001b[0;34m=\u001b[0m\u001b[0;32mTrue\u001b[0m\u001b[0;34m)\u001b[0m\u001b[0;34m.\u001b[0m\u001b[0mgetSimExpr\u001b[0m\u001b[0;34m(\u001b[0m\u001b[0;34m)\u001b[0m\u001b[0;34m.\u001b[0m\u001b[0mvalues\u001b[0m\u001b[0;34m\u001b[0m\u001b[0;34m\u001b[0m\u001b[0m\n",
      "\u001b[0;32m~/Documents/Github/SERGIO/SERGIO/_perturbation.py\u001b[0m in \u001b[0;36m_single_perturbation\u001b[0;34m(grn, mr_profs, target_gene, basal_prod, nCells, cutting)\u001b[0m\n\u001b[1;32m     81\u001b[0m \u001b[0;34m\u001b[0m\u001b[0m\n\u001b[1;32m     82\u001b[0m         \u001b[0msim\u001b[0m \u001b[0;34m=\u001b[0m \u001b[0msergio\u001b[0m\u001b[0;34m(\u001b[0m\u001b[0mnew_grn\u001b[0m\u001b[0;34m)\u001b[0m\u001b[0;34m\u001b[0m\u001b[0;34m\u001b[0m\u001b[0m\n\u001b[0;32m---> 83\u001b[0;31m         \u001b[0msim\u001b[0m\u001b[0;34m.\u001b[0m\u001b[0msimulate\u001b[0m\u001b[0;34m(\u001b[0m\u001b[0mnCells\u001b[0m \u001b[0;34m=\u001b[0m \u001b[0mnCells\u001b[0m\u001b[0;34m,\u001b[0m \u001b[0mnoise_s\u001b[0m \u001b[0;34m=\u001b[0m \u001b[0;36m1\u001b[0m\u001b[0;34m,\u001b[0m \u001b[0msafety_iter\u001b[0m \u001b[0;34m=\u001b[0m \u001b[0;36m150\u001b[0m\u001b[0;34m,\u001b[0m \u001b[0mscale_iter\u001b[0m \u001b[0;34m=\u001b[0m \u001b[0;36m10\u001b[0m\u001b[0;34m)\u001b[0m\u001b[0;34m\u001b[0m\u001b[0;34m\u001b[0m\u001b[0m\n\u001b[0m\u001b[1;32m     84\u001b[0m         \u001b[0;32mreturn\u001b[0m \u001b[0msim\u001b[0m\u001b[0;34m\u001b[0m\u001b[0;34m\u001b[0m\u001b[0m\n\u001b[1;32m     85\u001b[0m     \u001b[0;32mdef\u001b[0m \u001b[0mperturbation_all\u001b[0m\u001b[0;34m(\u001b[0m\u001b[0mself\u001b[0m\u001b[0;34m,\u001b[0m\u001b[0mnCells\u001b[0m\u001b[0;34m)\u001b[0m\u001b[0;34m:\u001b[0m\u001b[0;34m\u001b[0m\u001b[0;34m\u001b[0m\u001b[0m\n",
      "\u001b[0;32m~/Documents/Github/SERGIO/SERGIO/_sergio.py\u001b[0m in \u001b[0;36msimulate\u001b[0;34m(self, nCells, noise_s, noise_u, safety_iter, scale_iter, dt)\u001b[0m\n\u001b[1;32m     77\u001b[0m \u001b[0;34m\u001b[0m\u001b[0m\n\u001b[1;32m     78\u001b[0m         \u001b[0;32mif\u001b[0m \u001b[0;32mnot\u001b[0m \u001b[0mself\u001b[0m\u001b[0;34m.\u001b[0m\u001b[0mdiff_graph_\u001b[0m\u001b[0;34m:\u001b[0m\u001b[0;34m\u001b[0m\u001b[0;34m\u001b[0m\u001b[0m\n\u001b[0;32m---> 79\u001b[0;31m             \u001b[0mself\u001b[0m\u001b[0;34m.\u001b[0m\u001b[0m_simulate_ss\u001b[0m\u001b[0;34m(\u001b[0m\u001b[0mself\u001b[0m\u001b[0;34m.\u001b[0m\u001b[0mnCells_\u001b[0m\u001b[0;34m,\u001b[0m \u001b[0mnoise_ss\u001b[0m \u001b[0;34m=\u001b[0m \u001b[0mnoise_s\u001b[0m\u001b[0;34m,\u001b[0m \u001b[0mdt\u001b[0m \u001b[0;34m=\u001b[0m \u001b[0mdt\u001b[0m\u001b[0;34m,\u001b[0m \u001b[0msafety_iter\u001b[0m \u001b[0;34m=\u001b[0m \u001b[0msafety_iter\u001b[0m\u001b[0;34m,\u001b[0m \u001b[0mscale_iter\u001b[0m \u001b[0;34m=\u001b[0m \u001b[0mscale_iter\u001b[0m\u001b[0;34m)\u001b[0m\u001b[0;34m\u001b[0m\u001b[0;34m\u001b[0m\u001b[0m\n\u001b[0m\u001b[1;32m     80\u001b[0m         \u001b[0;32melse\u001b[0m\u001b[0;34m:\u001b[0m\u001b[0;34m\u001b[0m\u001b[0;34m\u001b[0m\u001b[0m\n\u001b[1;32m     81\u001b[0m             \u001b[0;32mraise\u001b[0m \u001b[0mValueError\u001b[0m\u001b[0;34m(\u001b[0m\u001b[0;34m'not implement'\u001b[0m\u001b[0;34m)\u001b[0m\u001b[0;34m\u001b[0m\u001b[0;34m\u001b[0m\u001b[0m\n",
      "\u001b[0;32m~/Documents/Github/SERGIO/SERGIO/_sergio.py\u001b[0m in \u001b[0;36m_simulate_ss\u001b[0;34m(self, nCells, noise_ss, dt, safety_iter, scale_iter)\u001b[0m\n\u001b[1;32m     62\u001b[0m         \u001b[0mnIter\u001b[0m \u001b[0;34m=\u001b[0m \u001b[0;36m0\u001b[0m\u001b[0;34m\u001b[0m\u001b[0;34m\u001b[0m\u001b[0m\n\u001b[1;32m     63\u001b[0m         \u001b[0;32mwhile\u001b[0m\u001b[0;34m(\u001b[0m\u001b[0mcTypes\u001b[0m\u001b[0;34m)\u001b[0m\u001b[0;34m:\u001b[0m\u001b[0;34m\u001b[0m\u001b[0;34m\u001b[0m\u001b[0m\n\u001b[0;32m---> 64\u001b[0;31m             \u001b[0mself\u001b[0m\u001b[0;34m.\u001b[0m\u001b[0m_iter_ss\u001b[0m\u001b[0;34m(\u001b[0m\u001b[0mnoise_ss\u001b[0m\u001b[0;34m,\u001b[0m \u001b[0mdt\u001b[0m\u001b[0;34m,\u001b[0m \u001b[0mcTypes\u001b[0m\u001b[0;34m)\u001b[0m\u001b[0;34m\u001b[0m\u001b[0;34m\u001b[0m\u001b[0m\n\u001b[0m\u001b[1;32m     65\u001b[0m             \u001b[0mnIter\u001b[0m \u001b[0;34m+=\u001b[0m \u001b[0;36m1\u001b[0m\u001b[0;34m\u001b[0m\u001b[0;34m\u001b[0m\u001b[0m\n\u001b[1;32m     66\u001b[0m             \u001b[0mcTypes\u001b[0m \u001b[0;34m=\u001b[0m \u001b[0mnp\u001b[0m\u001b[0;34m.\u001b[0m\u001b[0mwhere\u001b[0m\u001b[0;34m(\u001b[0m\u001b[0mreq\u001b[0m \u001b[0;34m>\u001b[0m \u001b[0mnIter\u001b[0m\u001b[0;34m)\u001b[0m\u001b[0;34m[\u001b[0m\u001b[0;36m0\u001b[0m\u001b[0;34m]\u001b[0m\u001b[0;34m.\u001b[0m\u001b[0mtolist\u001b[0m\u001b[0;34m(\u001b[0m\u001b[0;34m)\u001b[0m\u001b[0;34m\u001b[0m\u001b[0;34m\u001b[0m\u001b[0m\n",
      "\u001b[0;32m~/Documents/Github/SERGIO/SERGIO/_sergio.py\u001b[0m in \u001b[0;36m_iter_ss\u001b[0;34m(self, noise_ss, dt, cTypes)\u001b[0m\n\u001b[1;32m     36\u001b[0m             \u001b[0mgene\u001b[0m \u001b[0;34m=\u001b[0m \u001b[0mself\u001b[0m\u001b[0;34m.\u001b[0m\u001b[0mgrn_\u001b[0m\u001b[0;34m.\u001b[0m\u001b[0mattr_\u001b[0m\u001b[0;34m[\u001b[0m\u001b[0;34m'genes'\u001b[0m\u001b[0;34m]\u001b[0m\u001b[0;34m[\u001b[0m\u001b[0mgn\u001b[0m\u001b[0;34m]\u001b[0m\u001b[0;34m\u001b[0m\u001b[0;34m\u001b[0m\u001b[0m\n\u001b[1;32m     37\u001b[0m             \u001b[0mX\u001b[0m\u001b[0;34m[\u001b[0m\u001b[0mri\u001b[0m\u001b[0;34m]\u001b[0m \u001b[0;34m=\u001b[0m \u001b[0mgene\u001b[0m\u001b[0;34m.\u001b[0m\u001b[0mget_last_conc\u001b[0m\u001b[0;34m(\u001b[0m\u001b[0mcTypes\u001b[0m\u001b[0;34m)\u001b[0m\u001b[0;34m\u001b[0m\u001b[0;34m\u001b[0m\u001b[0m\n\u001b[0;32m---> 38\u001b[0;31m             \u001b[0mP\u001b[0m\u001b[0;34m[\u001b[0m\u001b[0mri\u001b[0m\u001b[0;34m]\u001b[0m \u001b[0;34m=\u001b[0m \u001b[0mgene\u001b[0m\u001b[0;34m.\u001b[0m\u001b[0m_calc_prod\u001b[0m\u001b[0;34m(\u001b[0m\u001b[0mcTypes\u001b[0m\u001b[0;34m,\u001b[0m \u001b[0mregs_conc\u001b[0m \u001b[0;34m=\u001b[0m \u001b[0;34m'sim'\u001b[0m\u001b[0;34m)\u001b[0m\u001b[0;34m\u001b[0m\u001b[0;34m\u001b[0m\u001b[0m\n\u001b[0m\u001b[1;32m     39\u001b[0m \u001b[0;34m\u001b[0m\u001b[0m\n\u001b[1;32m     40\u001b[0m         \u001b[0mP\u001b[0m\u001b[0;34m[\u001b[0m\u001b[0mP\u001b[0m \u001b[0;34m<\u001b[0m \u001b[0;36m0\u001b[0m\u001b[0;34m]\u001b[0m \u001b[0;34m=\u001b[0m \u001b[0;36m0\u001b[0m \u001b[0;31m# numerical stability\u001b[0m\u001b[0;34m\u001b[0m\u001b[0;34m\u001b[0m\u001b[0m\n",
      "\u001b[0;32m~/Documents/Github/SERGIO/SERGIO/GRN/_components.py\u001b[0m in \u001b[0;36m_calc_prod\u001b[0;34m(self, cTypes, regs_conc)\u001b[0m\n\u001b[1;32m     24\u001b[0m         \u001b[0mret\u001b[0m \u001b[0;34m=\u001b[0m \u001b[0mnp\u001b[0m\u001b[0;34m.\u001b[0m\u001b[0mzeros\u001b[0m\u001b[0;34m(\u001b[0m\u001b[0mshape\u001b[0m \u001b[0;34m=\u001b[0m \u001b[0;34m(\u001b[0m\u001b[0mlen\u001b[0m\u001b[0;34m(\u001b[0m\u001b[0mcTypes\u001b[0m\u001b[0;34m)\u001b[0m\u001b[0;34m,\u001b[0m\u001b[0;34m)\u001b[0m\u001b[0;34m)\u001b[0m\u001b[0;34m\u001b[0m\u001b[0;34m\u001b[0m\u001b[0m\n\u001b[1;32m     25\u001b[0m         \u001b[0;32mfor\u001b[0m \u001b[0mi\u001b[0m \u001b[0;32min\u001b[0m \u001b[0mself\u001b[0m\u001b[0;34m.\u001b[0m\u001b[0minInteractions\u001b[0m\u001b[0;34m.\u001b[0m\u001b[0mkeys\u001b[0m\u001b[0;34m(\u001b[0m\u001b[0;34m)\u001b[0m\u001b[0;34m:\u001b[0m\u001b[0;34m\u001b[0m\u001b[0;34m\u001b[0m\u001b[0m\n\u001b[0;32m---> 26\u001b[0;31m             \u001b[0mret\u001b[0m \u001b[0;34m+=\u001b[0m \u001b[0mself\u001b[0m\u001b[0;34m.\u001b[0m\u001b[0minInteractions\u001b[0m\u001b[0;34m[\u001b[0m\u001b[0mi\u001b[0m\u001b[0;34m]\u001b[0m\u001b[0;34m.\u001b[0m\u001b[0m_get_hill\u001b[0m\u001b[0;34m(\u001b[0m\u001b[0mcTypes\u001b[0m\u001b[0;34m,\u001b[0m \u001b[0mregs_conc\u001b[0m \u001b[0;34m=\u001b[0m \u001b[0mregs_conc\u001b[0m\u001b[0;34m)\u001b[0m\u001b[0;34m\u001b[0m\u001b[0;34m\u001b[0m\u001b[0m\n\u001b[0m\u001b[1;32m     27\u001b[0m         \u001b[0;31m#to implement the effect of basal production in Crispr experiments\u001b[0m\u001b[0;34m\u001b[0m\u001b[0;34m\u001b[0m\u001b[0;34m\u001b[0m\u001b[0m\n\u001b[1;32m     28\u001b[0m         \u001b[0;32mif\u001b[0m \u001b[0mself\u001b[0m\u001b[0;34m.\u001b[0m\u001b[0mprod_rates_\u001b[0m \u001b[0;32mis\u001b[0m \u001b[0;32mnot\u001b[0m \u001b[0;32mNone\u001b[0m\u001b[0;34m:\u001b[0m\u001b[0;34m\u001b[0m\u001b[0;34m\u001b[0m\u001b[0m\n",
      "\u001b[0;31mKeyboardInterrupt\u001b[0m: "
     ]
    }
   ],
   "source": [
    "pert = perturbation()\n",
    "pert.create(20)\n",
    "%time pert.perturbation_all(nCells=1000)"
   ]
  },
  {
   "cell_type": "code",
   "execution_count": 3,
   "id": "2efb5f5d",
   "metadata": {},
   "outputs": [],
   "source": [
    "pert.save('pert_15_100')"
   ]
  },
  {
   "cell_type": "markdown",
   "id": "d9dbee27",
   "metadata": {},
   "source": [
    "load previously created perturbation object"
   ]
  },
  {
   "cell_type": "code",
   "execution_count": 10,
   "id": "ee92d045",
   "metadata": {},
   "outputs": [],
   "source": [
    "pert = perturbation().load('pert_34_1000')"
   ]
  },
  {
   "cell_type": "code",
   "execution_count": 4,
   "id": "10f83729",
   "metadata": {},
   "outputs": [],
   "source": [
    "G = pert.G\n",
    "store = pert.store\n",
    "wt = pert.wt\n",
    "grn = pert.grn0"
   ]
  },
  {
   "cell_type": "code",
   "execution_count": 5,
   "id": "eeb9fd23",
   "metadata": {},
   "outputs": [],
   "source": [
    "store.shape,wt.shape\n",
    "gene_list = list(grn.attr_['genes'].keys())"
   ]
  },
  {
   "cell_type": "markdown",
   "id": "cf404f4d",
   "metadata": {},
   "source": [
    "inspect those genes.\n",
    "The second gene in the tuple is known to have in-degree 1"
   ]
  },
  {
   "cell_type": "code",
   "execution_count": 6,
   "id": "8a6280ff",
   "metadata": {},
   "outputs": [
    {
     "data": {
      "text/plain": [
       "[('11', '3'), ('13', '7'), ('7', '12'), ('12', '10'), ('14', '13')]"
      ]
     },
     "execution_count": 6,
     "metadata": {},
     "output_type": "execute_result"
    }
   ],
   "source": [
    "[([*G.predecessors(k)][0],k) for k,v in dict(G.in_degree()).items() if v ==1]\n"
   ]
  },
  {
   "cell_type": "code",
   "execution_count": 23,
   "id": "a3d8ecf6",
   "metadata": {},
   "outputs": [
    {
     "data": {
      "text/plain": [
       "[]"
      ]
     },
     "execution_count": 23,
     "metadata": {},
     "output_type": "execute_result"
    }
   ],
   "source": [
    "store.shape\n"
   ]
  },
  {
   "cell_type": "markdown",
   "id": "8e6239c4",
   "metadata": {},
   "source": [
    "draw network containing 'gene_view', its successors and they other parents"
   ]
  },
  {
   "cell_type": "code",
   "execution_count": 7,
   "id": "9e3bfa50",
   "metadata": {},
   "outputs": [
    {
     "name": "stdout",
     "output_type": "stream",
     "text": [
      "11\n"
     ]
    },
    {
     "data": {
      "text/html": [
       "<div>\n",
       "<style scoped>\n",
       "    .dataframe tbody tr th:only-of-type {\n",
       "        vertical-align: middle;\n",
       "    }\n",
       "\n",
       "    .dataframe tbody tr th {\n",
       "        vertical-align: top;\n",
       "    }\n",
       "\n",
       "    .dataframe thead tr th {\n",
       "        text-align: left;\n",
       "    }\n",
       "</style>\n",
       "<table border=\"1\" class=\"dataframe\">\n",
       "  <thead>\n",
       "    <tr>\n",
       "      <th></th>\n",
       "      <th>from</th>\n",
       "      <th>to</th>\n",
       "      <th>weight</th>\n",
       "    </tr>\n",
       "  </thead>\n",
       "  <tbody>\n",
       "    <tr>\n",
       "      <th>0</th>\n",
       "      <td>11</td>\n",
       "      <td>2</td>\n",
       "      <td>-2.182360</td>\n",
       "    </tr>\n",
       "    <tr>\n",
       "      <th>1</th>\n",
       "      <td>11</td>\n",
       "      <td>3</td>\n",
       "      <td>2.303306</td>\n",
       "    </tr>\n",
       "    <tr>\n",
       "      <th>2</th>\n",
       "      <td>11</td>\n",
       "      <td>8</td>\n",
       "      <td>2.837185</td>\n",
       "    </tr>\n",
       "  </tbody>\n",
       "</table>\n",
       "</div>"
      ],
      "text/plain": [
       "  from to    weight\n",
       "0   11  2 -2.182360\n",
       "1   11  3  2.303306\n",
       "2   11  8  2.837185"
      ]
     },
     "execution_count": 7,
     "metadata": {},
     "output_type": "execute_result"
    },
    {
     "data": {
      "image/png": "[encoded data removed]",
      "text/plain": [
       "<Figure size 432x288 with 1 Axes>"
      ]
     },
     "metadata": {},
     "output_type": "display_data"
    }
   ],
   "source": [
    "gene_view = '11'#gene_list[1]\n",
    "\n",
    "print(gene_view)\n",
    "\n",
    "\n",
    "two_step_neigh = {*itertools.chain.from_iterable([set(G.predecessors(g)) for g in set(G.successors(gene_view))])}\n",
    "#plt.figure(figsize=(8,8))\n",
    "pert.draw_net(G.subgraph(two_step_neigh.union(G.successors(gene_view)).union({gene_view})))\n",
    "pd.DataFrame([[a,b,d['weight']] for a,b,d in list(G.out_edges(gene_view,data=True))],columns=[['from','to','weight']])"
   ]
  },
  {
   "cell_type": "code",
   "execution_count": 107,
   "id": "cf5fae79",
   "metadata": {},
   "outputs": [
    {
     "data": {
      "text/plain": [
       "6.25"
      ]
     },
     "execution_count": 107,
     "metadata": {},
     "output_type": "execute_result"
    }
   ],
   "source": [
    "5/0.8"
   ]
  },
  {
   "cell_type": "markdown",
   "id": "419293b0",
   "metadata": {},
   "source": [
    "Investigate expression on the target gene"
   ]
  },
  {
   "cell_type": "code",
   "execution_count": 8,
   "id": "5d46086e",
   "metadata": {},
   "outputs": [
    {
     "data": {
      "text/plain": [
       "<AxesSubplot:ylabel='Density'>"
      ]
     },
     "execution_count": 8,
     "metadata": {},
     "output_type": "execute_result"
    },
    {
     "data": {
      "image/png": "[encoded data removed]",
      "text/plain": [
       "<Figure size 432x288 with 1 Axes>"
      ]
     },
     "metadata": {
      "needs_background": "light"
     },
     "output_type": "display_data"
    },
    {
     "data": {
      "image/png": "[encoded data removed]",
      "text/plain": [
       "<Figure size 432x288 with 1 Axes>"
      ]
     },
     "metadata": {
      "needs_background": "light"
     },
     "output_type": "display_data"
    }
   ],
   "source": [
    "i = np.arange(len(gene_list))[np.array(gene_list)==gene_view][0]# take the index of gene_view\n",
    "#j = np.arange(len(gene_list))[np.array(gene_list)==list(G.out_edges(gene_view))[0][1]][0]#take the index of one of the genes neighbouring gene_view\n",
    "j = i\n",
    "a = pd.DataFrame({'crispri':store[0,i,j],'wt':wt[j]})\n",
    "sns.histplot(a,stat='density')\n",
    "plt.figure()\n",
    "a = pd.DataFrame({'crispra':store[1,i,j],'wt':wt[j]})\n",
    "sns.histplot(a,stat='density')\n"
   ]
  },
  {
   "cell_type": "markdown",
   "id": "2637374a",
   "metadata": {},
   "source": [
    "investigate on direct neighbours"
   ]
  },
  {
   "cell_type": "code",
   "execution_count": 9,
   "id": "bd568cec",
   "metadata": {},
   "outputs": [
    {
     "data": {
      "text/plain": [
       "<AxesSubplot:ylabel='Density'>"
      ]
     },
     "execution_count": 9,
     "metadata": {},
     "output_type": "execute_result"
    },
    {
     "data": {
      "image/png": "[encoded data removed]",
      "text/plain": [
       "<Figure size 432x288 with 1 Axes>"
      ]
     },
     "metadata": {
      "needs_background": "light"
     },
     "output_type": "display_data"
    },
    {
     "data": {
      "image/png": "[encoded data removed]",
      "text/plain": [
       "<Figure size 432x288 with 1 Axes>"
      ]
     },
     "metadata": {
      "needs_background": "light"
     },
     "output_type": "display_data"
    }
   ],
   "source": [
    "i = np.arange(len(gene_list))[np.array(gene_list)==gene_view][0]# take the index of gene_view\n",
    "j = np.arange(len(gene_list))[np.array(gene_list)=='3'][0]#take the index of one of the genes neighbouring gene_view\n",
    "#j = i\n",
    "a = pd.DataFrame({'crispri':store[0,i,j],'wt':wt[j]})\n",
    "sns.histplot(a,stat='density')\n",
    "plt.figure()\n",
    "a = pd.DataFrame({'crispra':store[1,i,j],'wt':wt[j]})\n",
    "sns.histplot(a,stat='density')\n"
   ]
  },
  {
   "cell_type": "code",
   "execution_count": 23,
   "id": "7531e4e0",
   "metadata": {},
   "outputs": [
    {
     "data": {
      "text/plain": [
       "['2', '7', '8', '1', '15', '21', '18']"
      ]
     },
     "execution_count": 23,
     "metadata": {},
     "output_type": "execute_result"
    }
   ],
   "source": [
    "pd.DataFrame(G.in_edges('9',data = True))\n"
   ]
  },
  {
   "cell_type": "code",
   "execution_count": 38,
   "id": "dad0db7f",
   "metadata": {},
   "outputs": [
    {
     "data": {
      "text/plain": [
       "<matplotlib.legend.Legend at 0x7fee6c37d6d0>"
      ]
     },
     "execution_count": 38,
     "metadata": {},
     "output_type": "execute_result"
    },
    {
     "data": {
      "image/png": "[encoded data removed]",
      "text/plain": [
       "<Figure size 432x288 with 1 Axes>"
      ]
     },
     "metadata": {
      "needs_background": "light"
     },
     "output_type": "display_data"
    }
   ],
   "source": [
    "h,b,_ = plt.hist(store[0,i,j],bins =30,label = 'crispri',density = True)\n",
    "\n",
    "h,b,_ = plt.hist(store[1,i,j],alpha = 0.6,bins = 30,label = 'crispra',density = True)\n",
    "h,b,_ = plt.hist(wt[j],alpha = 0.4,bins = 30,label = 'wt',density = True)\n",
    "plt.legend()"
   ]
  },
  {
   "cell_type": "code",
   "execution_count": 164,
   "id": "79bf2b32",
   "metadata": {},
   "outputs": [
    {
     "data": {
      "text/html": [
       "<div>\n",
       "<style scoped>\n",
       "    .dataframe tbody tr th:only-of-type {\n",
       "        vertical-align: middle;\n",
       "    }\n",
       "\n",
       "    .dataframe tbody tr th {\n",
       "        vertical-align: top;\n",
       "    }\n",
       "\n",
       "    .dataframe thead th {\n",
       "        text-align: right;\n",
       "    }\n",
       "</style>\n",
       "<table border=\"1\" class=\"dataframe\">\n",
       "  <thead>\n",
       "    <tr style=\"text-align: right;\">\n",
       "      <th></th>\n",
       "      <th>MR_id</th>\n",
       "      <th>prod_rate</th>\n",
       "    </tr>\n",
       "  </thead>\n",
       "  <tbody>\n",
       "    <tr>\n",
       "      <th>0</th>\n",
       "      <td>2737</td>\n",
       "      <td>3.582154</td>\n",
       "    </tr>\n",
       "    <tr>\n",
       "      <th>1</th>\n",
       "      <td>4853</td>\n",
       "      <td>4.081881</td>\n",
       "    </tr>\n",
       "    <tr>\n",
       "      <th>2</th>\n",
       "      <td>900</td>\n",
       "      <td>5.000000</td>\n",
       "    </tr>\n",
       "    <tr>\n",
       "      <th>3</th>\n",
       "      <td>7161</td>\n",
       "      <td>1.538699</td>\n",
       "    </tr>\n",
       "    <tr>\n",
       "      <th>4</th>\n",
       "      <td>3135</td>\n",
       "      <td>2.003430</td>\n",
       "    </tr>\n",
       "    <tr>\n",
       "      <th>5</th>\n",
       "      <td>3164</td>\n",
       "      <td>1.158086</td>\n",
       "    </tr>\n",
       "    <tr>\n",
       "      <th>6</th>\n",
       "      <td>9572</td>\n",
       "      <td>2.282716</td>\n",
       "    </tr>\n",
       "    <tr>\n",
       "      <th>7</th>\n",
       "      <td>5598</td>\n",
       "      <td>1.877689</td>\n",
       "    </tr>\n",
       "    <tr>\n",
       "      <th>8</th>\n",
       "      <td>5602</td>\n",
       "      <td>4.718141</td>\n",
       "    </tr>\n",
       "    <tr>\n",
       "      <th>9</th>\n",
       "      <td>50674</td>\n",
       "      <td>2.268740</td>\n",
       "    </tr>\n",
       "    <tr>\n",
       "      <th>10</th>\n",
       "      <td>3728</td>\n",
       "      <td>1.602510</td>\n",
       "    </tr>\n",
       "    <tr>\n",
       "      <th>11</th>\n",
       "      <td>6095</td>\n",
       "      <td>3.804069</td>\n",
       "    </tr>\n",
       "    <tr>\n",
       "      <th>12</th>\n",
       "      <td>6096</td>\n",
       "      <td>4.552496</td>\n",
       "    </tr>\n",
       "  </tbody>\n",
       "</table>\n",
       "</div>"
      ],
      "text/plain": [
       "    MR_id  prod_rate\n",
       "0    2737   3.582154\n",
       "1    4853   4.081881\n",
       "2     900   5.000000\n",
       "3    7161   1.538699\n",
       "4    3135   2.003430\n",
       "5    3164   1.158086\n",
       "6    9572   2.282716\n",
       "7    5598   1.877689\n",
       "8    5602   4.718141\n",
       "9   50674   2.268740\n",
       "10   3728   1.602510\n",
       "11   6095   3.804069\n",
       "12   6096   4.552496"
      ]
     },
     "execution_count": 164,
     "metadata": {},
     "output_type": "execute_result"
    }
   ],
   "source": [
    "pd.DataFrame([[i,v.prod_rates_[0]] for i,v in sim2.grn_.attr_['genes'].items()if v.prod_rates_ is not None] ,columns= ['MR_id','prod_rate'])"
   ]
  },
  {
   "cell_type": "code",
   "execution_count": 129,
   "id": "e0644f89",
   "metadata": {},
   "outputs": [
    {
     "data": {
      "text/plain": [
       "array([5.])"
      ]
     },
     "execution_count": 129,
     "metadata": {},
     "output_type": "execute_result"
    }
   ],
   "source": [
    "sim2.grn_.attr_['genes'][gene]._calc_prod([0], regs_conc = 'sim')\n",
    "sim2.grn_.attr_['genes'][gene].prod_rates_"
   ]
  },
  {
   "cell_type": "code",
   "execution_count": 13,
   "id": "1f85b522",
   "metadata": {},
   "outputs": [
    {
     "data": {
      "text/plain": [
       "(True, False)"
      ]
     },
     "execution_count": 13,
     "metadata": {},
     "output_type": "execute_result"
    }
   ],
   "source": [
    "sim2.grn_.attr_['genes'][gene].isMR_,sim.grn_.attr_['genes'][gene].isMR_\n"
   ]
  },
  {
   "cell_type": "code",
   "execution_count": 30,
   "id": "9373698f",
   "metadata": {},
   "outputs": [
    {
     "name": "stdout",
     "output_type": "stream",
     "text": [
      "None\n"
     ]
    }
   ],
   "source": [
    "if sim2.grn_.attr_['genes'][list(non_mr)[0]].prod_rates_ is not None:\n",
    "    print('None')"
   ]
  },
  {
   "cell_type": "code",
   "execution_count": 156,
   "id": "b3e9f5b1",
   "metadata": {},
   "outputs": [
    {
     "data": {
      "text/plain": [
       "[<matplotlib.lines.Line2D at 0x7f3ae4ac7100>]"
      ]
     },
     "execution_count": 156,
     "metadata": {},
     "output_type": "execute_result"
    },
    {
     "data": {
      "image/png": "[encoded data removed]",
      "text/plain": [
       "<Figure size 432x288 with 1 Axes>"
      ]
     },
     "metadata": {
      "needs_background": "light"
     },
     "output_type": "display_data"
    }
   ],
   "source": [
    "sim2.grn_.attr_['genes'][gene].level,\n",
    "plt.plot(*zip(*list(Counter([sim2.grn_.attr_['genes'][el].level for el in mrs ]).items())),'.')\n"
   ]
  },
  {
   "cell_type": "code",
   "execution_count": 159,
   "id": "56433d89",
   "metadata": {},
   "outputs": [
    {
     "data": {
      "text/plain": [
       "[<matplotlib.lines.Line2D at 0x7f3ae5795460>]"
      ]
     },
     "execution_count": 159,
     "metadata": {},
     "output_type": "execute_result"
    },
    {
     "data": {
      "image/png": "[encoded data removed]",
      "text/plain": [
       "<Figure size 432x288 with 1 Axes>"
      ]
     },
     "metadata": {
      "needs_background": "light"
     },
     "output_type": "display_data"
    }
   ],
   "source": [
    "plt.plot(*zip(*list(Counter([sim2.grn_.attr_['genes'][el].level for el in non_mr if el!=gene]).items())),'.')\n"
   ]
  },
  {
   "cell_type": "markdown",
   "id": "7548ded7",
   "metadata": {},
   "source": [
    "run etest on Anndata, create a unique anndata with perturbation column. Use p-values to compare with experiments"
   ]
  },
  {
   "cell_type": "code",
   "execution_count": null,
   "id": "71c07274",
   "metadata": {},
   "outputs": [],
   "source": []
  },
  {
   "cell_type": "code",
   "execution_count": 44,
   "id": "e90f2816",
   "metadata": {},
   "outputs": [],
   "source": [
    "import scanpy as sc\n",
    "scperturb.edist_to_control\n"
   ]
  },
  {
   "cell_type": "code",
   "execution_count": 42,
   "id": "de521e39",
   "metadata": {},
   "outputs": [],
   "source": [
    "def edist_to_control(adata, obs_key='perturbation', control='control', \n",
    "                     obsm_key='X_pca', dist='sqeuclidean',  \n",
    "                     flavor=0, verbose=True):\n",
    "    \"\"\"Computes the edistance to control.\n",
    "    Computes the all E-distances between all groups of cells defined in\n",
    "    adata.obs[obs_key] (e.g. perturbations) and control cells. Distances are computed in embedding\n",
    "    space given by adata.obsm[obsm_key] (e.g. PCA space).\n",
    "    Arguments\n",
    "    ---------\n",
    "    adata: :class:`~anndata.AnnData`\n",
    "        Annotated data matrix.\n",
    "    obs_key: `str` in adata.obs.keys() (default: `perturbation`)\n",
    "        Key in adata.obs specifying the groups to consider.\n",
    "    obsm_key: `str` in adata.obsm (default: `adata.obsm['X_pca']`)\n",
    "        Key for embedding coordinates to use.\n",
    "    dist: `str` for any distance in scipy.spatial.distance (default: `sqeuclidean`)\n",
    "        Distance metric to use in embedding space.\n",
    "    flavor: `int` (default: `0`)\n",
    "        Which flavor of E-distance to use.\n",
    "        - `0`: E-distance no correction factor\n",
    "        - `1`: E-distance with simple correction factor (N-1)\n",
    "        - `2`: E-distance with correction factor NM/(N+M)\n",
    "        - `3`: E-distance with correction division by delta\n",
    "    verbose: `bool` (default: `True`)\n",
    "        Whether to show a progress bar iterating over all groups.\n",
    "    Returns\n",
    "    -------\n",
    "    ed_to_c: pandas.DataFrame\n",
    "        DataFrame with E-distances between all groups and control group.\n",
    "    \"\"\"\n",
    "    correction_factor = flavor==1\n",
    "    deltas_to_c = onesided_pca_distances(adata, obs_key=obs_key, control=control, \n",
    "                                         obsm_key=obsm_key, dist=dist, \n",
    "                                         correction_factor=correction_factor, \n",
    "                                         verbose=verbose)\n",
    "    sigmas = self_pca_distances(adata, obs_key, obsm_key=obsm_key, dist=dist, \n",
    "                                correction_factor=correction_factor, verbose=False)\n",
    "    # derive basic statistics\n",
    "    ed_to_c = 2 * deltas_to_c - sigmas - sigmas.loc[control]\n",
    "    if flavor == 2:\n",
    "        sizes = np.array([np.sum(adata.obs[obs_key]==g) for g in sigmas.index])\n",
    "        corrections = (sizes * sizes[sigmas.index==control]) / (sizes + sizes[sigmas.index==control])\n",
    "        ed_to_c = ed_to_c * corrections.reshape(-1,1)\n",
    "    if flavor == 3:\n",
    "        ed_to_c = ed_to_c / deltas_to_c\n",
    "    return ed_to_c"
   ]
  },
  {
   "cell_type": "code",
   "execution_count": 1,
   "id": "b5ced694",
   "metadata": {},
   "outputs": [],
   "source": []
  },
  {
   "cell_type": "code",
   "execution_count": 2,
   "id": "6106e948",
   "metadata": {},
   "outputs": [
    {
     "name": "stderr",
     "output_type": "stream",
     "text": [
      "/home/giuseppe/Documents/Sergio_perturbation/SERGIO/_perturbation.py:157: FutureWarning: adjacency_matrix will return a scipy.sparse array instead of a matrix in Networkx 3.0.\n",
      "  J = nx.adjacency_matrix(G)\n",
      "DEBUG:root:Number of nodes is 33\n"
     ]
    },
    {
     "ename": "KeyboardInterrupt",
     "evalue": "",
     "output_type": "error",
     "traceback": [
      "\u001b[0;31m---------------------------------------------------------------------------\u001b[0m",
      "\u001b[0;31mKeyboardInterrupt\u001b[0m                         Traceback (most recent call last)",
      "\u001b[0;32m/tmp/ipykernel_128105/1500025460.py\u001b[0m in \u001b[0;36m<module>\u001b[0;34m\u001b[0m\n\u001b[1;32m      1\u001b[0m \u001b[0mpert\u001b[0m \u001b[0;34m=\u001b[0m \u001b[0mperturbation\u001b[0m\u001b[0;34m(\u001b[0m\u001b[0;36m50\u001b[0m\u001b[0;34m)\u001b[0m\u001b[0;34m\u001b[0m\u001b[0;34m\u001b[0m\u001b[0m\n\u001b[0;32m----> 2\u001b[0;31m \u001b[0mpert\u001b[0m\u001b[0;34m.\u001b[0m\u001b[0mperturbation_all\u001b[0m\u001b[0;34m(\u001b[0m\u001b[0mnCells\u001b[0m\u001b[0;34m=\u001b[0m\u001b[0;36m10\u001b[0m\u001b[0;34m)\u001b[0m\u001b[0;34m\u001b[0m\u001b[0;34m\u001b[0m\u001b[0m\n\u001b[0m",
      "\u001b[0;32m~/Documents/Sergio_perturbation/SERGIO/_perturbation.py\u001b[0m in \u001b[0;36mperturbation_all\u001b[0;34m(self, nCells)\u001b[0m\n\u001b[1;32m     98\u001b[0m             \u001b[0mself\u001b[0m\u001b[0;34m.\u001b[0m\u001b[0mstore\u001b[0m\u001b[0;34m[\u001b[0m\u001b[0;36m0\u001b[0m\u001b[0;34m,\u001b[0m\u001b[0mi\u001b[0m\u001b[0;34m]\u001b[0m\u001b[0;34m=\u001b[0m \u001b[0mself\u001b[0m\u001b[0;34m.\u001b[0m\u001b[0m_single_perturbation\u001b[0m\u001b[0;34m(\u001b[0m\u001b[0mgrn\u001b[0m \u001b[0;34m=\u001b[0m \u001b[0mgrn\u001b[0m\u001b[0;34m,\u001b[0m\u001b[0mmr_profs\u001b[0m\u001b[0;34m=\u001b[0m\u001b[0mmr_profs\u001b[0m\u001b[0;34m,\u001b[0m\u001b[0mtarget_gene\u001b[0m\u001b[0;34m=\u001b[0m\u001b[0mtarget_gene\u001b[0m\u001b[0;34m,\u001b[0m\u001b[0mbasal_prod\u001b[0m\u001b[0;34m=\u001b[0m\u001b[0;36m0.2\u001b[0m\u001b[0;34m,\u001b[0m\u001b[0mnCells\u001b[0m\u001b[0;34m=\u001b[0m\u001b[0mnCells\u001b[0m\u001b[0;34m,\u001b[0m\u001b[0mcutting\u001b[0m\u001b[0;34m=\u001b[0m\u001b[0;32mTrue\u001b[0m\u001b[0;34m)\u001b[0m\u001b[0;34m.\u001b[0m\u001b[0mgetSimExpr\u001b[0m\u001b[0;34m(\u001b[0m\u001b[0;34m)\u001b[0m\u001b[0;34m.\u001b[0m\u001b[0mvalues\u001b[0m\u001b[0;34m\u001b[0m\u001b[0;34m\u001b[0m\u001b[0m\n\u001b[1;32m     99\u001b[0m             \u001b[0;31m#simulate Crispra\u001b[0m\u001b[0;34m\u001b[0m\u001b[0;34m\u001b[0m\u001b[0m\n\u001b[0;32m--> 100\u001b[0;31m             \u001b[0mself\u001b[0m\u001b[0;34m.\u001b[0m\u001b[0mstore\u001b[0m\u001b[0;34m[\u001b[0m\u001b[0;36m1\u001b[0m\u001b[0;34m,\u001b[0m\u001b[0mi\u001b[0m\u001b[0;34m]\u001b[0m\u001b[0;34m=\u001b[0m \u001b[0mself\u001b[0m\u001b[0;34m.\u001b[0m\u001b[0m_single_perturbation\u001b[0m\u001b[0;34m(\u001b[0m\u001b[0mgrn\u001b[0m \u001b[0;34m=\u001b[0m \u001b[0mgrn\u001b[0m\u001b[0;34m,\u001b[0m\u001b[0mmr_profs\u001b[0m\u001b[0;34m=\u001b[0m\u001b[0mmr_profs\u001b[0m\u001b[0;34m,\u001b[0m\u001b[0mtarget_gene\u001b[0m\u001b[0;34m=\u001b[0m\u001b[0mtarget_gene\u001b[0m\u001b[0;34m,\u001b[0m\u001b[0mbasal_prod\u001b[0m\u001b[0;34m=\u001b[0m\u001b[0;36m7\u001b[0m\u001b[0;34m,\u001b[0m\u001b[0mnCells\u001b[0m\u001b[0;34m=\u001b[0m\u001b[0mnCells\u001b[0m\u001b[0;34m,\u001b[0m\u001b[0mcutting\u001b[0m\u001b[0;34m=\u001b[0m\u001b[0;32mTrue\u001b[0m\u001b[0;34m)\u001b[0m\u001b[0;34m.\u001b[0m\u001b[0mgetSimExpr\u001b[0m\u001b[0;34m(\u001b[0m\u001b[0;34m)\u001b[0m\u001b[0;34m.\u001b[0m\u001b[0mvalues\u001b[0m\u001b[0;34m\u001b[0m\u001b[0;34m\u001b[0m\u001b[0m\n\u001b[0m\u001b[1;32m    101\u001b[0m \u001b[0;34m\u001b[0m\u001b[0m\n\u001b[1;32m    102\u001b[0m \u001b[0;34m\u001b[0m\u001b[0m\n",
      "\u001b[0;32m~/Documents/Sergio_perturbation/SERGIO/_perturbation.py\u001b[0m in \u001b[0;36m_single_perturbation\u001b[0;34m(grn, mr_profs, target_gene, basal_prod, nCells, cutting)\u001b[0m\n\u001b[1;32m     76\u001b[0m         \u001b[0mnew_grn\u001b[0m\u001b[0;34m.\u001b[0m\u001b[0minit\u001b[0m\u001b[0;34m(\u001b[0m\u001b[0mcrispr\u001b[0m\u001b[0;34m,\u001b[0m \u001b[0mupdate_half_resp\u001b[0m \u001b[0;34m=\u001b[0m \u001b[0;32mTrue\u001b[0m\u001b[0;34m)\u001b[0m\u001b[0;34m\u001b[0m\u001b[0;34m\u001b[0m\u001b[0m\n\u001b[1;32m     77\u001b[0m         \u001b[0msim\u001b[0m \u001b[0;34m=\u001b[0m \u001b[0msergio\u001b[0m\u001b[0;34m(\u001b[0m\u001b[0mnew_grn\u001b[0m\u001b[0;34m)\u001b[0m\u001b[0;34m\u001b[0m\u001b[0;34m\u001b[0m\u001b[0m\n\u001b[0;32m---> 78\u001b[0;31m         \u001b[0msim\u001b[0m\u001b[0;34m.\u001b[0m\u001b[0msimulate\u001b[0m\u001b[0;34m(\u001b[0m\u001b[0mnCells\u001b[0m \u001b[0;34m=\u001b[0m \u001b[0mnCells\u001b[0m\u001b[0;34m,\u001b[0m \u001b[0mnoise_s\u001b[0m \u001b[0;34m=\u001b[0m \u001b[0;36m1\u001b[0m\u001b[0;34m,\u001b[0m \u001b[0msafety_iter\u001b[0m \u001b[0;34m=\u001b[0m \u001b[0;36m150\u001b[0m\u001b[0;34m,\u001b[0m \u001b[0mscale_iter\u001b[0m \u001b[0;34m=\u001b[0m \u001b[0;36m10\u001b[0m\u001b[0;34m)\u001b[0m\u001b[0;34m\u001b[0m\u001b[0;34m\u001b[0m\u001b[0m\n\u001b[0m\u001b[1;32m     79\u001b[0m         \u001b[0;32mreturn\u001b[0m \u001b[0msim\u001b[0m\u001b[0;34m\u001b[0m\u001b[0;34m\u001b[0m\u001b[0m\n\u001b[1;32m     80\u001b[0m     \u001b[0;32mdef\u001b[0m \u001b[0mperturbation_all\u001b[0m\u001b[0;34m(\u001b[0m\u001b[0mself\u001b[0m\u001b[0;34m,\u001b[0m\u001b[0mnCells\u001b[0m\u001b[0;34m)\u001b[0m\u001b[0;34m:\u001b[0m\u001b[0;34m\u001b[0m\u001b[0;34m\u001b[0m\u001b[0m\n",
      "\u001b[0;32m~/Documents/Sergio_perturbation/SERGIO/_sergio.py\u001b[0m in \u001b[0;36msimulate\u001b[0;34m(self, nCells, noise_s, noise_u, safety_iter, scale_iter, dt)\u001b[0m\n\u001b[1;32m     77\u001b[0m \u001b[0;34m\u001b[0m\u001b[0m\n\u001b[1;32m     78\u001b[0m         \u001b[0;32mif\u001b[0m \u001b[0;32mnot\u001b[0m \u001b[0mself\u001b[0m\u001b[0;34m.\u001b[0m\u001b[0mdiff_graph_\u001b[0m\u001b[0;34m:\u001b[0m\u001b[0;34m\u001b[0m\u001b[0;34m\u001b[0m\u001b[0m\n\u001b[0;32m---> 79\u001b[0;31m             \u001b[0mself\u001b[0m\u001b[0;34m.\u001b[0m\u001b[0m_simulate_ss\u001b[0m\u001b[0;34m(\u001b[0m\u001b[0mself\u001b[0m\u001b[0;34m.\u001b[0m\u001b[0mnCells_\u001b[0m\u001b[0;34m,\u001b[0m \u001b[0mnoise_ss\u001b[0m \u001b[0;34m=\u001b[0m \u001b[0mnoise_s\u001b[0m\u001b[0;34m,\u001b[0m \u001b[0mdt\u001b[0m \u001b[0;34m=\u001b[0m \u001b[0mdt\u001b[0m\u001b[0;34m,\u001b[0m \u001b[0msafety_iter\u001b[0m \u001b[0;34m=\u001b[0m \u001b[0msafety_iter\u001b[0m\u001b[0;34m,\u001b[0m \u001b[0mscale_iter\u001b[0m \u001b[0;34m=\u001b[0m \u001b[0mscale_iter\u001b[0m\u001b[0;34m)\u001b[0m\u001b[0;34m\u001b[0m\u001b[0;34m\u001b[0m\u001b[0m\n\u001b[0m\u001b[1;32m     80\u001b[0m         \u001b[0;32melse\u001b[0m\u001b[0;34m:\u001b[0m\u001b[0;34m\u001b[0m\u001b[0;34m\u001b[0m\u001b[0m\n\u001b[1;32m     81\u001b[0m             \u001b[0;32mraise\u001b[0m \u001b[0mValueError\u001b[0m\u001b[0;34m(\u001b[0m\u001b[0;34m'not implement'\u001b[0m\u001b[0;34m)\u001b[0m\u001b[0;34m\u001b[0m\u001b[0;34m\u001b[0m\u001b[0m\n",
      "\u001b[0;32m~/Documents/Sergio_perturbation/SERGIO/_sergio.py\u001b[0m in \u001b[0;36m_simulate_ss\u001b[0;34m(self, nCells, noise_ss, dt, safety_iter, scale_iter)\u001b[0m\n\u001b[1;32m     62\u001b[0m         \u001b[0mnIter\u001b[0m \u001b[0;34m=\u001b[0m \u001b[0;36m0\u001b[0m\u001b[0;34m\u001b[0m\u001b[0;34m\u001b[0m\u001b[0m\n\u001b[1;32m     63\u001b[0m         \u001b[0;32mwhile\u001b[0m\u001b[0;34m(\u001b[0m\u001b[0mcTypes\u001b[0m\u001b[0;34m)\u001b[0m\u001b[0;34m:\u001b[0m\u001b[0;34m\u001b[0m\u001b[0;34m\u001b[0m\u001b[0m\n\u001b[0;32m---> 64\u001b[0;31m             \u001b[0mself\u001b[0m\u001b[0;34m.\u001b[0m\u001b[0m_iter_ss\u001b[0m\u001b[0;34m(\u001b[0m\u001b[0mnoise_ss\u001b[0m\u001b[0;34m,\u001b[0m \u001b[0mdt\u001b[0m\u001b[0;34m,\u001b[0m \u001b[0mcTypes\u001b[0m\u001b[0;34m)\u001b[0m\u001b[0;34m\u001b[0m\u001b[0;34m\u001b[0m\u001b[0m\n\u001b[0m\u001b[1;32m     65\u001b[0m             \u001b[0mnIter\u001b[0m \u001b[0;34m+=\u001b[0m \u001b[0;36m1\u001b[0m\u001b[0;34m\u001b[0m\u001b[0;34m\u001b[0m\u001b[0m\n\u001b[1;32m     66\u001b[0m             \u001b[0mcTypes\u001b[0m \u001b[0;34m=\u001b[0m \u001b[0mnp\u001b[0m\u001b[0;34m.\u001b[0m\u001b[0mwhere\u001b[0m\u001b[0;34m(\u001b[0m\u001b[0mreq\u001b[0m \u001b[0;34m>\u001b[0m \u001b[0mnIter\u001b[0m\u001b[0;34m)\u001b[0m\u001b[0;34m[\u001b[0m\u001b[0;36m0\u001b[0m\u001b[0;34m]\u001b[0m\u001b[0;34m.\u001b[0m\u001b[0mtolist\u001b[0m\u001b[0;34m(\u001b[0m\u001b[0;34m)\u001b[0m\u001b[0;34m\u001b[0m\u001b[0;34m\u001b[0m\u001b[0m\n",
      "\u001b[0;32m~/Documents/Sergio_perturbation/SERGIO/_sergio.py\u001b[0m in \u001b[0;36m_iter_ss\u001b[0;34m(self, noise_ss, dt, cTypes)\u001b[0m\n\u001b[1;32m     36\u001b[0m             \u001b[0mgene\u001b[0m \u001b[0;34m=\u001b[0m \u001b[0mself\u001b[0m\u001b[0;34m.\u001b[0m\u001b[0mgrn_\u001b[0m\u001b[0;34m.\u001b[0m\u001b[0mattr_\u001b[0m\u001b[0;34m[\u001b[0m\u001b[0;34m'genes'\u001b[0m\u001b[0;34m]\u001b[0m\u001b[0;34m[\u001b[0m\u001b[0mgn\u001b[0m\u001b[0;34m]\u001b[0m\u001b[0;34m\u001b[0m\u001b[0;34m\u001b[0m\u001b[0m\n\u001b[1;32m     37\u001b[0m             \u001b[0mX\u001b[0m\u001b[0;34m[\u001b[0m\u001b[0mri\u001b[0m\u001b[0;34m]\u001b[0m \u001b[0;34m=\u001b[0m \u001b[0mgene\u001b[0m\u001b[0;34m.\u001b[0m\u001b[0mget_last_conc\u001b[0m\u001b[0;34m(\u001b[0m\u001b[0mcTypes\u001b[0m\u001b[0;34m)\u001b[0m\u001b[0;34m\u001b[0m\u001b[0;34m\u001b[0m\u001b[0m\n\u001b[0;32m---> 38\u001b[0;31m             \u001b[0mP\u001b[0m\u001b[0;34m[\u001b[0m\u001b[0mri\u001b[0m\u001b[0;34m]\u001b[0m \u001b[0;34m=\u001b[0m \u001b[0mgene\u001b[0m\u001b[0;34m.\u001b[0m\u001b[0m_calc_prod\u001b[0m\u001b[0;34m(\u001b[0m\u001b[0mcTypes\u001b[0m\u001b[0;34m,\u001b[0m \u001b[0mregs_conc\u001b[0m \u001b[0;34m=\u001b[0m \u001b[0;34m'sim'\u001b[0m\u001b[0;34m)\u001b[0m\u001b[0;34m\u001b[0m\u001b[0;34m\u001b[0m\u001b[0m\n\u001b[0m\u001b[1;32m     39\u001b[0m \u001b[0;34m\u001b[0m\u001b[0m\n\u001b[1;32m     40\u001b[0m         \u001b[0mP\u001b[0m\u001b[0;34m[\u001b[0m\u001b[0mP\u001b[0m \u001b[0;34m<\u001b[0m \u001b[0;36m0\u001b[0m\u001b[0;34m]\u001b[0m \u001b[0;34m=\u001b[0m \u001b[0;36m0\u001b[0m \u001b[0;31m# numerical stability\u001b[0m\u001b[0;34m\u001b[0m\u001b[0;34m\u001b[0m\u001b[0m\n",
      "\u001b[0;32m~/Documents/Sergio_perturbation/SERGIO/GRN/_components.py\u001b[0m in \u001b[0;36m_calc_prod\u001b[0;34m(self, cTypes, regs_conc)\u001b[0m\n\u001b[1;32m     24\u001b[0m         \u001b[0mret\u001b[0m \u001b[0;34m=\u001b[0m \u001b[0mnp\u001b[0m\u001b[0;34m.\u001b[0m\u001b[0mzeros\u001b[0m\u001b[0;34m(\u001b[0m\u001b[0mshape\u001b[0m \u001b[0;34m=\u001b[0m \u001b[0;34m(\u001b[0m\u001b[0mlen\u001b[0m\u001b[0;34m(\u001b[0m\u001b[0mcTypes\u001b[0m\u001b[0;34m)\u001b[0m\u001b[0;34m,\u001b[0m\u001b[0;34m)\u001b[0m\u001b[0;34m)\u001b[0m\u001b[0;34m\u001b[0m\u001b[0;34m\u001b[0m\u001b[0m\n\u001b[1;32m     25\u001b[0m         \u001b[0;32mfor\u001b[0m \u001b[0mi\u001b[0m \u001b[0;32min\u001b[0m \u001b[0mself\u001b[0m\u001b[0;34m.\u001b[0m\u001b[0minInteractions\u001b[0m\u001b[0;34m.\u001b[0m\u001b[0mkeys\u001b[0m\u001b[0;34m(\u001b[0m\u001b[0;34m)\u001b[0m\u001b[0;34m:\u001b[0m\u001b[0;34m\u001b[0m\u001b[0;34m\u001b[0m\u001b[0m\n\u001b[0;32m---> 26\u001b[0;31m             \u001b[0mret\u001b[0m \u001b[0;34m+=\u001b[0m \u001b[0mself\u001b[0m\u001b[0;34m.\u001b[0m\u001b[0minInteractions\u001b[0m\u001b[0;34m[\u001b[0m\u001b[0mi\u001b[0m\u001b[0;34m]\u001b[0m\u001b[0;34m.\u001b[0m\u001b[0m_get_hill\u001b[0m\u001b[0;34m(\u001b[0m\u001b[0mcTypes\u001b[0m\u001b[0;34m,\u001b[0m \u001b[0mregs_conc\u001b[0m \u001b[0;34m=\u001b[0m \u001b[0mregs_conc\u001b[0m\u001b[0;34m)\u001b[0m\u001b[0;34m\u001b[0m\u001b[0;34m\u001b[0m\u001b[0m\n\u001b[0m\u001b[1;32m     27\u001b[0m         \u001b[0;31m#to implement the effect of basal production in Crispr experiments\u001b[0m\u001b[0;34m\u001b[0m\u001b[0;34m\u001b[0m\u001b[0m\n\u001b[1;32m     28\u001b[0m         \u001b[0;32mif\u001b[0m \u001b[0mself\u001b[0m\u001b[0;34m.\u001b[0m\u001b[0mprod_rates_\u001b[0m \u001b[0;32mis\u001b[0m \u001b[0;32mnot\u001b[0m \u001b[0;32mNone\u001b[0m\u001b[0;34m:\u001b[0m\u001b[0;34m\u001b[0m\u001b[0;34m\u001b[0m\u001b[0m\n",
      "\u001b[0;32m~/Documents/Sergio_perturbation/SERGIO/GRN/_components.py\u001b[0m in \u001b[0;36m_get_hill\u001b[0;34m(self, cTypes, regs_conc)\u001b[0m\n\u001b[1;32m     63\u001b[0m             \u001b[0mx\u001b[0m \u001b[0;34m=\u001b[0m \u001b[0mself\u001b[0m\u001b[0;34m.\u001b[0m\u001b[0mreg_\u001b[0m\u001b[0;34m[\u001b[0m\u001b[0;36m0\u001b[0m\u001b[0;34m]\u001b[0m\u001b[0;34m.\u001b[0m\u001b[0mss_conc_\u001b[0m\u001b[0;34m[\u001b[0m\u001b[0mcTypes\u001b[0m\u001b[0;34m]\u001b[0m \u001b[0;31m#np.arr\u001b[0m\u001b[0;34m\u001b[0m\u001b[0;34m\u001b[0m\u001b[0m\n\u001b[1;32m     64\u001b[0m         \u001b[0;32melse\u001b[0m\u001b[0;34m:\u001b[0m\u001b[0;34m\u001b[0m\u001b[0;34m\u001b[0m\u001b[0m\n\u001b[0;32m---> 65\u001b[0;31m             \u001b[0mx\u001b[0m \u001b[0;34m=\u001b[0m \u001b[0mself\u001b[0m\u001b[0;34m.\u001b[0m\u001b[0mreg_\u001b[0m\u001b[0;34m[\u001b[0m\u001b[0;36m0\u001b[0m\u001b[0;34m]\u001b[0m\u001b[0;34m.\u001b[0m\u001b[0mget_last_conc\u001b[0m\u001b[0;34m(\u001b[0m\u001b[0mcTypes\u001b[0m\u001b[0;34m)\u001b[0m \u001b[0;31m#np.arr\u001b[0m\u001b[0;34m\u001b[0m\u001b[0;34m\u001b[0m\u001b[0m\n\u001b[0m\u001b[1;32m     66\u001b[0m \u001b[0;34m\u001b[0m\u001b[0m\n\u001b[1;32m     67\u001b[0m         \u001b[0mret\u001b[0m \u001b[0;34m=\u001b[0m \u001b[0mnp\u001b[0m\u001b[0;34m.\u001b[0m\u001b[0mpower\u001b[0m\u001b[0;34m(\u001b[0m\u001b[0mx\u001b[0m\u001b[0;34m,\u001b[0m \u001b[0mself\u001b[0m\u001b[0;34m.\u001b[0m\u001b[0mn_\u001b[0m\u001b[0;34m)\u001b[0m \u001b[0;34m/\u001b[0m \u001b[0;34m(\u001b[0m\u001b[0mnp\u001b[0m\u001b[0;34m.\u001b[0m\u001b[0mpower\u001b[0m\u001b[0;34m(\u001b[0m\u001b[0mx\u001b[0m\u001b[0;34m,\u001b[0m \u001b[0mself\u001b[0m\u001b[0;34m.\u001b[0m\u001b[0mn_\u001b[0m\u001b[0;34m)\u001b[0m \u001b[0;34m+\u001b[0m \u001b[0mnp\u001b[0m\u001b[0;34m.\u001b[0m\u001b[0mpower\u001b[0m\u001b[0;34m(\u001b[0m\u001b[0mself\u001b[0m\u001b[0;34m.\u001b[0m\u001b[0mh_\u001b[0m\u001b[0;34m,\u001b[0m \u001b[0mself\u001b[0m\u001b[0;34m.\u001b[0m\u001b[0mn_\u001b[0m\u001b[0;34m)\u001b[0m\u001b[0;34m)\u001b[0m\u001b[0;34m\u001b[0m\u001b[0;34m\u001b[0m\u001b[0m\n",
      "\u001b[0;32m~/Documents/Sergio_perturbation/SERGIO/GRN/_components.py\u001b[0m in \u001b[0;36mget_last_conc\u001b[0;34m(self, cTypes)\u001b[0m\n\u001b[1;32m     36\u001b[0m \u001b[0;34m\u001b[0m\u001b[0m\n\u001b[1;32m     37\u001b[0m     \u001b[0;32mdef\u001b[0m \u001b[0mget_last_conc\u001b[0m\u001b[0;34m(\u001b[0m\u001b[0mself\u001b[0m\u001b[0;34m,\u001b[0m \u001b[0mcTypes\u001b[0m\u001b[0;34m)\u001b[0m\u001b[0;34m:\u001b[0m\u001b[0;34m\u001b[0m\u001b[0;34m\u001b[0m\u001b[0m\n\u001b[0;32m---> 38\u001b[0;31m         \u001b[0mret\u001b[0m \u001b[0;34m=\u001b[0m \u001b[0;34m[\u001b[0m\u001b[0mself\u001b[0m\u001b[0;34m.\u001b[0m\u001b[0msim_conc_\u001b[0m\u001b[0;34m[\u001b[0m\u001b[0mct\u001b[0m\u001b[0;34m]\u001b[0m\u001b[0;34m[\u001b[0m\u001b[0;34m-\u001b[0m\u001b[0;36m1\u001b[0m\u001b[0;34m]\u001b[0m \u001b[0;32mfor\u001b[0m \u001b[0mct\u001b[0m \u001b[0;32min\u001b[0m \u001b[0mcTypes\u001b[0m\u001b[0;34m]\u001b[0m\u001b[0;34m\u001b[0m\u001b[0;34m\u001b[0m\u001b[0m\n\u001b[0m\u001b[1;32m     39\u001b[0m         \u001b[0;32mreturn\u001b[0m \u001b[0mnp\u001b[0m\u001b[0;34m.\u001b[0m\u001b[0marray\u001b[0m\u001b[0;34m(\u001b[0m\u001b[0mret\u001b[0m\u001b[0;34m)\u001b[0m\u001b[0;34m\u001b[0m\u001b[0;34m\u001b[0m\u001b[0m\n\u001b[1;32m     40\u001b[0m \u001b[0;34m\u001b[0m\u001b[0m\n",
      "\u001b[0;32m~/Documents/Sergio_perturbation/SERGIO/GRN/_components.py\u001b[0m in \u001b[0;36m<listcomp>\u001b[0;34m(.0)\u001b[0m\n\u001b[1;32m     36\u001b[0m \u001b[0;34m\u001b[0m\u001b[0m\n\u001b[1;32m     37\u001b[0m     \u001b[0;32mdef\u001b[0m \u001b[0mget_last_conc\u001b[0m\u001b[0;34m(\u001b[0m\u001b[0mself\u001b[0m\u001b[0;34m,\u001b[0m \u001b[0mcTypes\u001b[0m\u001b[0;34m)\u001b[0m\u001b[0;34m:\u001b[0m\u001b[0;34m\u001b[0m\u001b[0;34m\u001b[0m\u001b[0m\n\u001b[0;32m---> 38\u001b[0;31m         \u001b[0mret\u001b[0m \u001b[0;34m=\u001b[0m \u001b[0;34m[\u001b[0m\u001b[0mself\u001b[0m\u001b[0;34m.\u001b[0m\u001b[0msim_conc_\u001b[0m\u001b[0;34m[\u001b[0m\u001b[0mct\u001b[0m\u001b[0;34m]\u001b[0m\u001b[0;34m[\u001b[0m\u001b[0;34m-\u001b[0m\u001b[0;36m1\u001b[0m\u001b[0;34m]\u001b[0m \u001b[0;32mfor\u001b[0m \u001b[0mct\u001b[0m \u001b[0;32min\u001b[0m \u001b[0mcTypes\u001b[0m\u001b[0;34m]\u001b[0m\u001b[0;34m\u001b[0m\u001b[0;34m\u001b[0m\u001b[0m\n\u001b[0m\u001b[1;32m     39\u001b[0m         \u001b[0;32mreturn\u001b[0m \u001b[0mnp\u001b[0m\u001b[0;34m.\u001b[0m\u001b[0marray\u001b[0m\u001b[0;34m(\u001b[0m\u001b[0mret\u001b[0m\u001b[0;34m)\u001b[0m\u001b[0;34m\u001b[0m\u001b[0;34m\u001b[0m\u001b[0m\n\u001b[1;32m     40\u001b[0m \u001b[0;34m\u001b[0m\u001b[0m\n",
      "\u001b[0;31mKeyboardInterrupt\u001b[0m: "
     ]
    }
   ],
   "source": [
    "pert = perturbation(50)\n",
    "pert.perturbation_all(nCells=10)"
   ]
  },
  {
   "cell_type": "code",
   "execution_count": 3,
   "id": "393fdbbc",
   "metadata": {},
   "outputs": [],
   "source": [
    "pert.save('pert_10')"
   ]
  },
  {
   "cell_type": "code",
   "execution_count": 7,
   "id": "1dc7a21c",
   "metadata": {},
   "outputs": [],
   "source": [
    "import pickle\n",
    "pickle.dump?"
   ]
  },
  {
   "cell_type": "code",
   "execution_count": 4,
   "id": "e8c8151a",
   "metadata": {},
   "outputs": [],
   "source": [
    "pert.load('pert_10')"
   ]
  },
  {
   "cell_type": "code",
   "execution_count": 5,
   "id": "24560f2d",
   "metadata": {},
   "outputs": [
    {
     "data": {
      "text/plain": [
       "array([[[[0.00000000e+00, 1.07644500e-01, 2.00254368e-01,\n",
       "          3.15047724e-02, 0.00000000e+00, 9.91562830e-02,\n",
       "          2.00254368e-01, 1.52326733e-01, 1.45232398e-01,\n",
       "          2.12374233e-01],\n",
       "         [3.87152751e+00, 3.82110445e+00, 4.20384171e+00,\n",
       "          2.72978465e+00, 4.14533028e+00, 3.66240337e+00,\n",
       "          4.20384171e+00, 3.49483939e+00, 4.19844366e+00,\n",
       "          3.17552036e+00],\n",
       "         [7.19312223e+00, 8.16663076e+00, 8.28894991e+00,\n",
       "          7.67124380e+00, 8.02660001e+00, 7.51668214e+00,\n",
       "          8.28894991e+00, 6.31544570e+00, 8.52381962e+00,\n",
       "          6.26944109e+00],\n",
       "         [1.27698252e-01, 4.37413958e-01, 1.01735568e-01,\n",
       "          6.53540987e-02, 5.10127547e-01, 6.07956638e-01,\n",
       "          1.01735568e-01, 5.91108159e-01, 7.41290822e-02,\n",
       "          6.32171083e-01],\n",
       "         [1.58445139e+00, 1.08792231e+00, 1.22927771e+00,\n",
       "          1.53669167e+00, 1.52341030e+00, 7.96520363e-01,\n",
       "          1.22927771e+00, 9.10082770e-01, 1.46160539e+00,\n",
       "          9.54253707e-01],\n",
       "         [3.55955203e+00, 3.90474870e+00, 3.93828964e+00,\n",
       "          3.68073506e+00, 4.06768885e+00, 3.85056729e+00,\n",
       "          3.93828964e+00, 2.89346432e+00, 3.98887001e+00,\n",
       "          2.81467659e+00],\n",
       "         [7.21659404e+00, 4.98435460e+00, 7.35169144e+00,\n",
       "          6.74306731e+00, 6.81223721e+00, 5.06129533e+00,\n",
       "          7.35169144e+00, 6.19278052e+00, 7.63963910e+00,\n",
       "          6.52863508e+00]],\n",
       "\n",
       "        [[1.75557771e+00, 2.30883148e+00, 1.56263116e+00,\n",
       "          2.45594016e+00, 1.28371711e+00, 1.10263564e+00,\n",
       "          1.05864436e+00, 1.44425730e+00, 2.17091465e+00,\n",
       "          2.09501544e+00],\n",
       "         [0.00000000e+00, 0.00000000e+00, 6.26676411e-02,\n",
       "          1.01528829e-01, 6.34405432e-02, 7.18915234e-02,\n",
       "          1.00720258e-01, 2.76173223e-01, 1.25732464e-01,\n",
       "          1.08590811e-02],\n",
       "         [2.79444955e+00, 3.31730623e+00, 3.58375710e+00,\n",
       "          2.99090966e+00, 3.54203022e+00, 3.66302175e+00,\n",
       "          3.55384402e+00, 3.74465881e+00, 3.85842032e+00,\n",
       "          2.92152620e+00],\n",
       "         [4.35379649e-01, 2.09408652e-01, 2.07667177e-01,\n",
       "          6.48567658e-01, 3.60200608e-02, 7.40896902e-01,\n",
       "          4.60284799e-01, 7.67407710e-01, 6.20096070e-01,\n",
       "          7.50465192e-01],\n",
       "         [5.03943250e-02, 7.99964919e-02, 1.79971077e-01,\n",
       "          0.00000000e+00, 1.38230511e-01, 1.00506165e-01,\n",
       "          1.60125673e-01, 2.47094516e-01, 1.10597255e-01,\n",
       "          0.00000000e+00],\n",
       "         [8.20056306e-01, 7.65734949e-01, 1.21500521e+00,\n",
       "          3.83398393e-01, 1.47424146e+00, 2.72652065e+00,\n",
       "          1.47316171e+00, 2.43626717e+00, 1.72173301e+00,\n",
       "          7.29246038e-01],\n",
       "         [2.67623852e+00, 2.97786830e+00, 3.61713634e+00,\n",
       "          3.51773649e+00, 3.85876140e+00, 4.33528238e+00,\n",
       "          3.77657027e+00, 4.35345795e+00, 3.94726818e+00,\n",
       "          4.01658233e+00]],\n",
       "\n",
       "        [[7.39628740e+00, 9.70851663e+00, 7.28693015e+00,\n",
       "          7.71196866e+00, 7.39628740e+00, 7.07500316e+00,\n",
       "          9.49594148e+00, 9.73594837e+00, 9.03222294e+00,\n",
       "          8.68026055e+00],\n",
       "         [1.29540143e+01, 1.16021612e+01, 1.29675076e+01,\n",
       "          1.42761863e+01, 1.29540143e+01, 1.34451351e+01,\n",
       "          1.12578255e+01, 1.02947526e+01, 1.31579281e+01,\n",
       "          1.10524927e+01],\n",
       "         [3.75785249e-01, 6.02630211e-02, 2.83011682e-01,\n",
       "          5.44249134e-01, 3.75785249e-01, 5.68636411e-01,\n",
       "          6.55331212e-02, 3.15155300e-03, 1.86682649e-01,\n",
       "          1.20371997e-01],\n",
       "         [1.63048647e+00, 4.25482727e-01, 1.57717341e+00,\n",
       "          2.41542777e+00, 1.63048647e+00, 2.23583543e+00,\n",
       "          1.04934841e+00, 1.33692924e-01, 1.70535559e+00,\n",
       "          1.00250000e+00],\n",
       "         [2.44621737e+00, 4.43737634e+00, 2.44761508e+00,\n",
       "          3.46913460e+00, 2.44621737e+00, 3.46528435e+00,\n",
       "          3.87823951e+00, 4.67193333e+00, 2.42157161e+00,\n",
       "          3.92665328e+00],\n",
       "         [7.11651450e-01, 7.60436625e-01, 5.50738138e-01,\n",
       "          8.57107309e-01, 7.11651450e-01, 6.65857054e-01,\n",
       "          2.82496847e-01, 6.30724063e-01, 2.81426197e-01,\n",
       "          3.84105061e-01],\n",
       "         [4.43106998e+00, 5.20937164e+00, 4.61702806e+00,\n",
       "          4.11951470e+00, 4.43106998e+00, 3.95269353e+00,\n",
       "          5.51081089e+00, 5.43310613e+00, 5.31390209e+00,\n",
       "          5.11659511e+00]],\n",
       "\n",
       "        [[4.34834808e+00, 3.47961437e+00, 4.97007572e+00,\n",
       "          4.87400842e+00, 3.58504032e+00, 4.42253973e+00,\n",
       "          2.83092323e+00, 3.11103238e+00, 3.11103238e+00,\n",
       "          4.07146265e+00],\n",
       "         [5.24340922e+00, 3.92075209e+00, 5.20820518e+00,\n",
       "          3.75088323e+00, 5.41591938e+00, 5.07101271e+00,\n",
       "          3.27745263e+00, 3.94769146e+00, 3.94769146e+00,\n",
       "          5.66942273e+00],\n",
       "         [4.72855514e+00, 3.80479834e+00, 5.15493649e+00,\n",
       "          3.81115790e+00, 4.32689917e+00, 4.11117155e+00,\n",
       "          2.83096978e+00, 3.52941920e+00, 3.52941920e+00,\n",
       "          4.55588220e+00],\n",
       "         [2.64261389e-01, 0.00000000e+00, 1.34594910e-01,\n",
       "          3.32525239e-02, 2.39141745e-01, 2.15426011e-01,\n",
       "          6.36947471e-02, 1.44536514e-01, 1.44536514e-01,\n",
       "          1.00232777e-01],\n",
       "         [1.06464262e+00, 6.28991941e-01, 1.02316474e+00,\n",
       "          3.53329950e-01, 6.75451687e-01, 7.48672475e-01,\n",
       "          6.40305700e-01, 3.89967829e-01, 3.89967829e-01,\n",
       "          9.74376742e-01],\n",
       "         [4.01957500e+00, 2.02073855e+00, 3.87103216e+00,\n",
       "          2.06304675e+00, 2.27818472e+00, 3.77544276e+00,\n",
       "          1.89261357e+00, 1.53123830e+00, 1.53123830e+00,\n",
       "          3.48267965e+00],\n",
       "         [4.90645659e+00, 5.68013265e+00, 4.77128334e+00,\n",
       "          6.50184768e+00, 5.12071085e+00, 5.24213420e+00,\n",
       "          5.54532621e+00, 6.38835479e+00, 6.38835479e+00,\n",
       "          4.91117991e+00]],\n",
       "\n",
       "        [[7.96633166e+00, 6.47324934e+00, 8.12319102e+00,\n",
       "          8.01403355e+00, 6.23969556e+00, 6.95479871e+00,\n",
       "          8.12319102e+00, 7.75365003e+00, 3.96522730e+00,\n",
       "          4.07568008e+00],\n",
       "         [8.15284293e+00, 5.29086217e+00, 7.89752798e+00,\n",
       "          7.72616352e+00, 5.57894653e+00, 5.96743563e+00,\n",
       "          7.89752798e+00, 6.00556465e+00, 5.43640394e+00,\n",
       "          5.16831251e+00],\n",
       "         [1.19820631e+01, 9.22877171e+00, 1.14106915e+01,\n",
       "          1.05799540e+01, 1.25857089e+01, 1.19898202e+01,\n",
       "          1.14106915e+01, 1.04515257e+01, 9.92213198e+00,\n",
       "          8.22589523e+00],\n",
       "         [1.51122129e-01, 3.69764301e-01, 2.26122534e-01,\n",
       "          3.33868534e-01, 2.78806399e-01, 3.42983974e-01,\n",
       "          2.26122534e-01, 1.65302994e-01, 1.34410336e+00,\n",
       "          6.08461648e-01],\n",
       "         [4.55084682e-01, 3.16659267e-01, 6.63937981e-01,\n",
       "          5.87383782e-01, 9.07625618e-01, 1.00473601e+00,\n",
       "          6.63937981e-01, 5.89748142e-01, 1.15604848e-01,\n",
       "          4.62891916e-02],\n",
       "         [1.81755571e-01, 2.86654726e-01, 4.69946387e-01,\n",
       "          3.70480521e-01, 0.00000000e+00, 5.21890835e-02,\n",
       "          4.69946387e-01, 1.69777363e-01, 9.45870258e-01,\n",
       "          1.95830941e-01],\n",
       "         [4.81028230e+00, 3.45351342e+00, 4.66587694e+00,\n",
       "          4.61221765e+00, 4.15349051e+00, 4.61831582e+00,\n",
       "          4.66587694e+00, 4.65138289e+00, 4.85311165e+00,\n",
       "          7.98662501e+00]],\n",
       "\n",
       "        [[2.77626833e+00, 3.60474330e+00, 3.42077115e+00,\n",
       "          4.67583115e+00, 4.36640530e+00, 4.18758526e+00,\n",
       "          4.20382921e+00, 2.88787343e+00, 3.23988374e+00,\n",
       "          2.91618154e+00],\n",
       "         [5.55635887e+00, 7.56802894e+00, 7.07798349e+00,\n",
       "          8.33290460e+00, 6.38771717e+00, 5.85134958e+00,\n",
       "          6.60471501e+00, 6.60981749e+00, 5.22468644e+00,\n",
       "          6.28325442e+00],\n",
       "         [2.34843045e+00, 1.07373969e+00, 9.96492451e-01,\n",
       "          3.82276603e+00, 2.91699006e+00, 1.30156095e+00,\n",
       "          2.07375464e+00, 5.50781394e-01, 2.28467946e+00,\n",
       "          6.37278161e-01],\n",
       "         [2.22521443e+00, 9.15413090e-01, 1.27887586e+00,\n",
       "          3.57872783e+00, 2.08229952e+00, 9.59337385e-01,\n",
       "          1.11513157e+00, 1.29442737e+00, 2.03065856e+00,\n",
       "          1.70400367e+00],\n",
       "         [1.14166907e+00, 1.24490656e+00, 1.02406888e+00,\n",
       "          1.64144508e+00, 1.02227158e+00, 8.46075728e-01,\n",
       "          1.08218530e+00, 8.87167752e-01, 1.56719806e+00,\n",
       "          1.31715161e+00],\n",
       "         [4.28820007e-01, 3.77477495e-01, 3.91464026e-01,\n",
       "          7.97795278e-02, 2.10649748e-02, 0.00000000e+00,\n",
       "          2.10524775e-01, 2.85532799e-01, 4.99998071e-01,\n",
       "          1.44656375e-01],\n",
       "         [4.70192581e+00, 4.19985978e+00, 4.29022115e+00,\n",
       "          7.45253491e+00, 6.51213703e+00, 4.79684043e+00,\n",
       "          5.63359637e+00, 4.13299007e+00, 4.96896374e+00,\n",
       "          4.18781505e+00]],\n",
       "\n",
       "        [[2.93505877e+00, 5.49533001e+00, 3.03218190e+00,\n",
       "          4.57643742e+00, 5.05450855e+00, 2.52301995e+00,\n",
       "          4.98309231e+00, 5.44182540e+00, 3.26387325e+00,\n",
       "          3.08510952e+00],\n",
       "         [9.86961588e+00, 9.76050795e+00, 9.25851235e+00,\n",
       "          6.80908341e+00, 6.71146460e+00, 8.65221760e+00,\n",
       "          8.97363666e+00, 7.12395703e+00, 9.24577670e+00,\n",
       "          9.52747086e+00],\n",
       "         [6.32142693e+00, 5.01532837e+00, 8.92429144e+00,\n",
       "          6.54456782e+00, 6.69251878e+00, 8.81037572e+00,\n",
       "          6.01929079e+00, 7.05166585e+00, 8.05048178e+00,\n",
       "          6.80154711e+00],\n",
       "         [2.53610321e+00, 1.43531071e+00, 2.29304698e+00,\n",
       "          1.94069531e+00, 1.92598822e+00, 2.35545338e+00,\n",
       "          1.97447683e+00, 1.99891318e+00, 2.26551212e+00,\n",
       "          2.31889656e+00],\n",
       "         [1.11617324e+00, 1.04268380e+00, 1.76475825e+00,\n",
       "          1.19851002e+00, 1.82461629e+00, 1.13810127e+00,\n",
       "          1.01588927e+00, 2.18818599e+00, 1.85418956e+00,\n",
       "          1.25592863e+00],\n",
       "         [9.52951852e-01, 7.07310048e-01, 1.13048563e+00,\n",
       "          5.61573981e-01, 2.39017370e-01, 1.58225818e+00,\n",
       "          1.02269307e+00, 3.56725019e-01, 1.27352596e+00,\n",
       "          6.95302588e-01],\n",
       "         [1.37908854e+00, 2.05327582e+00, 1.55839889e+00,\n",
       "          2.50483281e+00, 1.95599315e+00, 1.62690245e+00,\n",
       "          1.92136872e+00, 2.12852974e+00, 1.46109310e+00,\n",
       "          1.85964600e+00]]],\n",
       "\n",
       "\n",
       "       [[[7.12632928e+00, 7.92091254e+00, 8.33878627e+00,\n",
       "          1.15888589e+01, 1.15416545e+01, 1.15142408e+01,\n",
       "          1.22849224e+01, 7.08828549e+00, 1.17335275e+01,\n",
       "          6.74805414e+00],\n",
       "         [9.46518680e+00, 8.06274942e+00, 1.16410489e+01,\n",
       "          7.39206644e+00, 6.57229127e+00, 7.23631737e+00,\n",
       "          7.46842914e+00, 1.08122093e+01, 7.39021476e+00,\n",
       "          9.42927705e+00],\n",
       "         [1.18300551e+01, 8.45034169e+00, 1.20370112e+01,\n",
       "          1.10484852e+01, 1.11018432e+01, 1.14874661e+01,\n",
       "          1.07397447e+01, 1.22747613e+01, 1.11443571e+01,\n",
       "          1.08596508e+01],\n",
       "         [1.26096070e+00, 1.45805428e+00, 1.65513707e+00,\n",
       "          1.02349755e+00, 9.48490971e-01, 1.10545200e+00,\n",
       "          8.53703233e-01, 1.52046042e+00, 8.96853120e-01,\n",
       "          1.46328902e+00],\n",
       "         [1.01196994e+00, 6.60784146e-02, 1.32531692e+00,\n",
       "          4.47309735e-01, 5.81663022e-01, 6.39759857e-01,\n",
       "          4.98842283e-01, 1.35120754e+00, 7.22413212e-01,\n",
       "          1.47635713e+00],\n",
       "         [7.08643161e-01, 2.27586116e-01, 3.88785704e-01,\n",
       "          8.91123371e-01, 1.42637062e+00, 1.30375592e+00,\n",
       "          1.63758611e+00, 6.02496846e-01, 1.65519328e+00,\n",
       "          7.53361187e-01],\n",
       "         [4.10568743e+00, 4.99146074e+00, 2.79281922e+00,\n",
       "          5.24394796e+00, 3.97680495e+00, 4.27911139e+00,\n",
       "          3.20044075e+00, 3.28482330e+00, 3.18886042e+00,\n",
       "          5.26560775e+00]],\n",
       "\n",
       "        [[8.31936422e+00, 6.04293229e+00, 5.95482172e+00,\n",
       "          8.67184356e+00, 6.07634608e+00, 6.44823553e+00,\n",
       "          5.69825479e+00, 7.91372221e+00, 6.21333320e+00,\n",
       "          5.47524712e+00],\n",
       "         [8.11897845e+00, 9.08516619e+00, 8.40282037e+00,\n",
       "          8.35003335e+00, 7.01969922e+00, 6.39018257e+00,\n",
       "          6.52996994e+00, 8.53123259e+00, 8.17846617e+00,\n",
       "          9.15058430e+00],\n",
       "         [5.32551633e+00, 4.94199061e+00, 4.44422721e+00,\n",
       "          4.94966235e+00, 3.91551096e+00, 4.33025444e+00,\n",
       "          4.49804073e+00, 5.57542270e+00, 5.12484421e+00,\n",
       "          5.33953532e+00],\n",
       "         [2.09171060e-01, 1.15368256e+00, 1.02831417e-01,\n",
       "          0.00000000e+00, 3.09511374e-01, 1.36358699e-01,\n",
       "          1.37410590e-01, 3.52566339e-01, 1.95136927e-01,\n",
       "          1.14132236e+00],\n",
       "         [4.70725546e-02, 7.37654056e-01, 6.62413559e-02,\n",
       "          3.52925667e-02, 8.75779790e-02, 6.53412094e-02,\n",
       "          1.25974097e-01, 0.00000000e+00, 8.64996506e-02,\n",
       "          8.54766066e-01],\n",
       "         [3.06239252e-01, 1.36327745e+00, 1.06231024e+00,\n",
       "          6.52274904e-01, 1.10882289e+00, 8.31597281e-01,\n",
       "          1.27569717e+00, 5.87540397e-01, 9.06897486e-01,\n",
       "          1.38890539e+00],\n",
       "         [4.55914916e+00, 6.13386411e+00, 5.59943987e+00,\n",
       "          3.98478206e+00, 4.41042498e+00, 4.10319916e+00,\n",
       "          4.47558047e+00, 4.34529951e+00, 5.62622510e+00,\n",
       "          6.31290528e+00]],\n",
       "\n",
       "        [[3.33996924e+00, 3.78199230e+00, 1.59479039e+00,\n",
       "          2.30429623e+00, 3.67534218e+00, 2.90959057e+00,\n",
       "          3.73190683e+00, 2.61055202e+00, 2.30429623e+00,\n",
       "          3.14949109e+00],\n",
       "         [1.16362741e+01, 1.03983035e+01, 8.04416850e+00,\n",
       "          8.17913017e+00, 8.99820934e+00, 1.20173146e+01,\n",
       "          1.05074696e+01, 7.55147237e+00, 8.17913017e+00,\n",
       "          8.70506880e+00],\n",
       "         [7.13083396e+00, 9.08394866e+00, 7.78853451e+00,\n",
       "          7.05064188e+00, 8.16832373e+00, 7.29529820e+00,\n",
       "          9.02958644e+00, 6.90721396e+00, 7.05064188e+00,\n",
       "          8.43127894e+00],\n",
       "         [1.13696009e+00, 9.78811149e-01, 6.32178790e-01,\n",
       "          7.57072336e-01, 4.70423910e-01, 1.02330613e+00,\n",
       "          8.55098820e-01, 1.30263527e+00, 7.57072336e-01,\n",
       "          1.05564728e+00],\n",
       "         [3.14738440e-01, 7.90656752e-01, 6.83697780e-01,\n",
       "          2.89467957e-01, 5.72973931e-01, 2.95742014e-01,\n",
       "          3.89566753e-01, 2.24004563e-01, 2.89467957e-01,\n",
       "          2.89650433e-01],\n",
       "         [9.35843662e-02, 3.81877244e-01, 4.24683454e-01,\n",
       "          8.99702758e-02, 1.28543682e-01, 3.28979274e-01,\n",
       "          3.92782646e-01, 2.09739259e-01, 8.99702758e-02,\n",
       "          2.52424049e-01],\n",
       "         [4.84690890e+00, 5.95314778e+00, 6.67750060e+00,\n",
       "          4.81656026e+00, 4.06524911e+00, 4.29313388e+00,\n",
       "          4.19835068e+00, 5.15698510e+00, 4.81656026e+00,\n",
       "          4.91854105e+00]],\n",
       "\n",
       "        [[6.98660758e+00, 6.74541119e+00, 6.75214574e+00,\n",
       "          5.81546605e+00, 6.99793846e+00, 6.23139511e+00,\n",
       "          6.64529237e+00, 6.35294648e+00, 6.00102686e+00,\n",
       "          6.41020237e+00],\n",
       "         [7.54310692e+00, 9.81322787e+00, 1.02429825e+01,\n",
       "          1.21708482e+01, 8.37316403e+00, 1.07460012e+01,\n",
       "          9.66413846e+00, 8.81811803e+00, 1.08189943e+01,\n",
       "          9.80291557e+00],\n",
       "         [6.68363155e+00, 6.61895477e+00, 7.25570696e+00,\n",
       "          6.57908193e+00, 5.58651754e+00, 6.75211971e+00,\n",
       "          5.65837602e+00, 5.77424378e+00, 6.39162278e+00,\n",
       "          8.23678250e+00],\n",
       "         [9.52329782e+00, 1.01753899e+01, 9.78228376e+00,\n",
       "          1.22766404e+01, 9.34474101e+00, 9.98802331e+00,\n",
       "          1.08245569e+01, 1.03274762e+01, 9.85649761e+00,\n",
       "          8.78179096e+00],\n",
       "         [1.42858022e+00, 1.84610387e+00, 1.68624790e+00,\n",
       "          1.62492202e+00, 6.45983744e-01, 9.79953067e-01,\n",
       "          1.76799275e+00, 1.23670551e+00, 1.04875703e+00,\n",
       "          1.92539757e+00],\n",
       "         [1.71454092e+00, 3.34898017e-01, 2.54903134e-01,\n",
       "          1.27194835e+00, 1.06599132e+00, 1.27557581e+00,\n",
       "          3.06337404e-01, 0.00000000e+00, 1.22789938e+00,\n",
       "          5.69817369e-02],\n",
       "         [6.83905785e+00, 8.12740362e+00, 8.32871977e+00,\n",
       "          9.08749813e+00, 5.93678501e+00, 7.76220302e+00,\n",
       "          9.51263509e+00, 9.61575601e+00, 7.40292460e+00,\n",
       "          8.16205542e+00]],\n",
       "\n",
       "        [[2.69526360e+00, 3.86324654e+00, 5.38954273e+00,\n",
       "          4.51316162e+00, 3.24870254e+00, 6.05253999e+00,\n",
       "          6.12407752e+00, 4.15741468e+00, 3.56861071e+00,\n",
       "          5.38954273e+00],\n",
       "         [2.95881166e+00, 6.38786589e+00, 5.26177481e+00,\n",
       "          6.46219100e+00, 2.97884516e+00, 5.76052241e+00,\n",
       "          5.86779896e+00, 6.17112975e+00, 3.02187391e+00,\n",
       "          5.26177481e+00],\n",
       "         [9.04086092e+00, 1.08641283e+01, 1.20237044e+01,\n",
       "          1.10062486e+01, 7.94251491e+00, 1.04084549e+01,\n",
       "          1.06343428e+01, 1.08065537e+01, 7.82832972e+00,\n",
       "          1.20237044e+01],\n",
       "         [4.89668553e-01, 7.10263262e-01, 6.95048479e-01,\n",
       "          5.19136527e-01, 7.86750346e-01, 7.68595659e-01,\n",
       "          7.65303807e-01, 7.37378484e-01, 9.61328792e-01,\n",
       "          6.95048479e-01],\n",
       "         [6.86079615e+00, 5.24221984e+00, 6.13187549e+00,\n",
       "          5.18308820e+00, 6.53571927e+00, 4.78525774e+00,\n",
       "          4.81209568e+00, 5.68163722e+00, 6.23738367e+00,\n",
       "          6.13187549e+00],\n",
       "         [1.48012733e+00, 1.34795361e+00, 1.31650634e+00,\n",
       "          1.58095697e+00, 1.46391195e+00, 1.93090063e+00,\n",
       "          1.86673140e+00, 1.39822170e+00, 1.57823283e+00,\n",
       "          1.31650634e+00],\n",
       "         [8.50180596e+00, 9.06573828e+00, 8.04052410e+00,\n",
       "          8.30233855e+00, 1.08176203e+01, 8.59869238e+00,\n",
       "          8.77196077e+00, 9.45330255e+00, 1.07273807e+01,\n",
       "          8.04052410e+00]],\n",
       "\n",
       "        [[9.90256037e+00, 6.92816138e+00, 6.61489593e+00,\n",
       "          6.46216500e+00, 9.64019617e+00, 7.83065041e+00,\n",
       "          6.53327433e+00, 1.03327094e+01, 6.93662419e+00,\n",
       "          1.11010667e+01],\n",
       "         [6.97438852e+00, 7.21599568e+00, 9.46872181e+00,\n",
       "          1.04038522e+01, 6.57197798e+00, 7.71860833e+00,\n",
       "          6.44335751e+00, 6.02751624e+00, 6.69115528e+00,\n",
       "          6.41086704e+00],\n",
       "         [1.17523042e+01, 7.46328295e+00, 7.79107699e+00,\n",
       "          7.53151102e+00, 1.16616901e+01, 7.29809180e+00,\n",
       "          9.02713552e+00, 1.05823708e+01, 7.51249330e+00,\n",
       "          9.42090350e+00],\n",
       "         [3.19072486e+00, 3.80159357e+00, 2.99429926e+00,\n",
       "          2.47858569e+00, 3.10221947e+00, 3.98944318e+00,\n",
       "          2.67467540e+00, 3.20298094e+00, 4.06416547e+00,\n",
       "          4.11038216e+00],\n",
       "         [2.40490690e+00, 3.64504791e+00, 1.87008447e+00,\n",
       "          2.49020473e+00, 2.50888765e+00, 3.31942530e+00,\n",
       "          2.52747714e+00, 2.28285070e+00, 3.51204713e+00,\n",
       "          3.50129091e+00],\n",
       "         [1.06295582e+01, 1.13663297e+01, 1.10275505e+01,\n",
       "          1.18511572e+01, 1.08715296e+01, 1.15338294e+01,\n",
       "          1.05249368e+01, 1.12671483e+01, 1.17687866e+01,\n",
       "          1.20527910e+01],\n",
       "         [1.53777252e+00, 3.30956831e+00, 1.81124713e-01,\n",
       "          1.90317611e+00, 1.56187121e+00, 2.02412722e+00,\n",
       "          1.61138933e+00, 2.09556662e+00, 3.34957964e+00,\n",
       "          2.41969893e+00]],\n",
       "\n",
       "        [[4.93685768e+00, 6.90290747e+00, 5.86882198e+00,\n",
       "          5.50513919e+00, 6.37546069e+00, 6.21993315e+00,\n",
       "          4.84781760e+00, 7.09456405e+00, 6.21993315e+00,\n",
       "          4.55059350e+00],\n",
       "         [3.24080196e+00, 5.34366162e-01, 2.79707974e+00,\n",
       "          2.98891874e+00, 2.35966720e+00, 2.71090829e+00,\n",
       "          3.53604377e+00, 9.49110853e-01, 2.71090829e+00,\n",
       "          3.83836582e+00],\n",
       "         [6.71353339e+00, 6.74702757e+00, 7.74088533e+00,\n",
       "          6.10907577e+00, 6.64574664e+00, 6.78634521e+00,\n",
       "          6.77231695e+00, 5.73231056e+00, 6.78634521e+00,\n",
       "          7.40058985e+00],\n",
       "         [8.52569992e-01, 1.87261476e+00, 8.85016039e-01,\n",
       "          1.42538396e+00, 6.07168527e-01, 7.92338601e-01,\n",
       "          8.47644897e-01, 1.97826831e+00, 7.92338601e-01,\n",
       "          8.08894802e-01],\n",
       "         [0.00000000e+00, 7.12594688e-01, 5.20446674e-01,\n",
       "          1.57246456e+00, 3.29794317e-01, 3.78337896e-01,\n",
       "          0.00000000e+00, 8.92213092e-01, 3.78337896e-01,\n",
       "          9.92552674e-02],\n",
       "         [1.59888502e+00, 2.04073852e+00, 1.29512170e+00,\n",
       "          4.05852555e+00, 1.36683766e+00, 1.47503403e+00,\n",
       "          1.77154492e+00, 2.61041576e+00, 1.47503403e+00,\n",
       "          1.05544346e+00],\n",
       "         [9.61903250e+00, 5.33790650e+00, 7.01474086e+00,\n",
       "          5.15006191e+00, 9.21406734e+00, 8.79887970e+00,\n",
       "          9.53357501e+00, 5.21202041e+00, 8.79887970e+00,\n",
       "          1.02787404e+01]]]])"
      ]
     },
     "execution_count": 5,
     "metadata": {},
     "output_type": "execute_result"
    }
   ],
   "source": [
    "pert.store"
   ]
  },
  {
   "cell_type": "code",
   "execution_count": null,
   "id": "b11b3305",
   "metadata": {},
   "outputs": [],
   "source": []
  }
 ],
 "metadata": {
  "kernelspec": {
   "display_name": "Python 3",
   "language": "python",
   "name": "python3"
  },
  "language_info": {
   "codemirror_mode": {
    "name": "ipython",
    "version": 3
   },
   "file_extension": ".py",
   "mimetype": "text/x-python",
   "name": "python",
   "nbconvert_exporter": "python",
   "pygments_lexer": "ipython3",
   "version": "3.8.8"
  }
 },
 "nbformat": 4,
 "nbformat_minor": 5
}
