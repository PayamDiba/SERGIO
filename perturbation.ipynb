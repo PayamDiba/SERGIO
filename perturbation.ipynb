{
 "cells": [
  {
   "cell_type": "code",
   "execution_count": 1,
   "id": "a289cbf6",
   "metadata": {},
   "outputs": [],
   "source": [
    "import numpy as np\n",
    "import networkx as nx\n",
    "from collections import defaultdict\n",
    "import pandas as pd\n",
    "from collections import Counter\n",
    "import itertools\n",
    "import seaborn as sns\n",
    "import matplotlib.pyplot as plt\n",
    "import random\n",
    "import scperturb\n",
    "from SERGIO._perturbation import perturbation\n"
   ]
  },
  {
   "cell_type": "code",
   "execution_count": null,
   "id": "7b850e62",
   "metadata": {},
   "outputs": [
    {
     "name": "stderr",
     "output_type": "stream",
     "text": [
      "/home/giuseppe/Documents/Sergio_perturbation/SERGIO/_perturbation.py:157: FutureWarning: adjacency_matrix will return a scipy.sparse array instead of a matrix in Networkx 3.0.\n",
      "  J = nx.adjacency_matrix(G)\n",
      "DEBUG:root:Number of nodes is 75\n"
     ]
    }
   ],
   "source": [
    "pert = perturbation(100)\n",
    "%time pert.perturbation_all(nCells=10000)"
   ]
  },
  {
   "cell_type": "code",
   "execution_count": null,
   "id": "2efb5f5d",
   "metadata": {},
   "outputs": [],
   "source": [
    "pert.save('pert_10000')"
   ]
  },
  {
   "cell_type": "code",
   "execution_count": null,
   "id": "10f83729",
   "metadata": {},
   "outputs": [],
   "source": []
  },
  {
   "cell_type": "code",
   "execution_count": 3,
   "id": "be531826",
   "metadata": {},
   "outputs": [],
   "source": [
    "def draw_net(G,offset = 0.05,node_size = 1000,**kwargs):\n",
    "    c =np.array([ c['weight'] for a,b,c in list(G.edges(data=True))])\n",
    "    edge_color=np.where(c>0,'green','red')\n",
    "    #nx.draw_circular(G,with_labels=True,edge_color=edge_color,alpha = 0.7,arrowsize = 15,**kwargs)\n",
    "    nodePos = nx.circular_layout(G)\n",
    "    nx.draw_networkx_nodes(G,pos=nodePos, label=True,node_size=node_size,node_color='none',edgecolors='#1f78b4')\n",
    "    nx.draw_networkx_labels(G,pos = nodePos)\n",
    "    edges = list(G.edges)\n",
    "    bi_edges = [(a,b) for a,b in edges  if (b,a)in edges]\n",
    "    non_bi_edges =list(set(edges)-set(bi_edges))\n",
    "    a,b,c  =zip(*[ (a,b,c['weight']) for a,b,c in list(G.edges(data=True))])\n",
    "    dic = {(start,stop):col for start,stop,col in zip(a,b,c)}\n",
    "    #nx.draw_networkx_edges(G,pos = nodePos,edgelist=edges[weight>0],edge_color= 'green',arrowsize = 15,)\n",
    "    non_bi_weight = np.array([dic[endpoints] for endpoints in non_bi_edges ])\n",
    "    bi_weight = np.array([dic[endpoints] for endpoints in bi_edges ])\n",
    "    nx.draw_networkx_edges(G,pos = nodePos,edgelist=np.array(non_bi_edges)[non_bi_weight>0],edge_color= 'green',arrowsize = 20,node_size=node_size)\n",
    "    nx.draw_networkx_edges(G,pos = nodePos,edgelist=np.array(non_bi_edges)[non_bi_weight<0],edge_color= 'red',arrowsize = 10,node_size=node_size,arrowstyle='-[',alpha = 0.6)\n",
    "    #draw bi-directional links parallel one another such that they do not overlap\n",
    "    unique_bi_edges = []\n",
    "    for start,stop in bi_edges:\n",
    "        if (stop, start) not in unique_bi_edges:\n",
    "            unique_bi_edges+=[(start,stop)]\n",
    "    offset = 0.05\n",
    "    new_nodePos={}\n",
    "    for start,end in unique_bi_edges:\n",
    "        new_nodePos[start] = nodePos[start]-[0,offset]\n",
    "        new_nodePos[end] = nodePos[end]-[0,offset]\n",
    "    nx.draw_networkx_edges(G,pos = new_nodePos,edgelist=np.array(bi_edges)[bi_weight>0],edge_color= 'green',arrowsize = 20,)\n",
    "    new_nodePos={}\n",
    "    for start,end in unique_bi_edges:\n",
    "        new_nodePos[start] = nodePos[start]+[0,offset]\n",
    "        new_nodePos[end] = nodePos[end]+[0,offset]\n",
    "\n",
    "    nx.draw_networkx_edges(G,pos = new_nodePos,edgelist=np.array(bi_edges)[bi_weight<0],edge_color= 'red',arrowsize = 10,arrowstyle='-[',alpha = 0.6,width = 1.5,node_size=node_size)\n"
   ]
  },
  {
   "cell_type": "code",
   "execution_count": 4,
   "id": "f9ca1668",
   "metadata": {},
   "outputs": [],
   "source": [
    "grn0 = copy.deepcopy(grn)#it is the grn that I pass to perturbation experiments"
   ]
  },
  {
   "cell_type": "code",
   "execution_count": 10,
   "id": "ad4aad34",
   "metadata": {},
   "outputs": [
    {
     "name": "stdout",
     "output_type": "stream",
     "text": [
      "CPU times: user 24.6 s, sys: 4.77 ms, total: 24.6 s\n",
      "Wall time: 24.6 s\n"
     ]
    }
   ],
   "source": [
    "\n",
    "def single_perturbation(grn,mr_profs,target_gene,basal_prod,nCells,cutting = True):\n",
    "    '''\n",
    "    Function Description:\n",
    "\n",
    "    This function perturbs a given gene in a gene regulatory network (GRN) and returns\n",
    "    the simulated dynamics of the network in response to the perturbation. The perturbation involves\n",
    "    changing the production rate of the target gene to a given basal level (positive for CRISPRa,\n",
    "    negative or 0 for CRISPRi), and optionally, cutting incoming edges to the target gene.\n",
    "    The function returns the simulated gene expression dynamics of the perturbed network.\n",
    "\n",
    "    Parameters:\n",
    "\n",
    "    grn: an instance of the GRN class representing the GRN to be perturbed\n",
    "    mr_profs: an instance of the mrProfile class representing the master regulator profiles of the system\n",
    "    target_gene: the name of the target gene to be perturbed\n",
    "    basal_prod: the basal production rate of the target gene after perturbation (positive for CRISPRa, negative or 0 for CRISPRi)\n",
    "    cutting: a boolean variable indicating whether incoming edges to the target gene should be cut (True) or not (False)\n",
    "    in response to the perturbation. Default is True.\n",
    "    Returns:\n",
    "\n",
    "    sim: an instance of the sergio class representing the simulated gene expression dynamics of the perturbed network.\n",
    "    \n",
    "    '''\n",
    "    new_grn = copy.deepcopy(grn)\n",
    "    new_grn.attr_['mrs'].add(target_gene)\n",
    "    links_2_remove = list(filter(lambda x:x.split('-')[1]==target_gene,new_grn.attr_['interactions'].keys()))\n",
    "    if cutting:\n",
    "        #identifies the links pointing to gene, and removes them from the net\n",
    "        [new_grn.attr_['interactions'].pop(link) for link in links_2_remove]#remove interaction from GRN\n",
    "    \n",
    "    crispri = copy.deepcopy(mr_profs)\n",
    "    crispri.profile[target_gene]=basal_prod*np.ones(1)\n",
    "    new_grn.init(crispri, update_half_resp = True)\n",
    "    sim = sergio(new_grn)\n",
    "    sim.simulate(nCells = nCells, noise_s = 1, safety_iter = 150, scale_iter = 10)\n",
    "    return sim\n",
    "def perturbation_all(grn,nCells):\n",
    "    nGenes = len(grn.attr_['genes'])\n",
    "    store = np.zeros(shape = (2,nGenes,nGenes,nCells))\n",
    "    #dimension 0 describe the type of perturbation experiment, 0:Crispri, 1: crispra\n",
    "    #dimension 1 describes the index target gene\n",
    "    #dimension 2 describe the index of genes whose expression is measured\n",
    "    #dimension 3 describes the index of cell\n",
    "    \n",
    "    '''now simulate wild type'''\n",
    "    grn0 = copy.deepcopy(grn)#it is the grn that I pass to perturbation experiments\n",
    "    mrs = grn.get_mrs()\n",
    "    mr_profs = mrProfile(MR_names = mrs, n_types = 1)\n",
    "    mr_profs.build_rnd(range_dict={'L': [1, 2.5], 'H': [3.5, 5]})\n",
    "    grn.init(mr_profs, update_half_resp = True)\n",
    "    sim = sergio(grn)\n",
    "    sim.simulate(nCells = nCells, noise_s = 1, safety_iter = 150, scale_iter = 10)\n",
    "    wt = sim.getSimExpr().values\n",
    "    for i,target_gene in enumerate(grn.attr_['genes'].keys()):\n",
    "        #simulate Crispri\n",
    "        store[0,i]= single_perturbation(grn = grn0,mr_profs=mr_profs,target_gene=target_gene,basal_prod=0.2,nCells=nCells,cutting=True).getSimExpr().values\n",
    "        #simulate Crispra\n",
    "        store[1,i]= single_perturbation(grn = grn0,mr_profs=mr_profs,target_gene=target_gene,basal_prod=7,nCells=nCells,cutting=True).getSimExpr().values\n",
    "\n",
    "    return wt,store\n",
    "%time wt,store = perturbation_all(grn0,nCells=500)"
   ]
  },
  {
   "cell_type": "code",
   "execution_count": 6,
   "id": "eeb9fd23",
   "metadata": {},
   "outputs": [],
   "source": [
    "store.shape,wt.shape\n",
    "gene_list = list(grn.attr_['genes'].keys())"
   ]
  },
  {
   "cell_type": "code",
   "execution_count": 109,
   "id": "8a6280ff",
   "metadata": {},
   "outputs": [
    {
     "data": {
      "text/plain": [
       "['13', '12', '14', '17']"
      ]
     },
     "execution_count": 109,
     "metadata": {},
     "output_type": "execute_result"
    }
   ],
   "source": [
    "[k for k,v in dict(G.in_degree()).items() if v ==1]"
   ]
  },
  {
   "cell_type": "code",
   "execution_count": 12,
   "id": "a3d8ecf6",
   "metadata": {},
   "outputs": [
    {
     "data": {
      "text/plain": [
       "array([[[[ 0.2410473 ,  0.35291124,  1.26223564, ...,  0.84150503,\n",
       "           0.20174551,  4.51038193],\n",
       "         [ 4.38214016,  3.5242373 ,  3.42308591, ...,  3.69918685,\n",
       "           2.43527886,  2.48751826],\n",
       "         [ 9.03910478, 10.27754391,  9.96020224, ..., 12.20966021,\n",
       "          11.84161562, 13.4512227 ],\n",
       "         ...,\n",
       "         [ 4.8851878 ,  5.00166346,  7.02243397, ...,  6.7565906 ,\n",
       "           7.90835064,  2.03737597],\n",
       "         [ 1.46553181,  1.71246553,  1.46413239, ...,  2.15473303,\n",
       "           1.35342058,  0.7416401 ],\n",
       "         [ 1.80519319,  1.3985336 ,  0.06890486, ...,  0.96841403,\n",
       "           1.00325024,  0.43807967]],\n",
       "\n",
       "        [[ 4.60165736,  5.66301462, 11.71526021, ...,  4.87562233,\n",
       "           7.62342921,  8.39948612],\n",
       "         [ 0.19809445,  0.13660628,  0.08509294, ...,  0.        ,\n",
       "           0.46005458,  0.        ],\n",
       "         [11.29904754,  9.30318536, 14.20589343, ...,  7.64905151,\n",
       "          15.35988321, 11.91181355],\n",
       "         ...,\n",
       "         [ 3.11190232,  2.64414775,  5.97805964, ...,  4.4960838 ,\n",
       "           3.48280242,  4.38007575],\n",
       "         [ 0.63555122,  1.99593626,  3.69957111, ...,  4.85770155,\n",
       "           2.51348155,  1.95688776],\n",
       "         [ 0.43413946,  1.39446467,  2.65161726, ...,  1.08846801,\n",
       "           1.57181689,  0.72909074]],\n",
       "\n",
       "        [[ 8.66963612,  8.75713201,  7.93913449, ...,  8.85954948,\n",
       "           7.06096282,  9.52611311],\n",
       "         [ 1.22860895,  4.0589524 ,  1.01945481, ...,  5.49226548,\n",
       "           4.38651611,  1.06924564],\n",
       "         [ 0.07904998,  0.48279145,  0.2376076 , ...,  0.98684902,\n",
       "           0.3101699 ,  0.28435587],\n",
       "         ...,\n",
       "         [ 1.18563702,  3.20961408,  1.78836076, ...,  2.67987874,\n",
       "           5.94499401,  2.15396841],\n",
       "         [ 0.21467905,  0.16338191,  0.5870768 , ...,  0.4196852 ,\n",
       "           1.11279188,  0.07663865],\n",
       "         [ 2.72339942,  1.07728589,  2.17852914, ...,  1.96038582,\n",
       "           0.95576872,  2.46332904]],\n",
       "\n",
       "        ...,\n",
       "\n",
       "        [[10.26524342,  7.08147315,  8.88882907, ...,  5.36773823,\n",
       "           4.27427799,  6.73082795],\n",
       "         [ 6.26371516,  2.39818776,  5.04059275, ...,  4.54242424,\n",
       "           5.29551756,  2.65676718],\n",
       "         [10.78611729, 13.72379716, 13.8593385 , ...,  9.31717896,\n",
       "           2.5461732 ,  9.53070075],\n",
       "         ...,\n",
       "         [ 0.54502702,  0.26452002,  2.60637243, ...,  0.17860229,\n",
       "           0.24600512,  0.14318576],\n",
       "         [ 2.0479607 ,  0.47412127,  0.54866371, ...,  5.91395135,\n",
       "           2.35045862,  0.        ],\n",
       "         [ 2.13245432,  0.4415044 ,  3.49176443, ...,  2.4009255 ,\n",
       "           0.7140117 ,  1.82961834]],\n",
       "\n",
       "        [[ 6.08790604,  7.60418237,  5.468818  , ..., 10.87060174,\n",
       "           8.40255988,  3.30477006],\n",
       "         [ 3.62026471,  4.50428531,  3.4531186 , ...,  2.03323582,\n",
       "           2.82599428,  7.96686103],\n",
       "         [ 5.08439363,  5.60375309, 14.17904625, ..., 11.78565077,\n",
       "           3.63073132, 12.90220702],\n",
       "         ...,\n",
       "         [ 6.30891336,  5.36717757,  9.94147837, ...,  4.13625053,\n",
       "           7.74807284,  8.71829337],\n",
       "         [ 0.60046064,  0.31477637,  0.23534554, ...,  0.15395651,\n",
       "           0.21958177,  0.20620015],\n",
       "         [ 5.30722501,  2.4215064 ,  4.71335946, ...,  4.87489233,\n",
       "           1.26802917,  3.34450886]],\n",
       "\n",
       "        [[10.21700488,  5.09357139,  8.04308783, ...,  8.6603067 ,\n",
       "          12.6193667 , 10.38019863],\n",
       "         [ 6.15776215,  2.29446006,  4.57448965, ...,  4.91079037,\n",
       "           8.45731711,  5.48772488],\n",
       "         [15.87831133,  7.08089142,  9.85355174, ..., 14.4568379 ,\n",
       "          22.44048647,  9.06282183],\n",
       "         ...,\n",
       "         [ 5.49246315,  7.77679765,  5.52685018, ...,  6.17166041,\n",
       "           2.4862982 ,  4.66579792],\n",
       "         [ 2.54831018,  1.91709057,  5.14601463, ...,  1.60593079,\n",
       "           0.08440555,  3.07360627],\n",
       "         [ 0.37472843,  1.38487784,  1.67695795, ...,  0.28591154,\n",
       "           5.37658436,  0.55886552]]],\n",
       "\n",
       "\n",
       "       [[[ 6.98015722,  4.72188032,  3.78392835, ...,  9.05159978,\n",
       "          10.04860326,  3.87729159],\n",
       "         [ 4.34566965,  2.72418619,  4.94000867, ...,  0.99344396,\n",
       "           2.2869386 ,  3.48069769],\n",
       "         [11.267305  , 10.41526605, 12.72818016, ...,  6.11772755,\n",
       "          10.75952047,  9.31967065],\n",
       "         ...,\n",
       "         [ 7.79268268,  4.40918155,  0.68452296, ...,  5.45494599,\n",
       "           5.18478449,  2.07559537],\n",
       "         [ 2.11590003,  2.36438084,  0.13918674, ...,  2.49780251,\n",
       "           1.43447631,  2.98227724],\n",
       "         [ 1.08117661,  0.6088046 ,  1.18369261, ...,  2.361711  ,\n",
       "           2.28020117,  1.71715348]],\n",
       "\n",
       "        [[ 6.23227266,  6.20515855,  3.97281757, ...,  0.        ,\n",
       "           0.74962905,  5.04093212],\n",
       "         [ 8.81939401,  5.88191809,  9.81677109, ..., 13.36350023,\n",
       "          10.59295301, 11.97495052],\n",
       "         [10.27321055, 23.48637025,  8.89029302, ..., 12.96767065,\n",
       "          11.42173214,  9.83915951],\n",
       "         ...,\n",
       "         [ 4.78832906,  5.37174067,  2.83323228, ...,  3.56502742,\n",
       "           4.69240047,  2.6994342 ],\n",
       "         [ 0.11670935,  1.14667388,  0.97392196, ...,  4.39998698,\n",
       "           5.41794376,  3.64909069],\n",
       "         [ 3.00150496,  2.66360773,  3.11576418, ...,  2.0465018 ,\n",
       "           1.64874052,  6.73694242]],\n",
       "\n",
       "        [[ 6.23311194, 11.8619305 ,  4.63981651, ...,  2.53444572,\n",
       "           4.68291953,  6.09963949],\n",
       "         [ 2.43211548,  5.16550379,  1.68797136, ...,  5.15621254,\n",
       "           3.99680317,  0.80819729],\n",
       "         [ 7.16679126, 14.78897497,  6.38774243, ...,  3.17074038,\n",
       "          11.74940002,  5.2130616 ],\n",
       "         ...,\n",
       "         [ 1.14104478,  2.04157235,  2.03473501, ...,  3.99539831,\n",
       "           2.23042075,  3.86600333],\n",
       "         [ 0.        ,  0.51406266,  0.88154932, ...,  0.81716743,\n",
       "           2.15554139,  0.92454676],\n",
       "         [ 5.89057998,  4.47632975,  3.54198981, ...,  2.85007257,\n",
       "           4.16943502,  3.17859309]],\n",
       "\n",
       "        ...,\n",
       "\n",
       "        [[ 4.96445362,  6.52600938,  7.47649414, ...,  7.01794646,\n",
       "           9.86910431,  8.79418949],\n",
       "         [ 3.22174184,  1.54277835,  2.61843334, ...,  0.16637121,\n",
       "           5.89397854,  3.61936604],\n",
       "         [11.37624205, 12.81388778,  8.22912155, ..., 12.34670804,\n",
       "          14.87015695, 13.18397532],\n",
       "         ...,\n",
       "         [13.7817164 ,  9.13806931, 14.82808734, ...,  4.87275023,\n",
       "           8.21309483, 15.01641363],\n",
       "         [ 1.26844509,  1.73705666,  0.99947821, ...,  0.        ,\n",
       "           1.81251428,  1.9107341 ],\n",
       "         [ 3.55156943,  3.72839974,  4.54968321, ...,  0.98745503,\n",
       "           6.11911701,  0.63588201]],\n",
       "\n",
       "        [[ 7.04894839,  7.51225336,  6.98637298, ...,  4.56017702,\n",
       "          10.98403406, 13.59538774],\n",
       "         [ 3.2518463 ,  0.28286488,  2.18861676, ...,  5.10550183,\n",
       "           4.05314355,  6.64445391],\n",
       "         [14.42545636,  7.18047729,  7.2919501 , ..., 10.15760394,\n",
       "          14.29687168, 14.57772669],\n",
       "         ...,\n",
       "         [ 5.61113775,  3.08138942,  1.7143534 , ...,  4.38545957,\n",
       "           6.71139071,  2.96581799],\n",
       "         [ 8.68396877, 12.51268208,  8.04206418, ...,  6.72918973,\n",
       "           8.51644691,  1.34908287],\n",
       "         [ 5.81803435,  4.91505158,  5.04233954, ...,  0.87999061,\n",
       "           5.02230727,  3.53734912]],\n",
       "\n",
       "        [[ 5.30236519,  4.74580567, 10.41188246, ..., 10.69108162,\n",
       "           8.09417401,  2.32507851],\n",
       "         [ 7.56100264,  2.54524494,  4.68693873, ...,  3.10842839,\n",
       "           2.07305923,  0.80673565],\n",
       "         [ 9.7853239 , 11.56240493, 16.4377377 , ...,  6.3573642 ,\n",
       "           7.73073691,  8.76689965],\n",
       "         ...,\n",
       "         [ 7.37421428,  1.73627924,  4.23628529, ...,  5.41411351,\n",
       "           4.99238854,  1.21136063],\n",
       "         [ 1.81563052,  0.66425152,  0.32160078, ...,  0.95141666,\n",
       "           3.25634809,  1.08195735],\n",
       "         [ 8.78411488,  0.48809406,  5.83037318, ...,  4.26133092,\n",
       "          11.86248181,  8.55971156]]]])"
      ]
     },
     "execution_count": 12,
     "metadata": {},
     "output_type": "execute_result"
    }
   ],
   "source": [
    "store"
   ]
  },
  {
   "cell_type": "markdown",
   "id": "8e6239c4",
   "metadata": {},
   "source": [
    "draw network containing 'gene_view', its successors and they other parents"
   ]
  },
  {
   "cell_type": "code",
   "execution_count": 7,
   "id": "9e3bfa50",
   "metadata": {},
   "outputs": [
    {
     "name": "stdout",
     "output_type": "stream",
     "text": [
      "5\n"
     ]
    },
    {
     "data": {
      "text/html": [
       "<div>\n",
       "<style scoped>\n",
       "    .dataframe tbody tr th:only-of-type {\n",
       "        vertical-align: middle;\n",
       "    }\n",
       "\n",
       "    .dataframe tbody tr th {\n",
       "        vertical-align: top;\n",
       "    }\n",
       "\n",
       "    .dataframe thead tr th {\n",
       "        text-align: left;\n",
       "    }\n",
       "</style>\n",
       "<table border=\"1\" class=\"dataframe\">\n",
       "  <thead>\n",
       "    <tr>\n",
       "      <th></th>\n",
       "      <th>from</th>\n",
       "      <th>to</th>\n",
       "      <th>weight</th>\n",
       "    </tr>\n",
       "  </thead>\n",
       "  <tbody>\n",
       "    <tr>\n",
       "      <th>0</th>\n",
       "      <td>5</td>\n",
       "      <td>0</td>\n",
       "      <td>-3.372795</td>\n",
       "    </tr>\n",
       "    <tr>\n",
       "      <th>1</th>\n",
       "      <td>5</td>\n",
       "      <td>2</td>\n",
       "      <td>-2.550164</td>\n",
       "    </tr>\n",
       "    <tr>\n",
       "      <th>2</th>\n",
       "      <td>5</td>\n",
       "      <td>6</td>\n",
       "      <td>-2.493204</td>\n",
       "    </tr>\n",
       "    <tr>\n",
       "      <th>3</th>\n",
       "      <td>5</td>\n",
       "      <td>7</td>\n",
       "      <td>2.780031</td>\n",
       "    </tr>\n",
       "  </tbody>\n",
       "</table>\n",
       "</div>"
      ],
      "text/plain": [
       "  from to    weight\n",
       "0    5  0 -3.372795\n",
       "1    5  2 -2.550164\n",
       "2    5  6 -2.493204\n",
       "3    5  7  2.780031"
      ]
     },
     "execution_count": 7,
     "metadata": {},
     "output_type": "execute_result"
    },
    {
     "data": {
      "image/png": "[encoded data removed]",
      "text/plain": [
       "<Figure size 640x480 with 1 Axes>"
      ]
     },
     "metadata": {},
     "output_type": "display_data"
    }
   ],
   "source": [
    "gene_view = '5'#gene_list[1]\n",
    "\n",
    "print(gene_view)\n",
    "\n",
    "\n",
    "two_step_neigh = {*itertools.chain.from_iterable([set(G.predecessors(g)) for g in set(G.successors(gene_view))])}\n",
    "#plt.figure(figsize=(8,8))\n",
    "draw_net(G.subgraph(two_step_neigh.union(G.successors(gene_view)).union({gene_view})))\n",
    "pd.DataFrame([[a,b,d['weight']] for a,b,d in list(G.out_edges(gene_view,data=True))],columns=[['from','to','weight']])"
   ]
  },
  {
   "cell_type": "code",
   "execution_count": 107,
   "id": "cf5fae79",
   "metadata": {},
   "outputs": [
    {
     "data": {
      "text/plain": [
       "6.25"
      ]
     },
     "execution_count": 107,
     "metadata": {},
     "output_type": "execute_result"
    }
   ],
   "source": [
    "5/0.8"
   ]
  },
  {
   "cell_type": "markdown",
   "id": "419293b0",
   "metadata": {},
   "source": [
    "Investigate expression on the target gene"
   ]
  },
  {
   "cell_type": "code",
   "execution_count": 8,
   "id": "5d46086e",
   "metadata": {},
   "outputs": [
    {
     "data": {
      "text/plain": [
       "<AxesSubplot:ylabel='Density'>"
      ]
     },
     "execution_count": 8,
     "metadata": {},
     "output_type": "execute_result"
    },
    {
     "data": {
      "image/png": "[encoded data removed]",
      "text/plain": [
       "<Figure size 640x480 with 1 Axes>"
      ]
     },
     "metadata": {},
     "output_type": "display_data"
    },
    {
     "data": {
      "image/png": "[encoded data removed]",
      "text/plain": [
       "<Figure size 640x480 with 1 Axes>"
      ]
     },
     "metadata": {},
     "output_type": "display_data"
    }
   ],
   "source": [
    "i = np.arange(len(gene_list))[np.array(gene_list)==gene_view][0]# take the index of gene_view\n",
    "#j = np.arange(len(gene_list))[np.array(gene_list)==list(G.out_edges(gene_view))[0][1]][0]#take the index of one of the genes neighbouring gene_view\n",
    "j = i\n",
    "a = pd.DataFrame({'crispri':store[0,i,j],'wt':wt[j]})\n",
    "sns.histplot(a,stat='density')\n",
    "plt.figure()\n",
    "a = pd.DataFrame({'crispra':store[1,i,j],'wt':wt[j]})\n",
    "sns.histplot(a,stat='density')\n"
   ]
  },
  {
   "cell_type": "code",
   "execution_count": 9,
   "id": "bd568cec",
   "metadata": {},
   "outputs": [
    {
     "data": {
      "text/plain": [
       "<AxesSubplot:ylabel='Density'>"
      ]
     },
     "execution_count": 9,
     "metadata": {},
     "output_type": "execute_result"
    },
    {
     "data": {
      "image/png": "[encoded data removed]",
      "text/plain": [
       "<Figure size 640x480 with 1 Axes>"
      ]
     },
     "metadata": {},
     "output_type": "display_data"
    },
    {
     "data": {
      "image/png": "[encoded data removed]",
      "text/plain": [
       "<Figure size 640x480 with 1 Axes>"
      ]
     },
     "metadata": {},
     "output_type": "display_data"
    }
   ],
   "source": [
    "i = np.arange(len(gene_list))[np.array(gene_list)==gene_view][0]# take the index of gene_view\n",
    "j = np.arange(len(gene_list))[np.array(gene_list)=='2'][0]#take the index of one of the genes neighbouring gene_view\n",
    "#j = i\n",
    "a = pd.DataFrame({'crispri':store[0,i,j],'wt':wt[j]})\n",
    "sns.histplot(a,stat='density')\n",
    "plt.figure()\n",
    "a = pd.DataFrame({'crispra':store[1,i,j],'wt':wt[j]})\n",
    "sns.histplot(a,stat='density')\n"
   ]
  },
  {
   "cell_type": "code",
   "execution_count": 23,
   "id": "7531e4e0",
   "metadata": {},
   "outputs": [
    {
     "data": {
      "text/plain": [
       "['2', '7', '8', '1', '15', '21', '18']"
      ]
     },
     "execution_count": 23,
     "metadata": {},
     "output_type": "execute_result"
    }
   ],
   "source": [
    "pd.DataFrame(G.in_edges('9',data = True))\n"
   ]
  },
  {
   "cell_type": "code",
   "execution_count": 38,
   "id": "dad0db7f",
   "metadata": {},
   "outputs": [
    {
     "data": {
      "text/plain": [
       "<matplotlib.legend.Legend at 0x7fee6c37d6d0>"
      ]
     },
     "execution_count": 38,
     "metadata": {},
     "output_type": "execute_result"
    },
    {
     "data": {
      "image/png": "[encoded data removed]",
      "text/plain": [
       "<Figure size 432x288 with 1 Axes>"
      ]
     },
     "metadata": {
      "needs_background": "light"
     },
     "output_type": "display_data"
    }
   ],
   "source": [
    "h,b,_ = plt.hist(store[0,i,j],bins =30,label = 'crispri',density = True)\n",
    "\n",
    "h,b,_ = plt.hist(store[1,i,j],alpha = 0.6,bins = 30,label = 'crispra',density = True)\n",
    "h,b,_ = plt.hist(wt[j],alpha = 0.4,bins = 30,label = 'wt',density = True)\n",
    "plt.legend()"
   ]
  },
  {
   "cell_type": "code",
   "execution_count": 164,
   "id": "79bf2b32",
   "metadata": {},
   "outputs": [
    {
     "data": {
      "text/html": [
       "<div>\n",
       "<style scoped>\n",
       "    .dataframe tbody tr th:only-of-type {\n",
       "        vertical-align: middle;\n",
       "    }\n",
       "\n",
       "    .dataframe tbody tr th {\n",
       "        vertical-align: top;\n",
       "    }\n",
       "\n",
       "    .dataframe thead th {\n",
       "        text-align: right;\n",
       "    }\n",
       "</style>\n",
       "<table border=\"1\" class=\"dataframe\">\n",
       "  <thead>\n",
       "    <tr style=\"text-align: right;\">\n",
       "      <th></th>\n",
       "      <th>MR_id</th>\n",
       "      <th>prod_rate</th>\n",
       "    </tr>\n",
       "  </thead>\n",
       "  <tbody>\n",
       "    <tr>\n",
       "      <th>0</th>\n",
       "      <td>2737</td>\n",
       "      <td>3.582154</td>\n",
       "    </tr>\n",
       "    <tr>\n",
       "      <th>1</th>\n",
       "      <td>4853</td>\n",
       "      <td>4.081881</td>\n",
       "    </tr>\n",
       "    <tr>\n",
       "      <th>2</th>\n",
       "      <td>900</td>\n",
       "      <td>5.000000</td>\n",
       "    </tr>\n",
       "    <tr>\n",
       "      <th>3</th>\n",
       "      <td>7161</td>\n",
       "      <td>1.538699</td>\n",
       "    </tr>\n",
       "    <tr>\n",
       "      <th>4</th>\n",
       "      <td>3135</td>\n",
       "      <td>2.003430</td>\n",
       "    </tr>\n",
       "    <tr>\n",
       "      <th>5</th>\n",
       "      <td>3164</td>\n",
       "      <td>1.158086</td>\n",
       "    </tr>\n",
       "    <tr>\n",
       "      <th>6</th>\n",
       "      <td>9572</td>\n",
       "      <td>2.282716</td>\n",
       "    </tr>\n",
       "    <tr>\n",
       "      <th>7</th>\n",
       "      <td>5598</td>\n",
       "      <td>1.877689</td>\n",
       "    </tr>\n",
       "    <tr>\n",
       "      <th>8</th>\n",
       "      <td>5602</td>\n",
       "      <td>4.718141</td>\n",
       "    </tr>\n",
       "    <tr>\n",
       "      <th>9</th>\n",
       "      <td>50674</td>\n",
       "      <td>2.268740</td>\n",
       "    </tr>\n",
       "    <tr>\n",
       "      <th>10</th>\n",
       "      <td>3728</td>\n",
       "      <td>1.602510</td>\n",
       "    </tr>\n",
       "    <tr>\n",
       "      <th>11</th>\n",
       "      <td>6095</td>\n",
       "      <td>3.804069</td>\n",
       "    </tr>\n",
       "    <tr>\n",
       "      <th>12</th>\n",
       "      <td>6096</td>\n",
       "      <td>4.552496</td>\n",
       "    </tr>\n",
       "  </tbody>\n",
       "</table>\n",
       "</div>"
      ],
      "text/plain": [
       "    MR_id  prod_rate\n",
       "0    2737   3.582154\n",
       "1    4853   4.081881\n",
       "2     900   5.000000\n",
       "3    7161   1.538699\n",
       "4    3135   2.003430\n",
       "5    3164   1.158086\n",
       "6    9572   2.282716\n",
       "7    5598   1.877689\n",
       "8    5602   4.718141\n",
       "9   50674   2.268740\n",
       "10   3728   1.602510\n",
       "11   6095   3.804069\n",
       "12   6096   4.552496"
      ]
     },
     "execution_count": 164,
     "metadata": {},
     "output_type": "execute_result"
    }
   ],
   "source": [
    "pd.DataFrame([[i,v.prod_rates_[0]] for i,v in sim2.grn_.attr_['genes'].items()if v.prod_rates_ is not None] ,columns= ['MR_id','prod_rate'])"
   ]
  },
  {
   "cell_type": "code",
   "execution_count": 129,
   "id": "e0644f89",
   "metadata": {},
   "outputs": [
    {
     "data": {
      "text/plain": [
       "array([5.])"
      ]
     },
     "execution_count": 129,
     "metadata": {},
     "output_type": "execute_result"
    }
   ],
   "source": [
    "sim2.grn_.attr_['genes'][gene]._calc_prod([0], regs_conc = 'sim')\n",
    "sim2.grn_.attr_['genes'][gene].prod_rates_"
   ]
  },
  {
   "cell_type": "code",
   "execution_count": 13,
   "id": "1f85b522",
   "metadata": {},
   "outputs": [
    {
     "data": {
      "text/plain": [
       "(True, False)"
      ]
     },
     "execution_count": 13,
     "metadata": {},
     "output_type": "execute_result"
    }
   ],
   "source": [
    "sim2.grn_.attr_['genes'][gene].isMR_,sim.grn_.attr_['genes'][gene].isMR_\n"
   ]
  },
  {
   "cell_type": "code",
   "execution_count": 30,
   "id": "9373698f",
   "metadata": {},
   "outputs": [
    {
     "name": "stdout",
     "output_type": "stream",
     "text": [
      "None\n"
     ]
    }
   ],
   "source": [
    "if sim2.grn_.attr_['genes'][list(non_mr)[0]].prod_rates_ is not None:\n",
    "    print('None')"
   ]
  },
  {
   "cell_type": "code",
   "execution_count": 156,
   "id": "b3e9f5b1",
   "metadata": {},
   "outputs": [
    {
     "data": {
      "text/plain": [
       "[<matplotlib.lines.Line2D at 0x7f3ae4ac7100>]"
      ]
     },
     "execution_count": 156,
     "metadata": {},
     "output_type": "execute_result"
    },
    {
     "data": {
      "image/png": "[encoded data removed]",
      "text/plain": [
       "<Figure size 432x288 with 1 Axes>"
      ]
     },
     "metadata": {
      "needs_background": "light"
     },
     "output_type": "display_data"
    }
   ],
   "source": [
    "sim2.grn_.attr_['genes'][gene].level,\n",
    "plt.plot(*zip(*list(Counter([sim2.grn_.attr_['genes'][el].level for el in mrs ]).items())),'.')\n"
   ]
  },
  {
   "cell_type": "code",
   "execution_count": 159,
   "id": "56433d89",
   "metadata": {},
   "outputs": [
    {
     "data": {
      "text/plain": [
       "[<matplotlib.lines.Line2D at 0x7f3ae5795460>]"
      ]
     },
     "execution_count": 159,
     "metadata": {},
     "output_type": "execute_result"
    },
    {
     "data": {
      "image/png": "[encoded data removed]",
      "text/plain": [
       "<Figure size 432x288 with 1 Axes>"
      ]
     },
     "metadata": {
      "needs_background": "light"
     },
     "output_type": "display_data"
    }
   ],
   "source": [
    "plt.plot(*zip(*list(Counter([sim2.grn_.attr_['genes'][el].level for el in non_mr if el!=gene]).items())),'.')\n"
   ]
  },
  {
   "cell_type": "markdown",
   "id": "7548ded7",
   "metadata": {},
   "source": [
    "run etest on Anndata, create a unique anndata with perturbation column. Use p-values to compare with experiments"
   ]
  },
  {
   "cell_type": "code",
   "execution_count": null,
   "id": "71c07274",
   "metadata": {},
   "outputs": [],
   "source": []
  },
  {
   "cell_type": "code",
   "execution_count": 44,
   "id": "e90f2816",
   "metadata": {},
   "outputs": [],
   "source": [
    "import scanpy as sc\n",
    "scperturb.edist_to_control\n"
   ]
  },
  {
   "cell_type": "code",
   "execution_count": 42,
   "id": "de521e39",
   "metadata": {},
   "outputs": [],
   "source": [
    "def edist_to_control(adata, obs_key='perturbation', control='control', \n",
    "                     obsm_key='X_pca', dist='sqeuclidean',  \n",
    "                     flavor=0, verbose=True):\n",
    "    \"\"\"Computes the edistance to control.\n",
    "    Computes the all E-distances between all groups of cells defined in\n",
    "    adata.obs[obs_key] (e.g. perturbations) and control cells. Distances are computed in embedding\n",
    "    space given by adata.obsm[obsm_key] (e.g. PCA space).\n",
    "    Arguments\n",
    "    ---------\n",
    "    adata: :class:`~anndata.AnnData`\n",
    "        Annotated data matrix.\n",
    "    obs_key: `str` in adata.obs.keys() (default: `perturbation`)\n",
    "        Key in adata.obs specifying the groups to consider.\n",
    "    obsm_key: `str` in adata.obsm (default: `adata.obsm['X_pca']`)\n",
    "        Key for embedding coordinates to use.\n",
    "    dist: `str` for any distance in scipy.spatial.distance (default: `sqeuclidean`)\n",
    "        Distance metric to use in embedding space.\n",
    "    flavor: `int` (default: `0`)\n",
    "        Which flavor of E-distance to use.\n",
    "        - `0`: E-distance no correction factor\n",
    "        - `1`: E-distance with simple correction factor (N-1)\n",
    "        - `2`: E-distance with correction factor NM/(N+M)\n",
    "        - `3`: E-distance with correction division by delta\n",
    "    verbose: `bool` (default: `True`)\n",
    "        Whether to show a progress bar iterating over all groups.\n",
    "    Returns\n",
    "    -------\n",
    "    ed_to_c: pandas.DataFrame\n",
    "        DataFrame with E-distances between all groups and control group.\n",
    "    \"\"\"\n",
    "    correction_factor = flavor==1\n",
    "    deltas_to_c = onesided_pca_distances(adata, obs_key=obs_key, control=control, \n",
    "                                         obsm_key=obsm_key, dist=dist, \n",
    "                                         correction_factor=correction_factor, \n",
    "                                         verbose=verbose)\n",
    "    sigmas = self_pca_distances(adata, obs_key, obsm_key=obsm_key, dist=dist, \n",
    "                                correction_factor=correction_factor, verbose=False)\n",
    "    # derive basic statistics\n",
    "    ed_to_c = 2 * deltas_to_c - sigmas - sigmas.loc[control]\n",
    "    if flavor == 2:\n",
    "        sizes = np.array([np.sum(adata.obs[obs_key]==g) for g in sigmas.index])\n",
    "        corrections = (sizes * sizes[sigmas.index==control]) / (sizes + sizes[sigmas.index==control])\n",
    "        ed_to_c = ed_to_c * corrections.reshape(-1,1)\n",
    "    if flavor == 3:\n",
    "        ed_to_c = ed_to_c / deltas_to_c\n",
    "    return ed_to_c"
   ]
  },
  {
   "cell_type": "code",
   "execution_count": 1,
   "id": "b5ced694",
   "metadata": {},
   "outputs": [],
   "source": []
  },
  {
   "cell_type": "code",
   "execution_count": 2,
   "id": "6106e948",
   "metadata": {},
   "outputs": [
    {
     "name": "stderr",
     "output_type": "stream",
     "text": [
      "/home/giuseppe/Documents/Sergio_perturbation/SERGIO/_perturbation.py:157: FutureWarning: adjacency_matrix will return a scipy.sparse array instead of a matrix in Networkx 3.0.\n",
      "  J = nx.adjacency_matrix(G)\n",
      "DEBUG:root:Number of nodes is 33\n"
     ]
    },
    {
     "ename": "KeyboardInterrupt",
     "evalue": "",
     "output_type": "error",
     "traceback": [
      "\u001b[0;31m---------------------------------------------------------------------------\u001b[0m",
      "\u001b[0;31mKeyboardInterrupt\u001b[0m                         Traceback (most recent call last)",
      "\u001b[0;32m/tmp/ipykernel_128105/1500025460.py\u001b[0m in \u001b[0;36m<module>\u001b[0;34m\u001b[0m\n\u001b[1;32m      1\u001b[0m \u001b[0mpert\u001b[0m \u001b[0;34m=\u001b[0m \u001b[0mperturbation\u001b[0m\u001b[0;34m(\u001b[0m\u001b[0;36m50\u001b[0m\u001b[0;34m)\u001b[0m\u001b[0;34m\u001b[0m\u001b[0;34m\u001b[0m\u001b[0m\n\u001b[0;32m----> 2\u001b[0;31m \u001b[0mpert\u001b[0m\u001b[0;34m.\u001b[0m\u001b[0mperturbation_all\u001b[0m\u001b[0;34m(\u001b[0m\u001b[0mnCells\u001b[0m\u001b[0;34m=\u001b[0m\u001b[0;36m10\u001b[0m\u001b[0;34m)\u001b[0m\u001b[0;34m\u001b[0m\u001b[0;34m\u001b[0m\u001b[0m\n\u001b[0m",
      "\u001b[0;32m~/Documents/Sergio_perturbation/SERGIO/_perturbation.py\u001b[0m in \u001b[0;36mperturbation_all\u001b[0;34m(self, nCells)\u001b[0m\n\u001b[1;32m     98\u001b[0m             \u001b[0mself\u001b[0m\u001b[0;34m.\u001b[0m\u001b[0mstore\u001b[0m\u001b[0;34m[\u001b[0m\u001b[0;36m0\u001b[0m\u001b[0;34m,\u001b[0m\u001b[0mi\u001b[0m\u001b[0;34m]\u001b[0m\u001b[0;34m=\u001b[0m \u001b[0mself\u001b[0m\u001b[0;34m.\u001b[0m\u001b[0m_single_perturbation\u001b[0m\u001b[0;34m(\u001b[0m\u001b[0mgrn\u001b[0m \u001b[0;34m=\u001b[0m \u001b[0mgrn\u001b[0m\u001b[0;34m,\u001b[0m\u001b[0mmr_profs\u001b[0m\u001b[0;34m=\u001b[0m\u001b[0mmr_profs\u001b[0m\u001b[0;34m,\u001b[0m\u001b[0mtarget_gene\u001b[0m\u001b[0;34m=\u001b[0m\u001b[0mtarget_gene\u001b[0m\u001b[0;34m,\u001b[0m\u001b[0mbasal_prod\u001b[0m\u001b[0;34m=\u001b[0m\u001b[0;36m0.2\u001b[0m\u001b[0;34m,\u001b[0m\u001b[0mnCells\u001b[0m\u001b[0;34m=\u001b[0m\u001b[0mnCells\u001b[0m\u001b[0;34m,\u001b[0m\u001b[0mcutting\u001b[0m\u001b[0;34m=\u001b[0m\u001b[0;32mTrue\u001b[0m\u001b[0;34m)\u001b[0m\u001b[0;34m.\u001b[0m\u001b[0mgetSimExpr\u001b[0m\u001b[0;34m(\u001b[0m\u001b[0;34m)\u001b[0m\u001b[0;34m.\u001b[0m\u001b[0mvalues\u001b[0m\u001b[0;34m\u001b[0m\u001b[0;34m\u001b[0m\u001b[0m\n\u001b[1;32m     99\u001b[0m             \u001b[0;31m#simulate Crispra\u001b[0m\u001b[0;34m\u001b[0m\u001b[0;34m\u001b[0m\u001b[0m\n\u001b[0;32m--> 100\u001b[0;31m             \u001b[0mself\u001b[0m\u001b[0;34m.\u001b[0m\u001b[0mstore\u001b[0m\u001b[0;34m[\u001b[0m\u001b[0;36m1\u001b[0m\u001b[0;34m,\u001b[0m\u001b[0mi\u001b[0m\u001b[0;34m]\u001b[0m\u001b[0;34m=\u001b[0m \u001b[0mself\u001b[0m\u001b[0;34m.\u001b[0m\u001b[0m_single_perturbation\u001b[0m\u001b[0;34m(\u001b[0m\u001b[0mgrn\u001b[0m \u001b[0;34m=\u001b[0m \u001b[0mgrn\u001b[0m\u001b[0;34m,\u001b[0m\u001b[0mmr_profs\u001b[0m\u001b[0;34m=\u001b[0m\u001b[0mmr_profs\u001b[0m\u001b[0;34m,\u001b[0m\u001b[0mtarget_gene\u001b[0m\u001b[0;34m=\u001b[0m\u001b[0mtarget_gene\u001b[0m\u001b[0;34m,\u001b[0m\u001b[0mbasal_prod\u001b[0m\u001b[0;34m=\u001b[0m\u001b[0;36m7\u001b[0m\u001b[0;34m,\u001b[0m\u001b[0mnCells\u001b[0m\u001b[0;34m=\u001b[0m\u001b[0mnCells\u001b[0m\u001b[0;34m,\u001b[0m\u001b[0mcutting\u001b[0m\u001b[0;34m=\u001b[0m\u001b[0;32mTrue\u001b[0m\u001b[0;34m)\u001b[0m\u001b[0;34m.\u001b[0m\u001b[0mgetSimExpr\u001b[0m\u001b[0;34m(\u001b[0m\u001b[0;34m)\u001b[0m\u001b[0;34m.\u001b[0m\u001b[0mvalues\u001b[0m\u001b[0;34m\u001b[0m\u001b[0;34m\u001b[0m\u001b[0m\n\u001b[0m\u001b[1;32m    101\u001b[0m \u001b[0;34m\u001b[0m\u001b[0m\n\u001b[1;32m    102\u001b[0m \u001b[0;34m\u001b[0m\u001b[0m\n",
      "\u001b[0;32m~/Documents/Sergio_perturbation/SERGIO/_perturbation.py\u001b[0m in \u001b[0;36m_single_perturbation\u001b[0;34m(grn, mr_profs, target_gene, basal_prod, nCells, cutting)\u001b[0m\n\u001b[1;32m     76\u001b[0m         \u001b[0mnew_grn\u001b[0m\u001b[0;34m.\u001b[0m\u001b[0minit\u001b[0m\u001b[0;34m(\u001b[0m\u001b[0mcrispr\u001b[0m\u001b[0;34m,\u001b[0m \u001b[0mupdate_half_resp\u001b[0m \u001b[0;34m=\u001b[0m \u001b[0;32mTrue\u001b[0m\u001b[0;34m)\u001b[0m\u001b[0;34m\u001b[0m\u001b[0;34m\u001b[0m\u001b[0m\n\u001b[1;32m     77\u001b[0m         \u001b[0msim\u001b[0m \u001b[0;34m=\u001b[0m \u001b[0msergio\u001b[0m\u001b[0;34m(\u001b[0m\u001b[0mnew_grn\u001b[0m\u001b[0;34m)\u001b[0m\u001b[0;34m\u001b[0m\u001b[0;34m\u001b[0m\u001b[0m\n\u001b[0;32m---> 78\u001b[0;31m         \u001b[0msim\u001b[0m\u001b[0;34m.\u001b[0m\u001b[0msimulate\u001b[0m\u001b[0;34m(\u001b[0m\u001b[0mnCells\u001b[0m \u001b[0;34m=\u001b[0m \u001b[0mnCells\u001b[0m\u001b[0;34m,\u001b[0m \u001b[0mnoise_s\u001b[0m \u001b[0;34m=\u001b[0m \u001b[0;36m1\u001b[0m\u001b[0;34m,\u001b[0m \u001b[0msafety_iter\u001b[0m \u001b[0;34m=\u001b[0m \u001b[0;36m150\u001b[0m\u001b[0;34m,\u001b[0m \u001b[0mscale_iter\u001b[0m \u001b[0;34m=\u001b[0m \u001b[0;36m10\u001b[0m\u001b[0;34m)\u001b[0m\u001b[0;34m\u001b[0m\u001b[0;34m\u001b[0m\u001b[0m\n\u001b[0m\u001b[1;32m     79\u001b[0m         \u001b[0;32mreturn\u001b[0m \u001b[0msim\u001b[0m\u001b[0;34m\u001b[0m\u001b[0;34m\u001b[0m\u001b[0m\n\u001b[1;32m     80\u001b[0m     \u001b[0;32mdef\u001b[0m \u001b[0mperturbation_all\u001b[0m\u001b[0;34m(\u001b[0m\u001b[0mself\u001b[0m\u001b[0;34m,\u001b[0m\u001b[0mnCells\u001b[0m\u001b[0;34m)\u001b[0m\u001b[0;34m:\u001b[0m\u001b[0;34m\u001b[0m\u001b[0;34m\u001b[0m\u001b[0m\n",
      "\u001b[0;32m~/Documents/Sergio_perturbation/SERGIO/_sergio.py\u001b[0m in \u001b[0;36msimulate\u001b[0;34m(self, nCells, noise_s, noise_u, safety_iter, scale_iter, dt)\u001b[0m\n\u001b[1;32m     77\u001b[0m \u001b[0;34m\u001b[0m\u001b[0m\n\u001b[1;32m     78\u001b[0m         \u001b[0;32mif\u001b[0m \u001b[0;32mnot\u001b[0m \u001b[0mself\u001b[0m\u001b[0;34m.\u001b[0m\u001b[0mdiff_graph_\u001b[0m\u001b[0;34m:\u001b[0m\u001b[0;34m\u001b[0m\u001b[0;34m\u001b[0m\u001b[0m\n\u001b[0;32m---> 79\u001b[0;31m             \u001b[0mself\u001b[0m\u001b[0;34m.\u001b[0m\u001b[0m_simulate_ss\u001b[0m\u001b[0;34m(\u001b[0m\u001b[0mself\u001b[0m\u001b[0;34m.\u001b[0m\u001b[0mnCells_\u001b[0m\u001b[0;34m,\u001b[0m \u001b[0mnoise_ss\u001b[0m \u001b[0;34m=\u001b[0m \u001b[0mnoise_s\u001b[0m\u001b[0;34m,\u001b[0m \u001b[0mdt\u001b[0m \u001b[0;34m=\u001b[0m \u001b[0mdt\u001b[0m\u001b[0;34m,\u001b[0m \u001b[0msafety_iter\u001b[0m \u001b[0;34m=\u001b[0m \u001b[0msafety_iter\u001b[0m\u001b[0;34m,\u001b[0m \u001b[0mscale_iter\u001b[0m \u001b[0;34m=\u001b[0m \u001b[0mscale_iter\u001b[0m\u001b[0;34m)\u001b[0m\u001b[0;34m\u001b[0m\u001b[0;34m\u001b[0m\u001b[0m\n\u001b[0m\u001b[1;32m     80\u001b[0m         \u001b[0;32melse\u001b[0m\u001b[0;34m:\u001b[0m\u001b[0;34m\u001b[0m\u001b[0;34m\u001b[0m\u001b[0m\n\u001b[1;32m     81\u001b[0m             \u001b[0;32mraise\u001b[0m \u001b[0mValueError\u001b[0m\u001b[0;34m(\u001b[0m\u001b[0;34m'not implement'\u001b[0m\u001b[0;34m)\u001b[0m\u001b[0;34m\u001b[0m\u001b[0;34m\u001b[0m\u001b[0m\n",
      "\u001b[0;32m~/Documents/Sergio_perturbation/SERGIO/_sergio.py\u001b[0m in \u001b[0;36m_simulate_ss\u001b[0;34m(self, nCells, noise_ss, dt, safety_iter, scale_iter)\u001b[0m\n\u001b[1;32m     62\u001b[0m         \u001b[0mnIter\u001b[0m \u001b[0;34m=\u001b[0m \u001b[0;36m0\u001b[0m\u001b[0;34m\u001b[0m\u001b[0;34m\u001b[0m\u001b[0m\n\u001b[1;32m     63\u001b[0m         \u001b[0;32mwhile\u001b[0m\u001b[0;34m(\u001b[0m\u001b[0mcTypes\u001b[0m\u001b[0;34m)\u001b[0m\u001b[0;34m:\u001b[0m\u001b[0;34m\u001b[0m\u001b[0;34m\u001b[0m\u001b[0m\n\u001b[0;32m---> 64\u001b[0;31m             \u001b[0mself\u001b[0m\u001b[0;34m.\u001b[0m\u001b[0m_iter_ss\u001b[0m\u001b[0;34m(\u001b[0m\u001b[0mnoise_ss\u001b[0m\u001b[0;34m,\u001b[0m \u001b[0mdt\u001b[0m\u001b[0;34m,\u001b[0m \u001b[0mcTypes\u001b[0m\u001b[0;34m)\u001b[0m\u001b[0;34m\u001b[0m\u001b[0;34m\u001b[0m\u001b[0m\n\u001b[0m\u001b[1;32m     65\u001b[0m             \u001b[0mnIter\u001b[0m \u001b[0;34m+=\u001b[0m \u001b[0;36m1\u001b[0m\u001b[0;34m\u001b[0m\u001b[0;34m\u001b[0m\u001b[0m\n\u001b[1;32m     66\u001b[0m             \u001b[0mcTypes\u001b[0m \u001b[0;34m=\u001b[0m \u001b[0mnp\u001b[0m\u001b[0;34m.\u001b[0m\u001b[0mwhere\u001b[0m\u001b[0;34m(\u001b[0m\u001b[0mreq\u001b[0m \u001b[0;34m>\u001b[0m \u001b[0mnIter\u001b[0m\u001b[0;34m)\u001b[0m\u001b[0;34m[\u001b[0m\u001b[0;36m0\u001b[0m\u001b[0;34m]\u001b[0m\u001b[0;34m.\u001b[0m\u001b[0mtolist\u001b[0m\u001b[0;34m(\u001b[0m\u001b[0;34m)\u001b[0m\u001b[0;34m\u001b[0m\u001b[0;34m\u001b[0m\u001b[0m\n",
      "\u001b[0;32m~/Documents/Sergio_perturbation/SERGIO/_sergio.py\u001b[0m in \u001b[0;36m_iter_ss\u001b[0;34m(self, noise_ss, dt, cTypes)\u001b[0m\n\u001b[1;32m     36\u001b[0m             \u001b[0mgene\u001b[0m \u001b[0;34m=\u001b[0m \u001b[0mself\u001b[0m\u001b[0;34m.\u001b[0m\u001b[0mgrn_\u001b[0m\u001b[0;34m.\u001b[0m\u001b[0mattr_\u001b[0m\u001b[0;34m[\u001b[0m\u001b[0;34m'genes'\u001b[0m\u001b[0;34m]\u001b[0m\u001b[0;34m[\u001b[0m\u001b[0mgn\u001b[0m\u001b[0;34m]\u001b[0m\u001b[0;34m\u001b[0m\u001b[0;34m\u001b[0m\u001b[0m\n\u001b[1;32m     37\u001b[0m             \u001b[0mX\u001b[0m\u001b[0;34m[\u001b[0m\u001b[0mri\u001b[0m\u001b[0;34m]\u001b[0m \u001b[0;34m=\u001b[0m \u001b[0mgene\u001b[0m\u001b[0;34m.\u001b[0m\u001b[0mget_last_conc\u001b[0m\u001b[0;34m(\u001b[0m\u001b[0mcTypes\u001b[0m\u001b[0;34m)\u001b[0m\u001b[0;34m\u001b[0m\u001b[0;34m\u001b[0m\u001b[0m\n\u001b[0;32m---> 38\u001b[0;31m             \u001b[0mP\u001b[0m\u001b[0;34m[\u001b[0m\u001b[0mri\u001b[0m\u001b[0;34m]\u001b[0m \u001b[0;34m=\u001b[0m \u001b[0mgene\u001b[0m\u001b[0;34m.\u001b[0m\u001b[0m_calc_prod\u001b[0m\u001b[0;34m(\u001b[0m\u001b[0mcTypes\u001b[0m\u001b[0;34m,\u001b[0m \u001b[0mregs_conc\u001b[0m \u001b[0;34m=\u001b[0m \u001b[0;34m'sim'\u001b[0m\u001b[0;34m)\u001b[0m\u001b[0;34m\u001b[0m\u001b[0;34m\u001b[0m\u001b[0m\n\u001b[0m\u001b[1;32m     39\u001b[0m \u001b[0;34m\u001b[0m\u001b[0m\n\u001b[1;32m     40\u001b[0m         \u001b[0mP\u001b[0m\u001b[0;34m[\u001b[0m\u001b[0mP\u001b[0m \u001b[0;34m<\u001b[0m \u001b[0;36m0\u001b[0m\u001b[0;34m]\u001b[0m \u001b[0;34m=\u001b[0m \u001b[0;36m0\u001b[0m \u001b[0;31m# numerical stability\u001b[0m\u001b[0;34m\u001b[0m\u001b[0;34m\u001b[0m\u001b[0m\n",
      "\u001b[0;32m~/Documents/Sergio_perturbation/SERGIO/GRN/_components.py\u001b[0m in \u001b[0;36m_calc_prod\u001b[0;34m(self, cTypes, regs_conc)\u001b[0m\n\u001b[1;32m     24\u001b[0m         \u001b[0mret\u001b[0m \u001b[0;34m=\u001b[0m \u001b[0mnp\u001b[0m\u001b[0;34m.\u001b[0m\u001b[0mzeros\u001b[0m\u001b[0;34m(\u001b[0m\u001b[0mshape\u001b[0m \u001b[0;34m=\u001b[0m \u001b[0;34m(\u001b[0m\u001b[0mlen\u001b[0m\u001b[0;34m(\u001b[0m\u001b[0mcTypes\u001b[0m\u001b[0;34m)\u001b[0m\u001b[0;34m,\u001b[0m\u001b[0;34m)\u001b[0m\u001b[0;34m)\u001b[0m\u001b[0;34m\u001b[0m\u001b[0;34m\u001b[0m\u001b[0m\n\u001b[1;32m     25\u001b[0m         \u001b[0;32mfor\u001b[0m \u001b[0mi\u001b[0m \u001b[0;32min\u001b[0m \u001b[0mself\u001b[0m\u001b[0;34m.\u001b[0m\u001b[0minInteractions\u001b[0m\u001b[0;34m.\u001b[0m\u001b[0mkeys\u001b[0m\u001b[0;34m(\u001b[0m\u001b[0;34m)\u001b[0m\u001b[0;34m:\u001b[0m\u001b[0;34m\u001b[0m\u001b[0;34m\u001b[0m\u001b[0m\n\u001b[0;32m---> 26\u001b[0;31m             \u001b[0mret\u001b[0m \u001b[0;34m+=\u001b[0m \u001b[0mself\u001b[0m\u001b[0;34m.\u001b[0m\u001b[0minInteractions\u001b[0m\u001b[0;34m[\u001b[0m\u001b[0mi\u001b[0m\u001b[0;34m]\u001b[0m\u001b[0;34m.\u001b[0m\u001b[0m_get_hill\u001b[0m\u001b[0;34m(\u001b[0m\u001b[0mcTypes\u001b[0m\u001b[0;34m,\u001b[0m \u001b[0mregs_conc\u001b[0m \u001b[0;34m=\u001b[0m \u001b[0mregs_conc\u001b[0m\u001b[0;34m)\u001b[0m\u001b[0;34m\u001b[0m\u001b[0;34m\u001b[0m\u001b[0m\n\u001b[0m\u001b[1;32m     27\u001b[0m         \u001b[0;31m#to implement the effect of basal production in Crispr experiments\u001b[0m\u001b[0;34m\u001b[0m\u001b[0;34m\u001b[0m\u001b[0m\n\u001b[1;32m     28\u001b[0m         \u001b[0;32mif\u001b[0m \u001b[0mself\u001b[0m\u001b[0;34m.\u001b[0m\u001b[0mprod_rates_\u001b[0m \u001b[0;32mis\u001b[0m \u001b[0;32mnot\u001b[0m \u001b[0;32mNone\u001b[0m\u001b[0;34m:\u001b[0m\u001b[0;34m\u001b[0m\u001b[0;34m\u001b[0m\u001b[0m\n",
      "\u001b[0;32m~/Documents/Sergio_perturbation/SERGIO/GRN/_components.py\u001b[0m in \u001b[0;36m_get_hill\u001b[0;34m(self, cTypes, regs_conc)\u001b[0m\n\u001b[1;32m     63\u001b[0m             \u001b[0mx\u001b[0m \u001b[0;34m=\u001b[0m \u001b[0mself\u001b[0m\u001b[0;34m.\u001b[0m\u001b[0mreg_\u001b[0m\u001b[0;34m[\u001b[0m\u001b[0;36m0\u001b[0m\u001b[0;34m]\u001b[0m\u001b[0;34m.\u001b[0m\u001b[0mss_conc_\u001b[0m\u001b[0;34m[\u001b[0m\u001b[0mcTypes\u001b[0m\u001b[0;34m]\u001b[0m \u001b[0;31m#np.arr\u001b[0m\u001b[0;34m\u001b[0m\u001b[0;34m\u001b[0m\u001b[0m\n\u001b[1;32m     64\u001b[0m         \u001b[0;32melse\u001b[0m\u001b[0;34m:\u001b[0m\u001b[0;34m\u001b[0m\u001b[0;34m\u001b[0m\u001b[0m\n\u001b[0;32m---> 65\u001b[0;31m             \u001b[0mx\u001b[0m \u001b[0;34m=\u001b[0m \u001b[0mself\u001b[0m\u001b[0;34m.\u001b[0m\u001b[0mreg_\u001b[0m\u001b[0;34m[\u001b[0m\u001b[0;36m0\u001b[0m\u001b[0;34m]\u001b[0m\u001b[0;34m.\u001b[0m\u001b[0mget_last_conc\u001b[0m\u001b[0;34m(\u001b[0m\u001b[0mcTypes\u001b[0m\u001b[0;34m)\u001b[0m \u001b[0;31m#np.arr\u001b[0m\u001b[0;34m\u001b[0m\u001b[0;34m\u001b[0m\u001b[0m\n\u001b[0m\u001b[1;32m     66\u001b[0m \u001b[0;34m\u001b[0m\u001b[0m\n\u001b[1;32m     67\u001b[0m         \u001b[0mret\u001b[0m \u001b[0;34m=\u001b[0m \u001b[0mnp\u001b[0m\u001b[0;34m.\u001b[0m\u001b[0mpower\u001b[0m\u001b[0;34m(\u001b[0m\u001b[0mx\u001b[0m\u001b[0;34m,\u001b[0m \u001b[0mself\u001b[0m\u001b[0;34m.\u001b[0m\u001b[0mn_\u001b[0m\u001b[0;34m)\u001b[0m \u001b[0;34m/\u001b[0m \u001b[0;34m(\u001b[0m\u001b[0mnp\u001b[0m\u001b[0;34m.\u001b[0m\u001b[0mpower\u001b[0m\u001b[0;34m(\u001b[0m\u001b[0mx\u001b[0m\u001b[0;34m,\u001b[0m \u001b[0mself\u001b[0m\u001b[0;34m.\u001b[0m\u001b[0mn_\u001b[0m\u001b[0;34m)\u001b[0m \u001b[0;34m+\u001b[0m \u001b[0mnp\u001b[0m\u001b[0;34m.\u001b[0m\u001b[0mpower\u001b[0m\u001b[0;34m(\u001b[0m\u001b[0mself\u001b[0m\u001b[0;34m.\u001b[0m\u001b[0mh_\u001b[0m\u001b[0;34m,\u001b[0m \u001b[0mself\u001b[0m\u001b[0;34m.\u001b[0m\u001b[0mn_\u001b[0m\u001b[0;34m)\u001b[0m\u001b[0;34m)\u001b[0m\u001b[0;34m\u001b[0m\u001b[0;34m\u001b[0m\u001b[0m\n",
      "\u001b[0;32m~/Documents/Sergio_perturbation/SERGIO/GRN/_components.py\u001b[0m in \u001b[0;36mget_last_conc\u001b[0;34m(self, cTypes)\u001b[0m\n\u001b[1;32m     36\u001b[0m \u001b[0;34m\u001b[0m\u001b[0m\n\u001b[1;32m     37\u001b[0m     \u001b[0;32mdef\u001b[0m \u001b[0mget_last_conc\u001b[0m\u001b[0;34m(\u001b[0m\u001b[0mself\u001b[0m\u001b[0;34m,\u001b[0m \u001b[0mcTypes\u001b[0m\u001b[0;34m)\u001b[0m\u001b[0;34m:\u001b[0m\u001b[0;34m\u001b[0m\u001b[0;34m\u001b[0m\u001b[0m\n\u001b[0;32m---> 38\u001b[0;31m         \u001b[0mret\u001b[0m \u001b[0;34m=\u001b[0m \u001b[0;34m[\u001b[0m\u001b[0mself\u001b[0m\u001b[0;34m.\u001b[0m\u001b[0msim_conc_\u001b[0m\u001b[0;34m[\u001b[0m\u001b[0mct\u001b[0m\u001b[0;34m]\u001b[0m\u001b[0;34m[\u001b[0m\u001b[0;34m-\u001b[0m\u001b[0;36m1\u001b[0m\u001b[0;34m]\u001b[0m \u001b[0;32mfor\u001b[0m \u001b[0mct\u001b[0m \u001b[0;32min\u001b[0m \u001b[0mcTypes\u001b[0m\u001b[0;34m]\u001b[0m\u001b[0;34m\u001b[0m\u001b[0;34m\u001b[0m\u001b[0m\n\u001b[0m\u001b[1;32m     39\u001b[0m         \u001b[0;32mreturn\u001b[0m \u001b[0mnp\u001b[0m\u001b[0;34m.\u001b[0m\u001b[0marray\u001b[0m\u001b[0;34m(\u001b[0m\u001b[0mret\u001b[0m\u001b[0;34m)\u001b[0m\u001b[0;34m\u001b[0m\u001b[0;34m\u001b[0m\u001b[0m\n\u001b[1;32m     40\u001b[0m \u001b[0;34m\u001b[0m\u001b[0m\n",
      "\u001b[0;32m~/Documents/Sergio_perturbation/SERGIO/GRN/_components.py\u001b[0m in \u001b[0;36m<listcomp>\u001b[0;34m(.0)\u001b[0m\n\u001b[1;32m     36\u001b[0m \u001b[0;34m\u001b[0m\u001b[0m\n\u001b[1;32m     37\u001b[0m     \u001b[0;32mdef\u001b[0m \u001b[0mget_last_conc\u001b[0m\u001b[0;34m(\u001b[0m\u001b[0mself\u001b[0m\u001b[0;34m,\u001b[0m \u001b[0mcTypes\u001b[0m\u001b[0;34m)\u001b[0m\u001b[0;34m:\u001b[0m\u001b[0;34m\u001b[0m\u001b[0;34m\u001b[0m\u001b[0m\n\u001b[0;32m---> 38\u001b[0;31m         \u001b[0mret\u001b[0m \u001b[0;34m=\u001b[0m \u001b[0;34m[\u001b[0m\u001b[0mself\u001b[0m\u001b[0;34m.\u001b[0m\u001b[0msim_conc_\u001b[0m\u001b[0;34m[\u001b[0m\u001b[0mct\u001b[0m\u001b[0;34m]\u001b[0m\u001b[0;34m[\u001b[0m\u001b[0;34m-\u001b[0m\u001b[0;36m1\u001b[0m\u001b[0;34m]\u001b[0m \u001b[0;32mfor\u001b[0m \u001b[0mct\u001b[0m \u001b[0;32min\u001b[0m \u001b[0mcTypes\u001b[0m\u001b[0;34m]\u001b[0m\u001b[0;34m\u001b[0m\u001b[0;34m\u001b[0m\u001b[0m\n\u001b[0m\u001b[1;32m     39\u001b[0m         \u001b[0;32mreturn\u001b[0m \u001b[0mnp\u001b[0m\u001b[0;34m.\u001b[0m\u001b[0marray\u001b[0m\u001b[0;34m(\u001b[0m\u001b[0mret\u001b[0m\u001b[0;34m)\u001b[0m\u001b[0;34m\u001b[0m\u001b[0;34m\u001b[0m\u001b[0m\n\u001b[1;32m     40\u001b[0m \u001b[0;34m\u001b[0m\u001b[0m\n",
      "\u001b[0;31mKeyboardInterrupt\u001b[0m: "
     ]
    }
   ],
   "source": [
    "pert = perturbation(50)\n",
    "pert.perturbation_all(nCells=10)"
   ]
  },
  {
   "cell_type": "code",
   "execution_count": 3,
   "id": "393fdbbc",
   "metadata": {},
   "outputs": [],
   "source": [
    "pert.save('pert_10')"
   ]
  },
  {
   "cell_type": "code",
   "execution_count": 7,
   "id": "1dc7a21c",
   "metadata": {},
   "outputs": [],
   "source": [
    "import pickle\n",
    "pickle.dump?"
   ]
  },
  {
   "cell_type": "code",
   "execution_count": 4,
   "id": "e8c8151a",
   "metadata": {},
   "outputs": [],
   "source": [
    "pert.load('pert_10')"
   ]
  },
  {
   "cell_type": "code",
   "execution_count": 5,
   "id": "24560f2d",
   "metadata": {},
   "outputs": [
    {
     "data": {
      "text/plain": [
       "array([[[[0.00000000e+00, 1.07644500e-01, 2.00254368e-01,\n",
       "          3.15047724e-02, 0.00000000e+00, 9.91562830e-02,\n",
       "          2.00254368e-01, 1.52326733e-01, 1.45232398e-01,\n",
       "          2.12374233e-01],\n",
       "         [3.87152751e+00, 3.82110445e+00, 4.20384171e+00,\n",
       "          2.72978465e+00, 4.14533028e+00, 3.66240337e+00,\n",
       "          4.20384171e+00, 3.49483939e+00, 4.19844366e+00,\n",
       "          3.17552036e+00],\n",
       "         [7.19312223e+00, 8.16663076e+00, 8.28894991e+00,\n",
       "          7.67124380e+00, 8.02660001e+00, 7.51668214e+00,\n",
       "          8.28894991e+00, 6.31544570e+00, 8.52381962e+00,\n",
       "          6.26944109e+00],\n",
       "         [1.27698252e-01, 4.37413958e-01, 1.01735568e-01,\n",
       "          6.53540987e-02, 5.10127547e-01, 6.07956638e-01,\n",
       "          1.01735568e-01, 5.91108159e-01, 7.41290822e-02,\n",
       "          6.32171083e-01],\n",
       "         [1.58445139e+00, 1.08792231e+00, 1.22927771e+00,\n",
       "          1.53669167e+00, 1.52341030e+00, 7.96520363e-01,\n",
       "          1.22927771e+00, 9.10082770e-01, 1.46160539e+00,\n",
       "          9.54253707e-01],\n",
       "         [3.55955203e+00, 3.90474870e+00, 3.93828964e+00,\n",
       "          3.68073506e+00, 4.06768885e+00, 3.85056729e+00,\n",
       "          3.93828964e+00, 2.89346432e+00, 3.98887001e+00,\n",
       "          2.81467659e+00],\n",
       "         [7.21659404e+00, 4.98435460e+00, 7.35169144e+00,\n",
       "          6.74306731e+00, 6.81223721e+00, 5.06129533e+00,\n",
       "          7.35169144e+00, 6.19278052e+00, 7.63963910e+00,\n",
       "          6.52863508e+00]],\n",
       "\n",
       "        [[1.75557771e+00, 2.30883148e+00, 1.56263116e+00,\n",
       "          2.45594016e+00, 1.28371711e+00, 1.10263564e+00,\n",
       "          1.05864436e+00, 1.44425730e+00, 2.17091465e+00,\n",
       "          2.09501544e+00],\n",
       "         [0.00000000e+00, 0.00000000e+00, 6.26676411e-02,\n",
       "          1.01528829e-01, 6.34405432e-02, 7.18915234e-02,\n",
       "          1.00720258e-01, 2.76173223e-01, 1.25732464e-01,\n",
       "          1.08590811e-02],\n",
       "         [2.79444955e+00, 3.31730623e+00, 3.58375710e+00,\n",
       "          2.99090966e+00, 3.54203022e+00, 3.66302175e+00,\n",
       "          3.55384402e+00, 3.74465881e+00, 3.85842032e+00,\n",
       "          2.92152620e+00],\n",
       "         [4.35379649e-01, 2.09408652e-01, 2.07667177e-01,\n",
       "          6.48567658e-01, 3.60200608e-02, 7.40896902e-01,\n",
       "          4.60284799e-01, 7.67407710e-01, 6.20096070e-01,\n",
       "          7.50465192e-01],\n",
       "         [5.03943250e-02, 7.99964919e-02, 1.79971077e-01,\n",
       "          0.00000000e+00, 1.38230511e-01, 1.00506165e-01,\n",
       "          1.60125673e-01, 2.47094516e-01, 1.10597255e-01,\n",
       "          0.00000000e+00],\n",
       "         [8.20056306e-01, 7.65734949e-01, 1.21500521e+00,\n",
       "          3.83398393e-01, 1.47424146e+00, 2.72652065e+00,\n",
       "          1.47316171e+00, 2.43626717e+00, 1.72173301e+00,\n",
       "          7.29246038e-01],\n",
       "         [2.67623852e+00, 2.97786830e+00, 3.61713634e+00,\n",
       "          3.51773649e+00, 3.85876140e+00, 4.33528238e+00,\n",
       "          3.77657027e+00, 4.35345795e+00, 3.94726818e+00,\n",
       "          4.01658233e+00]],\n",
       "\n",
       "        [[7.39628740e+00, 9.70851663e+00, 7.28693015e+00,\n",
       "          7.71196866e+00, 7.39628740e+00, 7.07500316e+00,\n",
       "          9.49594148e+00, 9.73594837e+00, 9.03222294e+00,\n",
       "          8.68026055e+00],\n",
       "         [1.29540143e+01, 1.16021612e+01, 1.29675076e+01,\n",
       "          1.42761863e+01, 1.29540143e+01, 1.34451351e+01,\n",
       "          1.12578255e+01, 1.02947526e+01, 1.31579281e+01,\n",
       "          1.10524927e+01],\n",
       "         [3.75785249e-01, 6.02630211e-02, 2.83011682e-01,\n",
       "          5.44249134e-01, 3.75785249e-01, 5.68636411e-01,\n",
       "          6.55331212e-02, 3.15155300e-03, 1.86682649e-01,\n",
       "          1.20371997e-01],\n",
       "         [1.63048647e+00, 4.25482727e-01, 1.57717341e+00,\n",
       "          2.41542777e+00, 1.63048647e+00, 2.23583543e+00,\n",
       "          1.04934841e+00, 1.33692924e-01, 1.70535559e+00,\n",
       "          1.00250000e+00],\n",
       "         [2.44621737e+00, 4.43737634e+00, 2.44761508e+00,\n",
       "          3.46913460e+00, 2.44621737e+00, 3.46528435e+00,\n",
       "          3.87823951e+00, 4.67193333e+00, 2.42157161e+00,\n",
       "          3.92665328e+00],\n",
       "         [7.11651450e-01, 7.60436625e-01, 5.50738138e-01,\n",
       "          8.57107309e-01, 7.11651450e-01, 6.65857054e-01,\n",
       "          2.82496847e-01, 6.30724063e-01, 2.81426197e-01,\n",
       "          3.84105061e-01],\n",
       "         [4.43106998e+00, 5.20937164e+00, 4.61702806e+00,\n",
       "          4.11951470e+00, 4.43106998e+00, 3.95269353e+00,\n",
       "          5.51081089e+00, 5.43310613e+00, 5.31390209e+00,\n",
       "          5.11659511e+00]],\n",
       "\n",
       "        [[4.34834808e+00, 3.47961437e+00, 4.97007572e+00,\n",
       "          4.87400842e+00, 3.58504032e+00, 4.42253973e+00,\n",
       "          2.83092323e+00, 3.11103238e+00, 3.11103238e+00,\n",
       "          4.07146265e+00],\n",
       "         [5.24340922e+00, 3.92075209e+00, 5.20820518e+00,\n",
       "          3.75088323e+00, 5.41591938e+00, 5.07101271e+00,\n",
       "          3.27745263e+00, 3.94769146e+00, 3.94769146e+00,\n",
       "          5.66942273e+00],\n",
       "         [4.72855514e+00, 3.80479834e+00, 5.15493649e+00,\n",
       "          3.81115790e+00, 4.32689917e+00, 4.11117155e+00,\n",
       "          2.83096978e+00, 3.52941920e+00, 3.52941920e+00,\n",
       "          4.55588220e+00],\n",
       "         [2.64261389e-01, 0.00000000e+00, 1.34594910e-01,\n",
       "          3.32525239e-02, 2.39141745e-01, 2.15426011e-01,\n",
       "          6.36947471e-02, 1.44536514e-01, 1.44536514e-01,\n",
       "          1.00232777e-01],\n",
       "         [1.06464262e+00, 6.28991941e-01, 1.02316474e+00,\n",
       "          3.53329950e-01, 6.75451687e-01, 7.48672475e-01,\n",
       "          6.40305700e-01, 3.89967829e-01, 3.89967829e-01,\n",
       "          9.74376742e-01],\n",
       "         [4.01957500e+00, 2.02073855e+00, 3.87103216e+00,\n",
       "          2.06304675e+00, 2.27818472e+00, 3.77544276e+00,\n",
       "          1.89261357e+00, 1.53123830e+00, 1.53123830e+00,\n",
       "          3.48267965e+00],\n",
       "         [4.90645659e+00, 5.68013265e+00, 4.77128334e+00,\n",
       "          6.50184768e+00, 5.12071085e+00, 5.24213420e+00,\n",
       "          5.54532621e+00, 6.38835479e+00, 6.38835479e+00,\n",
       "          4.91117991e+00]],\n",
       "\n",
       "        [[7.96633166e+00, 6.47324934e+00, 8.12319102e+00,\n",
       "          8.01403355e+00, 6.23969556e+00, 6.95479871e+00,\n",
       "          8.12319102e+00, 7.75365003e+00, 3.96522730e+00,\n",
       "          4.07568008e+00],\n",
       "         [8.15284293e+00, 5.29086217e+00, 7.89752798e+00,\n",
       "          7.72616352e+00, 5.57894653e+00, 5.96743563e+00,\n",
       "          7.89752798e+00, 6.00556465e+00, 5.43640394e+00,\n",
       "          5.16831251e+00],\n",
       "         [1.19820631e+01, 9.22877171e+00, 1.14106915e+01,\n",
       "          1.05799540e+01, 1.25857089e+01, 1.19898202e+01,\n",
       "          1.14106915e+01, 1.04515257e+01, 9.92213198e+00,\n",
       "          8.22589523e+00],\n",
       "         [1.51122129e-01, 3.69764301e-01, 2.26122534e-01,\n",
       "          3.33868534e-01, 2.78806399e-01, 3.42983974e-01,\n",
       "          2.26122534e-01, 1.65302994e-01, 1.34410336e+00,\n",
       "          6.08461648e-01],\n",
       "         [4.55084682e-01, 3.16659267e-01, 6.63937981e-01,\n",
       "          5.87383782e-01, 9.07625618e-01, 1.00473601e+00,\n",
       "          6.63937981e-01, 5.89748142e-01, 1.15604848e-01,\n",
       "          4.62891916e-02],\n",
       "         [1.81755571e-01, 2.86654726e-01, 4.69946387e-01,\n",
       "          3.70480521e-01, 0.00000000e+00, 5.21890835e-02,\n",
       "          4.69946387e-01, 1.69777363e-01, 9.45870258e-01,\n",
       "          1.95830941e-01],\n",
       "         [4.81028230e+00, 3.45351342e+00, 4.66587694e+00,\n",
       "          4.61221765e+00, 4.15349051e+00, 4.61831582e+00,\n",
       "          4.66587694e+00, 4.65138289e+00, 4.85311165e+00,\n",
       "          7.98662501e+00]],\n",
       "\n",
       "        [[2.77626833e+00, 3.60474330e+00, 3.42077115e+00,\n",
       "          4.67583115e+00, 4.36640530e+00, 4.18758526e+00,\n",
       "          4.20382921e+00, 2.88787343e+00, 3.23988374e+00,\n",
       "          2.91618154e+00],\n",
       "         [5.55635887e+00, 7.56802894e+00, 7.07798349e+00,\n",
       "          8.33290460e+00, 6.38771717e+00, 5.85134958e+00,\n",
       "          6.60471501e+00, 6.60981749e+00, 5.22468644e+00,\n",
       "          6.28325442e+00],\n",
       "         [2.34843045e+00, 1.07373969e+00, 9.96492451e-01,\n",
       "          3.82276603e+00, 2.91699006e+00, 1.30156095e+00,\n",
       "          2.07375464e+00, 5.50781394e-01, 2.28467946e+00,\n",
       "          6.37278161e-01],\n",
       "         [2.22521443e+00, 9.15413090e-01, 1.27887586e+00,\n",
       "          3.57872783e+00, 2.08229952e+00, 9.59337385e-01,\n",
       "          1.11513157e+00, 1.29442737e+00, 2.03065856e+00,\n",
       "          1.70400367e+00],\n",
       "         [1.14166907e+00, 1.24490656e+00, 1.02406888e+00,\n",
       "          1.64144508e+00, 1.02227158e+00, 8.46075728e-01,\n",
       "          1.08218530e+00, 8.87167752e-01, 1.56719806e+00,\n",
       "          1.31715161e+00],\n",
       "         [4.28820007e-01, 3.77477495e-01, 3.91464026e-01,\n",
       "          7.97795278e-02, 2.10649748e-02, 0.00000000e+00,\n",
       "          2.10524775e-01, 2.85532799e-01, 4.99998071e-01,\n",
       "          1.44656375e-01],\n",
       "         [4.70192581e+00, 4.19985978e+00, 4.29022115e+00,\n",
       "          7.45253491e+00, 6.51213703e+00, 4.79684043e+00,\n",
       "          5.63359637e+00, 4.13299007e+00, 4.96896374e+00,\n",
       "          4.18781505e+00]],\n",
       "\n",
       "        [[2.93505877e+00, 5.49533001e+00, 3.03218190e+00,\n",
       "          4.57643742e+00, 5.05450855e+00, 2.52301995e+00,\n",
       "          4.98309231e+00, 5.44182540e+00, 3.26387325e+00,\n",
       "          3.08510952e+00],\n",
       "         [9.86961588e+00, 9.76050795e+00, 9.25851235e+00,\n",
       "          6.80908341e+00, 6.71146460e+00, 8.65221760e+00,\n",
       "          8.97363666e+00, 7.12395703e+00, 9.24577670e+00,\n",
       "          9.52747086e+00],\n",
       "         [6.32142693e+00, 5.01532837e+00, 8.92429144e+00,\n",
       "          6.54456782e+00, 6.69251878e+00, 8.81037572e+00,\n",
       "          6.01929079e+00, 7.05166585e+00, 8.05048178e+00,\n",
       "          6.80154711e+00],\n",
       "         [2.53610321e+00, 1.43531071e+00, 2.29304698e+00,\n",
       "          1.94069531e+00, 1.92598822e+00, 2.35545338e+00,\n",
       "          1.97447683e+00, 1.99891318e+00, 2.26551212e+00,\n",
       "          2.31889656e+00],\n",
       "         [1.11617324e+00, 1.04268380e+00, 1.76475825e+00,\n",
       "          1.19851002e+00, 1.82461629e+00, 1.13810127e+00,\n",
       "          1.01588927e+00, 2.18818599e+00, 1.85418956e+00,\n",
       "          1.25592863e+00],\n",
       "         [9.52951852e-01, 7.07310048e-01, 1.13048563e+00,\n",
       "          5.61573981e-01, 2.39017370e-01, 1.58225818e+00,\n",
       "          1.02269307e+00, 3.56725019e-01, 1.27352596e+00,\n",
       "          6.95302588e-01],\n",
       "         [1.37908854e+00, 2.05327582e+00, 1.55839889e+00,\n",
       "          2.50483281e+00, 1.95599315e+00, 1.62690245e+00,\n",
       "          1.92136872e+00, 2.12852974e+00, 1.46109310e+00,\n",
       "          1.85964600e+00]]],\n",
       "\n",
       "\n",
       "       [[[7.12632928e+00, 7.92091254e+00, 8.33878627e+00,\n",
       "          1.15888589e+01, 1.15416545e+01, 1.15142408e+01,\n",
       "          1.22849224e+01, 7.08828549e+00, 1.17335275e+01,\n",
       "          6.74805414e+00],\n",
       "         [9.46518680e+00, 8.06274942e+00, 1.16410489e+01,\n",
       "          7.39206644e+00, 6.57229127e+00, 7.23631737e+00,\n",
       "          7.46842914e+00, 1.08122093e+01, 7.39021476e+00,\n",
       "          9.42927705e+00],\n",
       "         [1.18300551e+01, 8.45034169e+00, 1.20370112e+01,\n",
       "          1.10484852e+01, 1.11018432e+01, 1.14874661e+01,\n",
       "          1.07397447e+01, 1.22747613e+01, 1.11443571e+01,\n",
       "          1.08596508e+01],\n",
       "         [1.26096070e+00, 1.45805428e+00, 1.65513707e+00,\n",
       "          1.02349755e+00, 9.48490971e-01, 1.10545200e+00,\n",
       "          8.53703233e-01, 1.52046042e+00, 8.96853120e-01,\n",
       "          1.46328902e+00],\n",
       "         [1.01196994e+00, 6.60784146e-02, 1.32531692e+00,\n",
       "          4.47309735e-01, 5.81663022e-01, 6.39759857e-01,\n",
       "          4.98842283e-01, 1.35120754e+00, 7.22413212e-01,\n",
       "          1.47635713e+00],\n",
       "         [7.08643161e-01, 2.27586116e-01, 3.88785704e-01,\n",
       "          8.91123371e-01, 1.42637062e+00, 1.30375592e+00,\n",
       "          1.63758611e+00, 6.02496846e-01, 1.65519328e+00,\n",
       "          7.53361187e-01],\n",
       "         [4.10568743e+00, 4.99146074e+00, 2.79281922e+00,\n",
       "          5.24394796e+00, 3.97680495e+00, 4.27911139e+00,\n",
       "          3.20044075e+00, 3.28482330e+00, 3.18886042e+00,\n",
       "          5.26560775e+00]],\n",
       "\n",
       "        [[8.31936422e+00, 6.04293229e+00, 5.95482172e+00,\n",
       "          8.67184356e+00, 6.07634608e+00, 6.44823553e+00,\n",
       "          5.69825479e+00, 7.91372221e+00, 6.21333320e+00,\n",
       "          5.47524712e+00],\n",
       "         [8.11897845e+00, 9.08516619e+00, 8.40282037e+00,\n",
       "          8.35003335e+00, 7.01969922e+00, 6.39018257e+00,\n",
       "          6.52996994e+00, 8.53123259e+00, 8.17846617e+00,\n",
       "          9.15058430e+00],\n",
       "         [5.32551633e+00, 4.94199061e+00, 4.44422721e+00,\n",
       "          4.94966235e+00, 3.91551096e+00, 4.33025444e+00,\n",
       "          4.49804073e+00, 5.57542270e+00, 5.12484421e+00,\n",
       "          5.33953532e+00],\n",
       "         [2.09171060e-01, 1.15368256e+00, 1.02831417e-01,\n",
       "          0.00000000e+00, 3.09511374e-01, 1.36358699e-01,\n",
       "          1.37410590e-01, 3.52566339e-01, 1.95136927e-01,\n",
       "          1.14132236e+00],\n",
       "         [4.70725546e-02, 7.37654056e-01, 6.62413559e-02,\n",
       "          3.52925667e-02, 8.75779790e-02, 6.53412094e-02,\n",
       "          1.25974097e-01, 0.00000000e+00, 8.64996506e-02,\n",
       "          8.54766066e-01],\n",
       "         [3.06239252e-01, 1.36327745e+00, 1.06231024e+00,\n",
       "          6.52274904e-01, 1.10882289e+00, 8.31597281e-01,\n",
       "          1.27569717e+00, 5.87540397e-01, 9.06897486e-01,\n",
       "          1.38890539e+00],\n",
       "         [4.55914916e+00, 6.13386411e+00, 5.59943987e+00,\n",
       "          3.98478206e+00, 4.41042498e+00, 4.10319916e+00,\n",
       "          4.47558047e+00, 4.34529951e+00, 5.62622510e+00,\n",
       "          6.31290528e+00]],\n",
       "\n",
       "        [[3.33996924e+00, 3.78199230e+00, 1.59479039e+00,\n",
       "          2.30429623e+00, 3.67534218e+00, 2.90959057e+00,\n",
       "          3.73190683e+00, 2.61055202e+00, 2.30429623e+00,\n",
       "          3.14949109e+00],\n",
       "         [1.16362741e+01, 1.03983035e+01, 8.04416850e+00,\n",
       "          8.17913017e+00, 8.99820934e+00, 1.20173146e+01,\n",
       "          1.05074696e+01, 7.55147237e+00, 8.17913017e+00,\n",
       "          8.70506880e+00],\n",
       "         [7.13083396e+00, 9.08394866e+00, 7.78853451e+00,\n",
       "          7.05064188e+00, 8.16832373e+00, 7.29529820e+00,\n",
       "          9.02958644e+00, 6.90721396e+00, 7.05064188e+00,\n",
       "          8.43127894e+00],\n",
       "         [1.13696009e+00, 9.78811149e-01, 6.32178790e-01,\n",
       "          7.57072336e-01, 4.70423910e-01, 1.02330613e+00,\n",
       "          8.55098820e-01, 1.30263527e+00, 7.57072336e-01,\n",
       "          1.05564728e+00],\n",
       "         [3.14738440e-01, 7.90656752e-01, 6.83697780e-01,\n",
       "          2.89467957e-01, 5.72973931e-01, 2.95742014e-01,\n",
       "          3.89566753e-01, 2.24004563e-01, 2.89467957e-01,\n",
       "          2.89650433e-01],\n",
       "         [9.35843662e-02, 3.81877244e-01, 4.24683454e-01,\n",
       "          8.99702758e-02, 1.28543682e-01, 3.28979274e-01,\n",
       "          3.92782646e-01, 2.09739259e-01, 8.99702758e-02,\n",
       "          2.52424049e-01],\n",
       "         [4.84690890e+00, 5.95314778e+00, 6.67750060e+00,\n",
       "          4.81656026e+00, 4.06524911e+00, 4.29313388e+00,\n",
       "          4.19835068e+00, 5.15698510e+00, 4.81656026e+00,\n",
       "          4.91854105e+00]],\n",
       "\n",
       "        [[6.98660758e+00, 6.74541119e+00, 6.75214574e+00,\n",
       "          5.81546605e+00, 6.99793846e+00, 6.23139511e+00,\n",
       "          6.64529237e+00, 6.35294648e+00, 6.00102686e+00,\n",
       "          6.41020237e+00],\n",
       "         [7.54310692e+00, 9.81322787e+00, 1.02429825e+01,\n",
       "          1.21708482e+01, 8.37316403e+00, 1.07460012e+01,\n",
       "          9.66413846e+00, 8.81811803e+00, 1.08189943e+01,\n",
       "          9.80291557e+00],\n",
       "         [6.68363155e+00, 6.61895477e+00, 7.25570696e+00,\n",
       "          6.57908193e+00, 5.58651754e+00, 6.75211971e+00,\n",
       "          5.65837602e+00, 5.77424378e+00, 6.39162278e+00,\n",
       "          8.23678250e+00],\n",
       "         [9.52329782e+00, 1.01753899e+01, 9.78228376e+00,\n",
       "          1.22766404e+01, 9.34474101e+00, 9.98802331e+00,\n",
       "          1.08245569e+01, 1.03274762e+01, 9.85649761e+00,\n",
       "          8.78179096e+00],\n",
       "         [1.42858022e+00, 1.84610387e+00, 1.68624790e+00,\n",
       "          1.62492202e+00, 6.45983744e-01, 9.79953067e-01,\n",
       "          1.76799275e+00, 1.23670551e+00, 1.04875703e+00,\n",
       "          1.92539757e+00],\n",
       "         [1.71454092e+00, 3.34898017e-01, 2.54903134e-01,\n",
       "          1.27194835e+00, 1.06599132e+00, 1.27557581e+00,\n",
       "          3.06337404e-01, 0.00000000e+00, 1.22789938e+00,\n",
       "          5.69817369e-02],\n",
       "         [6.83905785e+00, 8.12740362e+00, 8.32871977e+00,\n",
       "          9.08749813e+00, 5.93678501e+00, 7.76220302e+00,\n",
       "          9.51263509e+00, 9.61575601e+00, 7.40292460e+00,\n",
       "          8.16205542e+00]],\n",
       "\n",
       "        [[2.69526360e+00, 3.86324654e+00, 5.38954273e+00,\n",
       "          4.51316162e+00, 3.24870254e+00, 6.05253999e+00,\n",
       "          6.12407752e+00, 4.15741468e+00, 3.56861071e+00,\n",
       "          5.38954273e+00],\n",
       "         [2.95881166e+00, 6.38786589e+00, 5.26177481e+00,\n",
       "          6.46219100e+00, 2.97884516e+00, 5.76052241e+00,\n",
       "          5.86779896e+00, 6.17112975e+00, 3.02187391e+00,\n",
       "          5.26177481e+00],\n",
       "         [9.04086092e+00, 1.08641283e+01, 1.20237044e+01,\n",
       "          1.10062486e+01, 7.94251491e+00, 1.04084549e+01,\n",
       "          1.06343428e+01, 1.08065537e+01, 7.82832972e+00,\n",
       "          1.20237044e+01],\n",
       "         [4.89668553e-01, 7.10263262e-01, 6.95048479e-01,\n",
       "          5.19136527e-01, 7.86750346e-01, 7.68595659e-01,\n",
       "          7.65303807e-01, 7.37378484e-01, 9.61328792e-01,\n",
       "          6.95048479e-01],\n",
       "         [6.86079615e+00, 5.24221984e+00, 6.13187549e+00,\n",
       "          5.18308820e+00, 6.53571927e+00, 4.78525774e+00,\n",
       "          4.81209568e+00, 5.68163722e+00, 6.23738367e+00,\n",
       "          6.13187549e+00],\n",
       "         [1.48012733e+00, 1.34795361e+00, 1.31650634e+00,\n",
       "          1.58095697e+00, 1.46391195e+00, 1.93090063e+00,\n",
       "          1.86673140e+00, 1.39822170e+00, 1.57823283e+00,\n",
       "          1.31650634e+00],\n",
       "         [8.50180596e+00, 9.06573828e+00, 8.04052410e+00,\n",
       "          8.30233855e+00, 1.08176203e+01, 8.59869238e+00,\n",
       "          8.77196077e+00, 9.45330255e+00, 1.07273807e+01,\n",
       "          8.04052410e+00]],\n",
       "\n",
       "        [[9.90256037e+00, 6.92816138e+00, 6.61489593e+00,\n",
       "          6.46216500e+00, 9.64019617e+00, 7.83065041e+00,\n",
       "          6.53327433e+00, 1.03327094e+01, 6.93662419e+00,\n",
       "          1.11010667e+01],\n",
       "         [6.97438852e+00, 7.21599568e+00, 9.46872181e+00,\n",
       "          1.04038522e+01, 6.57197798e+00, 7.71860833e+00,\n",
       "          6.44335751e+00, 6.02751624e+00, 6.69115528e+00,\n",
       "          6.41086704e+00],\n",
       "         [1.17523042e+01, 7.46328295e+00, 7.79107699e+00,\n",
       "          7.53151102e+00, 1.16616901e+01, 7.29809180e+00,\n",
       "          9.02713552e+00, 1.05823708e+01, 7.51249330e+00,\n",
       "          9.42090350e+00],\n",
       "         [3.19072486e+00, 3.80159357e+00, 2.99429926e+00,\n",
       "          2.47858569e+00, 3.10221947e+00, 3.98944318e+00,\n",
       "          2.67467540e+00, 3.20298094e+00, 4.06416547e+00,\n",
       "          4.11038216e+00],\n",
       "         [2.40490690e+00, 3.64504791e+00, 1.87008447e+00,\n",
       "          2.49020473e+00, 2.50888765e+00, 3.31942530e+00,\n",
       "          2.52747714e+00, 2.28285070e+00, 3.51204713e+00,\n",
       "          3.50129091e+00],\n",
       "         [1.06295582e+01, 1.13663297e+01, 1.10275505e+01,\n",
       "          1.18511572e+01, 1.08715296e+01, 1.15338294e+01,\n",
       "          1.05249368e+01, 1.12671483e+01, 1.17687866e+01,\n",
       "          1.20527910e+01],\n",
       "         [1.53777252e+00, 3.30956831e+00, 1.81124713e-01,\n",
       "          1.90317611e+00, 1.56187121e+00, 2.02412722e+00,\n",
       "          1.61138933e+00, 2.09556662e+00, 3.34957964e+00,\n",
       "          2.41969893e+00]],\n",
       "\n",
       "        [[4.93685768e+00, 6.90290747e+00, 5.86882198e+00,\n",
       "          5.50513919e+00, 6.37546069e+00, 6.21993315e+00,\n",
       "          4.84781760e+00, 7.09456405e+00, 6.21993315e+00,\n",
       "          4.55059350e+00],\n",
       "         [3.24080196e+00, 5.34366162e-01, 2.79707974e+00,\n",
       "          2.98891874e+00, 2.35966720e+00, 2.71090829e+00,\n",
       "          3.53604377e+00, 9.49110853e-01, 2.71090829e+00,\n",
       "          3.83836582e+00],\n",
       "         [6.71353339e+00, 6.74702757e+00, 7.74088533e+00,\n",
       "          6.10907577e+00, 6.64574664e+00, 6.78634521e+00,\n",
       "          6.77231695e+00, 5.73231056e+00, 6.78634521e+00,\n",
       "          7.40058985e+00],\n",
       "         [8.52569992e-01, 1.87261476e+00, 8.85016039e-01,\n",
       "          1.42538396e+00, 6.07168527e-01, 7.92338601e-01,\n",
       "          8.47644897e-01, 1.97826831e+00, 7.92338601e-01,\n",
       "          8.08894802e-01],\n",
       "         [0.00000000e+00, 7.12594688e-01, 5.20446674e-01,\n",
       "          1.57246456e+00, 3.29794317e-01, 3.78337896e-01,\n",
       "          0.00000000e+00, 8.92213092e-01, 3.78337896e-01,\n",
       "          9.92552674e-02],\n",
       "         [1.59888502e+00, 2.04073852e+00, 1.29512170e+00,\n",
       "          4.05852555e+00, 1.36683766e+00, 1.47503403e+00,\n",
       "          1.77154492e+00, 2.61041576e+00, 1.47503403e+00,\n",
       "          1.05544346e+00],\n",
       "         [9.61903250e+00, 5.33790650e+00, 7.01474086e+00,\n",
       "          5.15006191e+00, 9.21406734e+00, 8.79887970e+00,\n",
       "          9.53357501e+00, 5.21202041e+00, 8.79887970e+00,\n",
       "          1.02787404e+01]]]])"
      ]
     },
     "execution_count": 5,
     "metadata": {},
     "output_type": "execute_result"
    }
   ],
   "source": [
    "pert.store"
   ]
  },
  {
   "cell_type": "code",
   "execution_count": null,
   "id": "b11b3305",
   "metadata": {},
   "outputs": [],
   "source": []
  }
 ],
 "metadata": {
  "kernelspec": {
   "display_name": "Python 3 (ipykernel)",
   "language": "python",
   "name": "python3"
  },
  "language_info": {
   "codemirror_mode": {
    "name": "ipython",
    "version": 3
   },
   "file_extension": ".py",
   "mimetype": "text/x-python",
   "name": "python",
   "nbconvert_exporter": "python",
   "pygments_lexer": "ipython3",
   "version": "3.9.13"
  }
 },
 "nbformat": 4,
 "nbformat_minor": 5
}
