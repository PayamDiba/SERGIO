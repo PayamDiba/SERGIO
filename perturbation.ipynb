{
 "cells": [
  {
   "cell_type": "code",
   "execution_count": 103,
   "id": "a289cbf6",
   "metadata": {},
   "outputs": [],
   "source": [
    "import numpy as np\n",
    "from SERGIO.GRN import grn_from_human,grn_from_networkx\n",
    "from SERGIO._sergio import sergio\n",
    "from SERGIO.MR import mrProfile\n",
    "import networkx as nx\n",
    "from collections import defaultdict\n",
    "import pandas as pd\n",
    "from SERGIO.GRN._grn import GRN\n",
    "from SERGIO.GRN._components import Gene, SingleInteraction\n",
    "from collections import Counter\n",
    "import itertools\n",
    "import seaborn as sns\n",
    "import matplotlib.pyplot as plt\n",
    "import copy\n",
    "import random\n",
    "import scperturb\n",
    "def create_random_graph(N):\n",
    "    '''N:number of nodes\n",
    "    Note that the number of nodes in the graph will likely be smaller than N\n",
    "    Weights sampled from 2 uniform distributions\n",
    "    '''\n",
    "    weight_pos = 3\n",
    "    weight_neg = -weight_pos\n",
    "    band=1\n",
    "    frac_pos = 0.5 #fraction of positive links over total\n",
    "    G = nx.generators.random_k_out_graph(n = N,k = 4,alpha = 0.9)\n",
    "    largest = max(nx.strongly_connected_components(G), key=len)\n",
    "    G = G.subgraph(largest).copy()#filter graph to maximum  SCC\n",
    "    G = nx.DiGraph(G)#remove multi links\n",
    "    M = len(G.edges())#n. of links\n",
    "    w1 = np.random.uniform(weight_neg-band,weight_neg+band,int(M*frac_pos))#sample weights from 2 uniform distributions\n",
    "    w2 = np.random.uniform(weight_pos-band,weight_pos+band,M-len(w1))\n",
    "    w = np.concatenate([w1, w2])\n",
    "    random.shuffle(w)#avoid having correlation in the position\n",
    "    J = nx.adjacency_matrix(G)\n",
    "    J.data = w\n",
    "    G = nx.from_scipy_sparse_matrix(J,create_using=nx.DiGraph())\n",
    "    return G\n",
    "def draw_net(G,offset = 0.05,**kwargs):\n",
    "    c =np.array([ c['weight'] for a,b,c in list(G.edges(data=True))])\n",
    "    edge_color=np.where(c>0,'green','red')\n",
    "    #nx.draw_circular(G,with_labels=True,edge_color=edge_color,alpha = 0.7,arrowsize = 15,**kwargs)\n",
    "    nodePos = nx.circular_layout(G)\n",
    "    nx.draw_networkx_nodes(G,pos=nodePos, label=True)\n",
    "    nx.draw_networkx_labels(G,pos = nodePos)\n",
    "    edges = list(G.edges)\n",
    "    bi_edges = [(a,b) for a,b in edges  if (b,a)in edges]\n",
    "    non_bi_edges =list(set(edges)-set(bi_edges))\n",
    "    a,b,c  =zip(*[ (a,b,c['weight']) for a,b,c in list(G.edges(data=True))])\n",
    "    dic = {(start,stop):col for start,stop,col in zip(a,b,c)}\n",
    "    #nx.draw_networkx_edges(G,pos = nodePos,edgelist=edges[weight>0],edge_color= 'green',arrowsize = 15,)\n",
    "    non_bi_weight = np.array([dic[endpoints] for endpoints in non_bi_edges ])\n",
    "    bi_weight = np.array([dic[endpoints] for endpoints in bi_edges ])\n",
    "    nx.draw_networkx_edges(G,pos = nodePos,edgelist=np.array(non_bi_edges)[non_bi_weight>0],edge_color= 'green',arrowsize = 20,)\n",
    "    nx.draw_networkx_edges(G,pos = nodePos,edgelist=np.array(non_bi_edges)[non_bi_weight<0],edge_color= 'red',arrowsize = 10,arrowstyle='-[',alpha = 0.6)\n",
    "    #draw bi-directional links parallel one another such that they do not overlap\n",
    "    unique_bi_edges = []\n",
    "    for start,stop in bi_edges:\n",
    "        if (stop, start) not in unique_bi_edges:\n",
    "            unique_bi_edges+=[(start,stop)]\n",
    "    offset = 0.05\n",
    "    new_nodePos={}\n",
    "    for start,end in unique_bi_edges:\n",
    "        new_nodePos[start] = nodePos[start]-[0,offset]\n",
    "        new_nodePos[end] = nodePos[end]-[0,offset]\n",
    "    nx.draw_networkx_edges(G,pos = new_nodePos,edgelist=np.array(bi_edges)[bi_weight>0],edge_color= 'green',arrowsize = 20,)\n",
    "    new_nodePos={}\n",
    "    for start,end in unique_bi_edges:\n",
    "        new_nodePos[start] = nodePos[start]+[0,offset]\n",
    "        new_nodePos[end] = nodePos[end]+[0,offset]\n",
    "\n",
    "    nx.draw_networkx_edges(G,pos = new_nodePos,edgelist=np.array(bi_edges)[bi_weight<0],edge_color= 'red',arrowsize = 10,arrowstyle='-[',alpha = 0.6,width = 1.5)\n"
   ]
  },
  {
   "cell_type": "code",
   "execution_count": 104,
   "id": "7b850e62",
   "metadata": {},
   "outputs": [
    {
     "data": {
      "text/plain": [
       "19"
      ]
     },
     "execution_count": 104,
     "metadata": {},
     "output_type": "execute_result"
    }
   ],
   "source": [
    "#grn = grn_from_human(nGenes=20)\n",
    "G = create_random_graph(30)\n",
    "grn = grn_from_networkx(G)\n",
    "G = grn.to_networkx()\n",
    "len(G)\n",
    "#plt.plot(zip(*Counter(dict(G.in_degree()).values()).items()))"
   ]
  },
  {
   "cell_type": "code",
   "execution_count": 105,
   "id": "be531826",
   "metadata": {},
   "outputs": [],
   "source": [
    "def draw_net(G,offset = 0.05,node_size = 1000,**kwargs):\n",
    "    c =np.array([ c['weight'] for a,b,c in list(G.edges(data=True))])\n",
    "    edge_color=np.where(c>0,'green','red')\n",
    "    #nx.draw_circular(G,with_labels=True,edge_color=edge_color,alpha = 0.7,arrowsize = 15,**kwargs)\n",
    "    nodePos = nx.circular_layout(G)\n",
    "    nx.draw_networkx_nodes(G,pos=nodePos, label=True,node_size=node_size,node_color='none',edgecolors='#1f78b4')\n",
    "    nx.draw_networkx_labels(G,pos = nodePos)\n",
    "    edges = list(G.edges)\n",
    "    bi_edges = [(a,b) for a,b in edges  if (b,a)in edges]\n",
    "    non_bi_edges =list(set(edges)-set(bi_edges))\n",
    "    a,b,c  =zip(*[ (a,b,c['weight']) for a,b,c in list(G.edges(data=True))])\n",
    "    dic = {(start,stop):col for start,stop,col in zip(a,b,c)}\n",
    "    #nx.draw_networkx_edges(G,pos = nodePos,edgelist=edges[weight>0],edge_color= 'green',arrowsize = 15,)\n",
    "    non_bi_weight = np.array([dic[endpoints] for endpoints in non_bi_edges ])\n",
    "    bi_weight = np.array([dic[endpoints] for endpoints in bi_edges ])\n",
    "    nx.draw_networkx_edges(G,pos = nodePos,edgelist=np.array(non_bi_edges)[non_bi_weight>0],edge_color= 'green',arrowsize = 20,node_size=node_size)\n",
    "    nx.draw_networkx_edges(G,pos = nodePos,edgelist=np.array(non_bi_edges)[non_bi_weight<0],edge_color= 'red',arrowsize = 10,node_size=node_size,arrowstyle='-[',alpha = 0.6)\n",
    "    #draw bi-directional links parallel one another such that they do not overlap\n",
    "    unique_bi_edges = []\n",
    "    for start,stop in bi_edges:\n",
    "        if (stop, start) not in unique_bi_edges:\n",
    "            unique_bi_edges+=[(start,stop)]\n",
    "    offset = 0.05\n",
    "    new_nodePos={}\n",
    "    for start,end in unique_bi_edges:\n",
    "        new_nodePos[start] = nodePos[start]-[0,offset]\n",
    "        new_nodePos[end] = nodePos[end]-[0,offset]\n",
    "    nx.draw_networkx_edges(G,pos = new_nodePos,edgelist=np.array(bi_edges)[bi_weight>0],edge_color= 'green',arrowsize = 20,)\n",
    "    new_nodePos={}\n",
    "    for start,end in unique_bi_edges:\n",
    "        new_nodePos[start] = nodePos[start]+[0,offset]\n",
    "        new_nodePos[end] = nodePos[end]+[0,offset]\n",
    "\n",
    "    nx.draw_networkx_edges(G,pos = new_nodePos,edgelist=np.array(bi_edges)[bi_weight<0],edge_color= 'red',arrowsize = 10,arrowstyle='-[',alpha = 0.6,width = 1.5,node_size=node_size)\n"
   ]
  },
  {
   "cell_type": "code",
   "execution_count": 106,
   "id": "f9ca1668",
   "metadata": {},
   "outputs": [],
   "source": [
    "grn0 = copy.deepcopy(grn)#it is the grn that I pass to perturbation experiments"
   ]
  },
  {
   "cell_type": "code",
   "execution_count": null,
   "id": "ad4aad34",
   "metadata": {},
   "outputs": [],
   "source": [
    "\n",
    "def single_perturbation(grn,mr_profs,target_gene,basal_prod,nCells,cutting = True):\n",
    "    '''\n",
    "    Function Description:\n",
    "\n",
    "    This function perturbs a given gene in a gene regulatory network (GRN) and returns\n",
    "    the simulated dynamics of the network in response to the perturbation. The perturbation involves\n",
    "    changing the production rate of the target gene to a given basal level (positive for CRISPRa,\n",
    "    negative or 0 for CRISPRi), and optionally, cutting incoming edges to the target gene.\n",
    "    The function returns the simulated gene expression dynamics of the perturbed network.\n",
    "\n",
    "    Parameters:\n",
    "\n",
    "    grn: an instance of the GRN class representing the GRN to be perturbed\n",
    "    mr_profs: an instance of the mrProfile class representing the master regulator profiles of the system\n",
    "    target_gene: the name of the target gene to be perturbed\n",
    "    basal_prod: the basal production rate of the target gene after perturbation (positive for CRISPRa, negative or 0 for CRISPRi)\n",
    "    cutting: a boolean variable indicating whether incoming edges to the target gene should be cut (True) or not (False)\n",
    "    in response to the perturbation. Default is True.\n",
    "    Returns:\n",
    "\n",
    "    sim: an instance of the sergio class representing the simulated gene expression dynamics of the perturbed network.\n",
    "    \n",
    "    '''\n",
    "    new_grn = copy.deepcopy(grn)\n",
    "    new_grn.attr_['mrs'].add(target_gene)\n",
    "    links_2_remove = list(filter(lambda x:x.split('-')[1]==target_gene,new_grn.attr_['interactions'].keys()))\n",
    "    if cutting:\n",
    "        #identifies the links pointing to gene, and removes them from the net\n",
    "        [new_grn.attr_['interactions'].pop(link) for link in links_2_remove]#remove interaction from GRN\n",
    "    \n",
    "    crispri = copy.deepcopy(mr_profs)\n",
    "    crispri.profile[target_gene]=basal_prod*np.ones(1)\n",
    "    new_grn.init(crispri, update_half_resp = True)\n",
    "    sim = sergio(new_grn)\n",
    "    sim.simulate(nCells = nCells, noise_s = 1, safety_iter = 150, scale_iter = 10)\n",
    "    return sim\n",
    "def perturbation_all(grn,nCells):\n",
    "    nGenes = len(grn.attr_['genes'])\n",
    "    store = np.zeros(shape = (2,nGenes,nGenes,nCells))\n",
    "    #dimension 0 describe the type of perturbation experiment, 0:Crispri, 1: crispra\n",
    "    #dimension 1 describes the index target gene\n",
    "    #dimension 2 describe the index of genes whose expression is measured\n",
    "    #dimension 3 describes the index of cell\n",
    "    \n",
    "    '''now simulate wild type'''\n",
    "    grn0 = copy.deepcopy(grn)#it is the grn that I pass to perturbation experiments\n",
    "    mrs = grn.get_mrs()\n",
    "    mr_profs = mrProfile(MR_names = mrs, n_types = 1)\n",
    "    mr_profs.build_rnd(range_dict={'L': [1, 2.5], 'H': [3.5, 5]})\n",
    "    grn.init(mr_profs, update_half_resp = True)\n",
    "    sim = sergio(grn)\n",
    "    sim.simulate(nCells = nCells, noise_s = 1, safety_iter = 150, scale_iter = 10)\n",
    "    wt = sim.getSimExpr().values\n",
    "    for i,target_gene in enumerate(grn.attr_['genes'].keys()):\n",
    "        #simulate Crispri\n",
    "        store[0,i]= single_perturbation(grn = grn0,mr_profs=mr_profs,target_gene=target_gene,basal_prod=0.2,nCells=nCells,cutting=True).getSimExpr().values\n",
    "        #simulate Crispra\n",
    "        store[1,i]= single_perturbation(grn = grn0,mr_profs=mr_profs,target_gene=target_gene,basal_prod=7,nCells=nCells,cutting=True).getSimExpr().values\n",
    "\n",
    "    return wt,store\n",
    "%time wt,store = perturbation_all(grn0,nCells=10000)"
   ]
  },
  {
   "cell_type": "code",
   "execution_count": 5,
   "id": "eeb9fd23",
   "metadata": {},
   "outputs": [],
   "source": [
    "store.shape,wt.shape\n",
    "gene_list = list(grn.attr_['genes'].keys())"
   ]
  },
  {
   "cell_type": "code",
   "execution_count": 109,
   "id": "8a6280ff",
   "metadata": {},
   "outputs": [
    {
     "data": {
      "text/plain": [
       "['13', '12', '14', '17']"
      ]
     },
     "execution_count": 109,
     "metadata": {},
     "output_type": "execute_result"
    }
   ],
   "source": [
    "[k for k,v in dict(G.in_degree()).items() if v ==1]"
   ]
  },
  {
   "cell_type": "code",
   "execution_count": null,
   "id": "a3d8ecf6",
   "metadata": {},
   "outputs": [],
   "source": []
  },
  {
   "cell_type": "markdown",
   "id": "8e6239c4",
   "metadata": {},
   "source": [
    "draw network containing 'gene_view', its successors and they other parents"
   ]
  },
  {
   "cell_type": "code",
   "execution_count": 110,
   "id": "9e3bfa50",
   "metadata": {},
   "outputs": [
    {
     "name": "stdout",
     "output_type": "stream",
     "text": [
      "5\n"
     ]
    },
    {
     "data": {
      "text/html": [
       "<div>\n",
       "<style scoped>\n",
       "    .dataframe tbody tr th:only-of-type {\n",
       "        vertical-align: middle;\n",
       "    }\n",
       "\n",
       "    .dataframe tbody tr th {\n",
       "        vertical-align: top;\n",
       "    }\n",
       "\n",
       "    .dataframe thead tr th {\n",
       "        text-align: left;\n",
       "    }\n",
       "</style>\n",
       "<table border=\"1\" class=\"dataframe\">\n",
       "  <thead>\n",
       "    <tr>\n",
       "      <th></th>\n",
       "      <th>from</th>\n",
       "      <th>to</th>\n",
       "      <th>weight</th>\n",
       "    </tr>\n",
       "  </thead>\n",
       "  <tbody>\n",
       "    <tr>\n",
       "      <th>0</th>\n",
       "      <td>5</td>\n",
       "      <td>2</td>\n",
       "      <td>3.061573</td>\n",
       "    </tr>\n",
       "    <tr>\n",
       "      <th>1</th>\n",
       "      <td>5</td>\n",
       "      <td>4</td>\n",
       "      <td>-2.784161</td>\n",
       "    </tr>\n",
       "  </tbody>\n",
       "</table>\n",
       "</div>"
      ],
      "text/plain": [
       "  from to    weight\n",
       "0    5  2  3.061573\n",
       "1    5  4 -2.784161"
      ]
     },
     "execution_count": 110,
     "metadata": {},
     "output_type": "execute_result"
    },
    {
     "data": {
      "image/png": "[encoded data removed]",
      "text/plain": [
       "<Figure size 432x288 with 1 Axes>"
      ]
     },
     "metadata": {},
     "output_type": "display_data"
    }
   ],
   "source": [
    "gene_view = '5'#gene_list[1]\n",
    "\n",
    "print(gene_view)\n",
    "\n",
    "\n",
    "two_step_neigh = {*itertools.chain.from_iterable([set(G.predecessors(g)) for g in set(G.successors(gene_view))])}\n",
    "#plt.figure(figsize=(8,8))\n",
    "draw_net(G.subgraph(two_step_neigh.union(G.successors(gene_view)).union({gene_view})))\n",
    "pd.DataFrame([[a,b,d['weight']] for a,b,d in list(G.out_edges(gene_view,data=True))],columns=[['from','to','weight']])"
   ]
  },
  {
   "cell_type": "code",
   "execution_count": 107,
   "id": "cf5fae79",
   "metadata": {},
   "outputs": [
    {
     "data": {
      "text/plain": [
       "6.25"
      ]
     },
     "execution_count": 107,
     "metadata": {},
     "output_type": "execute_result"
    }
   ],
   "source": [
    "5/0.8"
   ]
  },
  {
   "cell_type": "markdown",
   "id": "419293b0",
   "metadata": {},
   "source": [
    "Investigate expression on the target gene"
   ]
  },
  {
   "cell_type": "code",
   "execution_count": 111,
   "id": "5d46086e",
   "metadata": {},
   "outputs": [
    {
     "data": {
      "text/plain": [
       "<AxesSubplot:ylabel='Density'>"
      ]
     },
     "execution_count": 111,
     "metadata": {},
     "output_type": "execute_result"
    },
    {
     "data": {
      "image/png": "[encoded data removed]",
      "text/plain": [
       "<Figure size 432x288 with 1 Axes>"
      ]
     },
     "metadata": {
      "needs_background": "light"
     },
     "output_type": "display_data"
    },
    {
     "data": {
      "image/png": "[encoded data removed]",
      "text/plain": [
       "<Figure size 432x288 with 1 Axes>"
      ]
     },
     "metadata": {
      "needs_background": "light"
     },
     "output_type": "display_data"
    }
   ],
   "source": [
    "i = np.arange(len(gene_list))[np.array(gene_list)==gene_view][0]# take the index of gene_view\n",
    "#j = np.arange(len(gene_list))[np.array(gene_list)==list(G.out_edges(gene_view))[0][1]][0]#take the index of one of the genes neighbouring gene_view\n",
    "j = i\n",
    "a = pd.DataFrame({'crispri':store[0,i,j],'wt':wt[j]})\n",
    "sns.histplot(a,stat='density')\n",
    "plt.figure()\n",
    "a = pd.DataFrame({'crispra':store[1,i,j],'wt':wt[j]})\n",
    "sns.histplot(a,stat='density')\n"
   ]
  },
  {
   "cell_type": "code",
   "execution_count": 112,
   "id": "bd568cec",
   "metadata": {},
   "outputs": [
    {
     "data": {
      "text/plain": [
       "<AxesSubplot:ylabel='Density'>"
      ]
     },
     "execution_count": 112,
     "metadata": {},
     "output_type": "execute_result"
    },
    {
     "data": {
      "image/png": "[encoded data removed]",
      "text/plain": [
       "<Figure size 432x288 with 1 Axes>"
      ]
     },
     "metadata": {
      "needs_background": "light"
     },
     "output_type": "display_data"
    },
    {
     "data": {
      "image/png": "[encoded data removed]",
      "text/plain": [
       "<Figure size 432x288 with 1 Axes>"
      ]
     },
     "metadata": {
      "needs_background": "light"
     },
     "output_type": "display_data"
    }
   ],
   "source": [
    "i = np.arange(len(gene_list))[np.array(gene_list)==gene_view][0]# take the index of gene_view\n",
    "j = np.arange(len(gene_list))[np.array(gene_list)=='2'][0]#take the index of one of the genes neighbouring gene_view\n",
    "#j = i\n",
    "a = pd.DataFrame({'crispri':store[0,i,j],'wt':wt[j]})\n",
    "sns.histplot(a,stat='density')\n",
    "plt.figure()\n",
    "a = pd.DataFrame({'crispra':store[1,i,j],'wt':wt[j]})\n",
    "sns.histplot(a,stat='density')\n"
   ]
  },
  {
   "cell_type": "code",
   "execution_count": 23,
   "id": "7531e4e0",
   "metadata": {},
   "outputs": [
    {
     "data": {
      "text/plain": [
       "['2', '7', '8', '1', '15', '21', '18']"
      ]
     },
     "execution_count": 23,
     "metadata": {},
     "output_type": "execute_result"
    }
   ],
   "source": [
    "pd.DataFrame(G.in_edges('9',data = True))\n"
   ]
  },
  {
   "cell_type": "code",
   "execution_count": 38,
   "id": "dad0db7f",
   "metadata": {},
   "outputs": [
    {
     "data": {
      "text/plain": [
       "<matplotlib.legend.Legend at 0x7fee6c37d6d0>"
      ]
     },
     "execution_count": 38,
     "metadata": {},
     "output_type": "execute_result"
    },
    {
     "data": {
      "image/png": "[encoded data removed]",
      "text/plain": [
       "<Figure size 432x288 with 1 Axes>"
      ]
     },
     "metadata": {
      "needs_background": "light"
     },
     "output_type": "display_data"
    }
   ],
   "source": [
    "h,b,_ = plt.hist(store[0,i,j],bins =30,label = 'crispri',density = True)\n",
    "\n",
    "h,b,_ = plt.hist(store[1,i,j],alpha = 0.6,bins = 30,label = 'crispra',density = True)\n",
    "h,b,_ = plt.hist(wt[j],alpha = 0.4,bins = 30,label = 'wt',density = True)\n",
    "plt.legend()"
   ]
  },
  {
   "cell_type": "code",
   "execution_count": 164,
   "id": "79bf2b32",
   "metadata": {},
   "outputs": [
    {
     "data": {
      "text/html": [
       "<div>\n",
       "<style scoped>\n",
       "    .dataframe tbody tr th:only-of-type {\n",
       "        vertical-align: middle;\n",
       "    }\n",
       "\n",
       "    .dataframe tbody tr th {\n",
       "        vertical-align: top;\n",
       "    }\n",
       "\n",
       "    .dataframe thead th {\n",
       "        text-align: right;\n",
       "    }\n",
       "</style>\n",
       "<table border=\"1\" class=\"dataframe\">\n",
       "  <thead>\n",
       "    <tr style=\"text-align: right;\">\n",
       "      <th></th>\n",
       "      <th>MR_id</th>\n",
       "      <th>prod_rate</th>\n",
       "    </tr>\n",
       "  </thead>\n",
       "  <tbody>\n",
       "    <tr>\n",
       "      <th>0</th>\n",
       "      <td>2737</td>\n",
       "      <td>3.582154</td>\n",
       "    </tr>\n",
       "    <tr>\n",
       "      <th>1</th>\n",
       "      <td>4853</td>\n",
       "      <td>4.081881</td>\n",
       "    </tr>\n",
       "    <tr>\n",
       "      <th>2</th>\n",
       "      <td>900</td>\n",
       "      <td>5.000000</td>\n",
       "    </tr>\n",
       "    <tr>\n",
       "      <th>3</th>\n",
       "      <td>7161</td>\n",
       "      <td>1.538699</td>\n",
       "    </tr>\n",
       "    <tr>\n",
       "      <th>4</th>\n",
       "      <td>3135</td>\n",
       "      <td>2.003430</td>\n",
       "    </tr>\n",
       "    <tr>\n",
       "      <th>5</th>\n",
       "      <td>3164</td>\n",
       "      <td>1.158086</td>\n",
       "    </tr>\n",
       "    <tr>\n",
       "      <th>6</th>\n",
       "      <td>9572</td>\n",
       "      <td>2.282716</td>\n",
       "    </tr>\n",
       "    <tr>\n",
       "      <th>7</th>\n",
       "      <td>5598</td>\n",
       "      <td>1.877689</td>\n",
       "    </tr>\n",
       "    <tr>\n",
       "      <th>8</th>\n",
       "      <td>5602</td>\n",
       "      <td>4.718141</td>\n",
       "    </tr>\n",
       "    <tr>\n",
       "      <th>9</th>\n",
       "      <td>50674</td>\n",
       "      <td>2.268740</td>\n",
       "    </tr>\n",
       "    <tr>\n",
       "      <th>10</th>\n",
       "      <td>3728</td>\n",
       "      <td>1.602510</td>\n",
       "    </tr>\n",
       "    <tr>\n",
       "      <th>11</th>\n",
       "      <td>6095</td>\n",
       "      <td>3.804069</td>\n",
       "    </tr>\n",
       "    <tr>\n",
       "      <th>12</th>\n",
       "      <td>6096</td>\n",
       "      <td>4.552496</td>\n",
       "    </tr>\n",
       "  </tbody>\n",
       "</table>\n",
       "</div>"
      ],
      "text/plain": [
       "    MR_id  prod_rate\n",
       "0    2737   3.582154\n",
       "1    4853   4.081881\n",
       "2     900   5.000000\n",
       "3    7161   1.538699\n",
       "4    3135   2.003430\n",
       "5    3164   1.158086\n",
       "6    9572   2.282716\n",
       "7    5598   1.877689\n",
       "8    5602   4.718141\n",
       "9   50674   2.268740\n",
       "10   3728   1.602510\n",
       "11   6095   3.804069\n",
       "12   6096   4.552496"
      ]
     },
     "execution_count": 164,
     "metadata": {},
     "output_type": "execute_result"
    }
   ],
   "source": [
    "pd.DataFrame([[i,v.prod_rates_[0]] for i,v in sim2.grn_.attr_['genes'].items()if v.prod_rates_ is not None] ,columns= ['MR_id','prod_rate'])"
   ]
  },
  {
   "cell_type": "code",
   "execution_count": 129,
   "id": "e0644f89",
   "metadata": {},
   "outputs": [
    {
     "data": {
      "text/plain": [
       "array([5.])"
      ]
     },
     "execution_count": 129,
     "metadata": {},
     "output_type": "execute_result"
    }
   ],
   "source": [
    "sim2.grn_.attr_['genes'][gene]._calc_prod([0], regs_conc = 'sim')\n",
    "sim2.grn_.attr_['genes'][gene].prod_rates_"
   ]
  },
  {
   "cell_type": "code",
   "execution_count": 13,
   "id": "1f85b522",
   "metadata": {},
   "outputs": [
    {
     "data": {
      "text/plain": [
       "(True, False)"
      ]
     },
     "execution_count": 13,
     "metadata": {},
     "output_type": "execute_result"
    }
   ],
   "source": [
    "sim2.grn_.attr_['genes'][gene].isMR_,sim.grn_.attr_['genes'][gene].isMR_\n"
   ]
  },
  {
   "cell_type": "code",
   "execution_count": 30,
   "id": "9373698f",
   "metadata": {},
   "outputs": [
    {
     "name": "stdout",
     "output_type": "stream",
     "text": [
      "None\n"
     ]
    }
   ],
   "source": [
    "if sim2.grn_.attr_['genes'][list(non_mr)[0]].prod_rates_ is not None:\n",
    "    print('None')"
   ]
  },
  {
   "cell_type": "code",
   "execution_count": 156,
   "id": "b3e9f5b1",
   "metadata": {},
   "outputs": [
    {
     "data": {
      "text/plain": [
       "[<matplotlib.lines.Line2D at 0x7f3ae4ac7100>]"
      ]
     },
     "execution_count": 156,
     "metadata": {},
     "output_type": "execute_result"
    },
    {
     "data": {
      "image/png": "[encoded data removed]",
      "text/plain": [
       "<Figure size 432x288 with 1 Axes>"
      ]
     },
     "metadata": {
      "needs_background": "light"
     },
     "output_type": "display_data"
    }
   ],
   "source": [
    "sim2.grn_.attr_['genes'][gene].level,\n",
    "plt.plot(*zip(*list(Counter([sim2.grn_.attr_['genes'][el].level for el in mrs ]).items())),'.')\n"
   ]
  },
  {
   "cell_type": "code",
   "execution_count": 159,
   "id": "56433d89",
   "metadata": {},
   "outputs": [
    {
     "data": {
      "text/plain": [
       "[<matplotlib.lines.Line2D at 0x7f3ae5795460>]"
      ]
     },
     "execution_count": 159,
     "metadata": {},
     "output_type": "execute_result"
    },
    {
     "data": {
      "image/png": "[encoded data removed]",
      "text/plain": [
       "<Figure size 432x288 with 1 Axes>"
      ]
     },
     "metadata": {
      "needs_background": "light"
     },
     "output_type": "display_data"
    }
   ],
   "source": [
    "plt.plot(*zip(*list(Counter([sim2.grn_.attr_['genes'][el].level for el in non_mr if el!=gene]).items())),'.')\n"
   ]
  },
  {
   "cell_type": "markdown",
   "id": "7548ded7",
   "metadata": {},
   "source": [
    "run etest on Anndata, create a unique anndata with perturbation column. Use p-values to compare with experiments"
   ]
  },
  {
   "cell_type": "code",
   "execution_count": null,
   "id": "71c07274",
   "metadata": {},
   "outputs": [],
   "source": []
  },
  {
   "cell_type": "code",
   "execution_count": 44,
   "id": "e90f2816",
   "metadata": {},
   "outputs": [],
   "source": [
    "import scanpy as sc\n",
    "scperturb.edist_to_control\n"
   ]
  },
  {
   "cell_type": "code",
   "execution_count": 42,
   "id": "de521e39",
   "metadata": {},
   "outputs": [],
   "source": [
    "def edist_to_control(adata, obs_key='perturbation', control='control', \n",
    "                     obsm_key='X_pca', dist='sqeuclidean',  \n",
    "                     flavor=0, verbose=True):\n",
    "    \"\"\"Computes the edistance to control.\n",
    "    Computes the all E-distances between all groups of cells defined in\n",
    "    adata.obs[obs_key] (e.g. perturbations) and control cells. Distances are computed in embedding\n",
    "    space given by adata.obsm[obsm_key] (e.g. PCA space).\n",
    "    Arguments\n",
    "    ---------\n",
    "    adata: :class:`~anndata.AnnData`\n",
    "        Annotated data matrix.\n",
    "    obs_key: `str` in adata.obs.keys() (default: `perturbation`)\n",
    "        Key in adata.obs specifying the groups to consider.\n",
    "    obsm_key: `str` in adata.obsm (default: `adata.obsm['X_pca']`)\n",
    "        Key for embedding coordinates to use.\n",
    "    dist: `str` for any distance in scipy.spatial.distance (default: `sqeuclidean`)\n",
    "        Distance metric to use in embedding space.\n",
    "    flavor: `int` (default: `0`)\n",
    "        Which flavor of E-distance to use.\n",
    "        - `0`: E-distance no correction factor\n",
    "        - `1`: E-distance with simple correction factor (N-1)\n",
    "        - `2`: E-distance with correction factor NM/(N+M)\n",
    "        - `3`: E-distance with correction division by delta\n",
    "    verbose: `bool` (default: `True`)\n",
    "        Whether to show a progress bar iterating over all groups.\n",
    "    Returns\n",
    "    -------\n",
    "    ed_to_c: pandas.DataFrame\n",
    "        DataFrame with E-distances between all groups and control group.\n",
    "    \"\"\"\n",
    "    correction_factor = flavor==1\n",
    "    deltas_to_c = onesided_pca_distances(adata, obs_key=obs_key, control=control, \n",
    "                                         obsm_key=obsm_key, dist=dist, \n",
    "                                         correction_factor=correction_factor, \n",
    "                                         verbose=verbose)\n",
    "    sigmas = self_pca_distances(adata, obs_key, obsm_key=obsm_key, dist=dist, \n",
    "                                correction_factor=correction_factor, verbose=False)\n",
    "    # derive basic statistics\n",
    "    ed_to_c = 2 * deltas_to_c - sigmas - sigmas.loc[control]\n",
    "    if flavor == 2:\n",
    "        sizes = np.array([np.sum(adata.obs[obs_key]==g) for g in sigmas.index])\n",
    "        corrections = (sizes * sizes[sigmas.index==control]) / (sizes + sizes[sigmas.index==control])\n",
    "        ed_to_c = ed_to_c * corrections.reshape(-1,1)\n",
    "    if flavor == 3:\n",
    "        ed_to_c = ed_to_c / deltas_to_c\n",
    "    return ed_to_c"
   ]
  },
  {
   "cell_type": "code",
   "execution_count": null,
   "id": "b5ced694",
   "metadata": {},
   "outputs": [],
   "source": []
  }
 ],
 "metadata": {
  "kernelspec": {
   "display_name": "Python 3",
   "language": "python",
   "name": "python3"
  },
  "language_info": {
   "codemirror_mode": {
    "name": "ipython",
    "version": 3
   },
   "file_extension": ".py",
   "mimetype": "text/x-python",
   "name": "python",
   "nbconvert_exporter": "python",
   "pygments_lexer": "ipython3",
   "version": "3.8.8"
  }
 },
 "nbformat": 4,
 "nbformat_minor": 5
}
