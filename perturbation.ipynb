{
 "cells": [
  {
   "cell_type": "code",
   "execution_count": 33,
   "id": "46e95abc",
   "metadata": {},
   "outputs": [],
   "source": [
    "import numpy as np\n",
    "from SERGIO.GRN import grn_from_human,grn_from_networkx\n",
    "from SERGIO._sergio import sergio\n",
    "from SERGIO.MR import mrProfile\n",
    "import networkx as nx\n",
    "from collections import defaultdict\n",
    "import pandas as pd\n",
    "from SERGIO.GRN._grn import GRN\n",
    "from SERGIO.GRN._components import Gene, SingleInteraction\n",
    "from collections import Counter\n",
    "import seaborn as sns\n",
    "import matplotlib.pyplot as plt\n",
    "import copy\n",
    "def create_random_graph(N):\n",
    "    '''N:number of nodes\n",
    "    Note that the number of nodes in the graph will likely be smaller than N\n",
    "    Weights sampled from 2 uniform distributions\n",
    "    '''\n",
    "    weight_pos = 3\n",
    "    weight_neg = -weight_pos\n",
    "    band=1\n",
    "    frac_pos = 0.5 #fraction of positive links over total\n",
    "    G = nx.generators.random_k_out_graph(n = 100,k = 4,alpha = 0.9)\n",
    "    largest = max(nx.strongly_connected_components(G), key=len)\n",
    "    G = G.subgraph(largest).copy()#filter graph to maximum  SCC\n",
    "    G = nx.DiGraph(G)#remove multi links\n",
    "    M = len(G.edges())#n. of links\n",
    "    w1 = np.random.uniform(weight_neg-band,weight_neg+band,int(M*frac_pos))#sample weights from 2 uniform distributions\n",
    "    w2 = np.random.uniform(weight_pos-band,weight_pos+band,M-len(w1))\n",
    "    w = np.concatenate([w1, w2])\n",
    "    random.shuffle(w)#avoid having correlation in the position\n",
    "    J = nx.adjacency_matrix(G)\n",
    "    J.data = w\n",
    "    G = nx.from_scipy_sparse_matrix(J,create_using=nx.DiGraph())\n",
    "    return G"
   ]
  },
  {
   "cell_type": "code",
   "execution_count": 13,
   "id": "988a1672",
   "metadata": {},
   "outputs": [
    {
     "data": {
      "text/plain": [
       "33"
      ]
     },
     "execution_count": 13,
     "metadata": {},
     "output_type": "execute_result"
    }
   ],
   "source": [
    "#grn = grn_from_human(nGenes=20)\n",
    "G = \n",
    "G = grn.to_networkx()\n",
    "len(G)"
   ]
  },
  {
   "cell_type": "code",
   "execution_count": 14,
   "id": "1a18e2bb",
   "metadata": {},
   "outputs": [],
   "source": [
    "grn0 = copy.deepcopy(grn)#it is the grn that I pass to perturbation experiments"
   ]
  },
  {
   "cell_type": "code",
   "execution_count": 15,
   "id": "c3dcb641",
   "metadata": {},
   "outputs": [
    {
     "name": "stdout",
     "output_type": "stream",
     "text": [
      "CPU times: user 7min 13s, sys: 28 ms, total: 7min 13s\n",
      "Wall time: 7min 13s\n"
     ]
    }
   ],
   "source": [
    "def perturbation_all(grn,nCells):\n",
    "    nGenes = len(grn.attr_['genes'])\n",
    "    store = np.zeros(shape = (2,nGenes,nGenes,nCells))\n",
    "    #dimension 0 describe the type of perturbation experiment, 0:Crispri, 1: crispra\n",
    "    #dimension 1 describes the index target gene\n",
    "    #dimension 2 describe the index of genes whose expression is measured\n",
    "    #dimension 3 describes the index of cell\n",
    "    \n",
    "    '''now simulate wild type'''\n",
    "    grn0 = copy.deepcopy(grn)#it is the grn that I pass to perturbation experiments\n",
    "    mrs = grn.get_mrs()\n",
    "    mr_profs = mrProfile(MR_names = mrs, n_types = 1)\n",
    "    mr_profs.build_rnd(range_dict={'L': [1, 2.5], 'H': [3.5, 5]})\n",
    "    grn.init(mr_profs, update_half_resp = True)\n",
    "    sim = sergio(grn)\n",
    "    sim.simulate(nCells = nCells, noise_s = 1, safety_iter = 150, scale_iter = 10)\n",
    "    wt = sim.getSimExpr().values\n",
    "    for i,target_gene in enumerate(grn.attr_['genes'].keys()):\n",
    "        #simulate Crispri\n",
    "        store[0,i]= single_perturbation(grn = grn0,mr_profs=mr_profs,target_gene=target_gene,basal_prod=0.2,nCells=nCells,cutting=True).getSimExpr().values\n",
    "        #simulate Crispra\n",
    "        store[1,i]= single_perturbation(grn = grn0,mr_profs=mr_profs,target_gene=target_gene,basal_prod=3,nCells=nCells,cutting=True).getSimExpr().values\n",
    "\n",
    "    return wt,store\n",
    "def single_perturbation(grn,mr_profs,target_gene,basal_prod,nCells,cutting = True):\n",
    "    '''\n",
    "    Function Description:\n",
    "\n",
    "    This function perturbs a given gene in a gene regulatory network (GRN) and returns\n",
    "    the simulated dynamics of the network in response to the perturbation. The perturbation involves\n",
    "    changing the production rate of the target gene to a given basal level (positive for CRISPRa,\n",
    "    negative or 0 for CRISPRi), and optionally, cutting incoming edges to the target gene.\n",
    "    The function returns the simulated gene expression dynamics of the perturbed network.\n",
    "\n",
    "    Parameters:\n",
    "\n",
    "    grn: an instance of the GRN class representing the GRN to be perturbed\n",
    "    mr_profs: an instance of the mrProfile class representing the master regulator profiles of the system\n",
    "    target_gene: the name of the target gene to be perturbed\n",
    "    basal_prod: the basal production rate of the target gene after perturbation (positive for CRISPRa, negative or 0 for CRISPRi)\n",
    "    cutting: a boolean variable indicating whether incoming edges to the target gene should be cut (True) or not (False)\n",
    "    in response to the perturbation. Default is True.\n",
    "    Returns:\n",
    "\n",
    "    sim: an instance of the sergio class representing the simulated gene expression dynamics of the perturbed network.\n",
    "    \n",
    "    '''\n",
    "    new_grn = copy.deepcopy(grn)\n",
    "    new_grn.attr_['mrs'].add(target_gene)\n",
    "    links_2_remove = list(filter(lambda x:x.split('-')[1]==target_gene,new_grn.attr_['interactions'].keys()))\n",
    "    if cutting:\n",
    "        #identifies the links pointing to gene, and removes them from the net\n",
    "        [new_grn.attr_['interactions'].pop(link) for link in links_2_remove]#remove interaction from GRN\n",
    "    \n",
    "    crispri = copy.deepcopy(mr_profs)\n",
    "    crispri.profile[target_gene]=basal_prod*np.ones(1)\n",
    "    new_grn.init(crispri, update_half_resp = True)\n",
    "    sim = sergio(new_grn)\n",
    "    sim.simulate(nCells = nCells, noise_s = 1, safety_iter = 150, scale_iter = 10)\n",
    "    return sim\n",
    "%time wt,store = perturbation_all(grn0,nCells=1000)"
   ]
  },
  {
   "cell_type": "code",
   "execution_count": 17,
   "id": "539e86d7",
   "metadata": {},
   "outputs": [],
   "source": [
    "store.shape,wt.shape\n",
    "gene_list = list(grn.attr_['genes'].keys())"
   ]
  },
  {
   "cell_type": "code",
   "execution_count": 20,
   "id": "88b3b534",
   "metadata": {},
   "outputs": [
    {
     "name": "stdout",
     "output_type": "stream",
     "text": [
      "4780\n"
     ]
    },
    {
     "data": {
      "text/plain": [
       "[('4780', '2938', {'weight': 1}),\n",
       " ('4780', '2939', {'weight': 1}),\n",
       " ('4780', '2940', {'weight': 1}),\n",
       " ('4780', '2941', {'weight': 1}),\n",
       " ('4780', '221357', {'weight': 1}),\n",
       " ('4780', '2944', {'weight': 1}),\n",
       " ('4780', '2946', {'weight': 1}),\n",
       " ('4780', '2947', {'weight': 1}),\n",
       " ('4780', '2948', {'weight': 1}),\n",
       " ('4780', '2949', {'weight': 1}),\n",
       " ('4780', '9446', {'weight': 1}),\n",
       " ('4780', '119391', {'weight': 1}),\n",
       " ('4780', '2950', {'weight': 1}),\n",
       " ('4780', '2952', {'weight': 1}),\n",
       " ('4780', '2953', {'weight': 1}),\n",
       " ('4780', '653689', {'weight': 1}),\n",
       " ('4780', '3162', {'weight': 1}),\n",
       " ('4780', '4257', {'weight': 1}),\n",
       " ('4780', '4258', {'weight': 1}),\n",
       " ('4780', '4259', {'weight': 1}),\n",
       " ('4780', '1728', {'weight': 1}),\n",
       " ('4780', '7296', {'weight': 1}),\n",
       " ('4780', '10587', {'weight': 1}),\n",
       " ('4780', '114112', {'weight': 1}),\n",
       " ('4780', '445', {'weight': 1}),\n",
       " ('4780', '4846', {'weight': 1}),\n",
       " ('4780', '4880', {'weight': 1}),\n",
       " ('4780', '5327', {'weight': 1}),\n",
       " ('4780', '8878', {'weight': 1}),\n",
       " ('4780', '7056', {'weight': 1}),\n",
       " ('4780', '7295', {'weight': 1}),\n",
       " ('4780', '25828', {'weight': 1})]"
      ]
     },
     "execution_count": 20,
     "metadata": {},
     "output_type": "execute_result"
    },
    {
     "data": {
      "image/png": "[encoded data removed]",
      "text/plain": [
       "<Figure size 432x288 with 1 Axes>"
      ]
     },
     "metadata": {},
     "output_type": "display_data"
    }
   ],
   "source": [
    "gene_view = gene_list[1]\n",
    "nx.draw_networkx(nx.ego_graph(G,gene_view,undirected=True))\n",
    "print(gene_view)\n",
    "list(G.out_edges(gene_view,data=True))\n"
   ]
  },
  {
   "cell_type": "code",
   "execution_count": 23,
   "id": "7680ec0e",
   "metadata": {},
   "outputs": [
    {
     "data": {
      "text/plain": [
       "<AxesSubplot:ylabel='Count'>"
      ]
     },
     "execution_count": 23,
     "metadata": {},
     "output_type": "execute_result"
    },
    {
     "data": {
      "image/png": "[encoded data removed]",
      "text/plain": [
       "<Figure size 432x288 with 1 Axes>"
      ]
     },
     "metadata": {
      "needs_background": "light"
     },
     "output_type": "display_data"
    }
   ],
   "source": [
    "i = np.arange(len(gene_list))[np.array(gene_list)==gene_view][0]# take the index of gene_view\n",
    "j = np.arange(len(gene_list))[np.array(gene_list)==list(G.out_edges(gene_view))[2][1]][0]#take the index of one of the genes neighbouring gene_view\n",
    "\n",
    "a = pd.DataFrame({'crispri':store[0,i,j],'crispra':store[1,i,j],'wt':wt[j]})\n",
    "sns.histplot(a)"
   ]
  },
  {
   "cell_type": "code",
   "execution_count": 74,
   "id": "d6e83fd3",
   "metadata": {},
   "outputs": [
    {
     "data": {
      "text/plain": [
       "<AxesSubplot:ylabel='Count'>"
      ]
     },
     "execution_count": 74,
     "metadata": {},
     "output_type": "execute_result"
    },
    {
     "data": {
      "image/png": "[encoded data removed]",
      "text/plain": [
       "<Figure size 432x288 with 1 Axes>"
      ]
     },
     "metadata": {
      "needs_background": "light"
     },
     "output_type": "display_data"
    }
   ],
   "source": [
    "sns.histplot(store[1,i,j])"
   ]
  },
  {
   "cell_type": "code",
   "execution_count": 164,
   "id": "ae1bad68",
   "metadata": {},
   "outputs": [
    {
     "data": {
      "text/html": [
       "<div>\n",
       "<style scoped>\n",
       "    .dataframe tbody tr th:only-of-type {\n",
       "        vertical-align: middle;\n",
       "    }\n",
       "\n",
       "    .dataframe tbody tr th {\n",
       "        vertical-align: top;\n",
       "    }\n",
       "\n",
       "    .dataframe thead th {\n",
       "        text-align: right;\n",
       "    }\n",
       "</style>\n",
       "<table border=\"1\" class=\"dataframe\">\n",
       "  <thead>\n",
       "    <tr style=\"text-align: right;\">\n",
       "      <th></th>\n",
       "      <th>MR_id</th>\n",
       "      <th>prod_rate</th>\n",
       "    </tr>\n",
       "  </thead>\n",
       "  <tbody>\n",
       "    <tr>\n",
       "      <th>0</th>\n",
       "      <td>2737</td>\n",
       "      <td>3.582154</td>\n",
       "    </tr>\n",
       "    <tr>\n",
       "      <th>1</th>\n",
       "      <td>4853</td>\n",
       "      <td>4.081881</td>\n",
       "    </tr>\n",
       "    <tr>\n",
       "      <th>2</th>\n",
       "      <td>900</td>\n",
       "      <td>5.000000</td>\n",
       "    </tr>\n",
       "    <tr>\n",
       "      <th>3</th>\n",
       "      <td>7161</td>\n",
       "      <td>1.538699</td>\n",
       "    </tr>\n",
       "    <tr>\n",
       "      <th>4</th>\n",
       "      <td>3135</td>\n",
       "      <td>2.003430</td>\n",
       "    </tr>\n",
       "    <tr>\n",
       "      <th>5</th>\n",
       "      <td>3164</td>\n",
       "      <td>1.158086</td>\n",
       "    </tr>\n",
       "    <tr>\n",
       "      <th>6</th>\n",
       "      <td>9572</td>\n",
       "      <td>2.282716</td>\n",
       "    </tr>\n",
       "    <tr>\n",
       "      <th>7</th>\n",
       "      <td>5598</td>\n",
       "      <td>1.877689</td>\n",
       "    </tr>\n",
       "    <tr>\n",
       "      <th>8</th>\n",
       "      <td>5602</td>\n",
       "      <td>4.718141</td>\n",
       "    </tr>\n",
       "    <tr>\n",
       "      <th>9</th>\n",
       "      <td>50674</td>\n",
       "      <td>2.268740</td>\n",
       "    </tr>\n",
       "    <tr>\n",
       "      <th>10</th>\n",
       "      <td>3728</td>\n",
       "      <td>1.602510</td>\n",
       "    </tr>\n",
       "    <tr>\n",
       "      <th>11</th>\n",
       "      <td>6095</td>\n",
       "      <td>3.804069</td>\n",
       "    </tr>\n",
       "    <tr>\n",
       "      <th>12</th>\n",
       "      <td>6096</td>\n",
       "      <td>4.552496</td>\n",
       "    </tr>\n",
       "  </tbody>\n",
       "</table>\n",
       "</div>"
      ],
      "text/plain": [
       "    MR_id  prod_rate\n",
       "0    2737   3.582154\n",
       "1    4853   4.081881\n",
       "2     900   5.000000\n",
       "3    7161   1.538699\n",
       "4    3135   2.003430\n",
       "5    3164   1.158086\n",
       "6    9572   2.282716\n",
       "7    5598   1.877689\n",
       "8    5602   4.718141\n",
       "9   50674   2.268740\n",
       "10   3728   1.602510\n",
       "11   6095   3.804069\n",
       "12   6096   4.552496"
      ]
     },
     "execution_count": 164,
     "metadata": {},
     "output_type": "execute_result"
    }
   ],
   "source": [
    "pd.DataFrame([[i,v.prod_rates_[0]] for i,v in sim2.grn_.attr_['genes'].items()if v.prod_rates_ is not None] ,columns= ['MR_id','prod_rate'])"
   ]
  },
  {
   "cell_type": "code",
   "execution_count": 129,
   "id": "c9c256ea",
   "metadata": {},
   "outputs": [
    {
     "data": {
      "text/plain": [
       "array([5.])"
      ]
     },
     "execution_count": 129,
     "metadata": {},
     "output_type": "execute_result"
    }
   ],
   "source": [
    "sim2.grn_.attr_['genes'][gene]._calc_prod([0], regs_conc = 'sim')\n",
    "sim2.grn_.attr_['genes'][gene].prod_rates_"
   ]
  },
  {
   "cell_type": "code",
   "execution_count": 13,
   "id": "57412c44",
   "metadata": {},
   "outputs": [
    {
     "data": {
      "text/plain": [
       "(True, False)"
      ]
     },
     "execution_count": 13,
     "metadata": {},
     "output_type": "execute_result"
    }
   ],
   "source": [
    "sim2.grn_.attr_['genes'][gene].isMR_,sim.grn_.attr_['genes'][gene].isMR_\n"
   ]
  },
  {
   "cell_type": "code",
   "execution_count": 30,
   "id": "cd25c766",
   "metadata": {},
   "outputs": [
    {
     "name": "stdout",
     "output_type": "stream",
     "text": [
      "None\n"
     ]
    }
   ],
   "source": [
    "if sim2.grn_.attr_['genes'][list(non_mr)[0]].prod_rates_ is not None:\n",
    "    print('None')"
   ]
  },
  {
   "cell_type": "code",
   "execution_count": 156,
   "id": "90faff53",
   "metadata": {},
   "outputs": [
    {
     "data": {
      "text/plain": [
       "[<matplotlib.lines.Line2D at 0x7f3ae4ac7100>]"
      ]
     },
     "execution_count": 156,
     "metadata": {},
     "output_type": "execute_result"
    },
    {
     "data": {
      "image/png": "[encoded data removed]",
      "text/plain": [
       "<Figure size 432x288 with 1 Axes>"
      ]
     },
     "metadata": {
      "needs_background": "light"
     },
     "output_type": "display_data"
    }
   ],
   "source": [
    "sim2.grn_.attr_['genes'][gene].level,\n",
    "plt.plot(*zip(*list(Counter([sim2.grn_.attr_['genes'][el].level for el in mrs ]).items())),'.')\n"
   ]
  },
  {
   "cell_type": "code",
   "execution_count": 159,
   "id": "f009dfec",
   "metadata": {},
   "outputs": [
    {
     "data": {
      "text/plain": [
       "[<matplotlib.lines.Line2D at 0x7f3ae5795460>]"
      ]
     },
     "execution_count": 159,
     "metadata": {},
     "output_type": "execute_result"
    },
    {
     "data": {
      "image/png": "[encoded data removed]",
      "text/plain": [
       "<Figure size 432x288 with 1 Axes>"
      ]
     },
     "metadata": {
      "needs_background": "light"
     },
     "output_type": "display_data"
    }
   ],
   "source": [
    "plt.plot(*zip(*list(Counter([sim2.grn_.attr_['genes'][el].level for el in non_mr if el!=gene]).items())),'.')\n"
   ]
  },
  {
   "cell_type": "code",
   "execution_count": 32,
   "id": "b8287a3c",
   "metadata": {},
   "outputs": [
    {
     "data": {
      "text/plain": [
       "(33, 32)"
      ]
     },
     "execution_count": 32,
     "metadata": {},
     "output_type": "execute_result"
    }
   ],
   "source": [
    "#len(sim.grn_.attr_['genes'])\n",
    "len(grn.attr_['genes']),len(grn.attr_['interactions'])"
   ]
  },
  {
   "cell_type": "code",
   "execution_count": 30,
   "id": "8d468e48",
   "metadata": {},
   "outputs": [
    {
     "name": "stdout",
     "output_type": "stream",
     "text": [
      "1\n",
      "1\n",
      "1\n",
      "1\n",
      "1\n",
      "1\n",
      "1\n",
      "1\n",
      "1\n",
      "1\n",
      "1\n",
      "1\n",
      "1\n",
      "1\n",
      "1\n",
      "1\n",
      "1\n",
      "1\n",
      "1\n",
      "1\n",
      "1\n",
      "1\n",
      "1\n",
      "1\n",
      "1\n",
      "1\n",
      "1\n",
      "1\n",
      "1\n",
      "1\n",
      "1\n",
      "1\n"
     ]
    }
   ],
   "source": [
    "for a,b in grn.attr_['interactions'].items():\n",
    "    print(b.k_)"
   ]
  },
  {
   "cell_type": "code",
   "execution_count": null,
   "id": "96c2767d",
   "metadata": {},
   "outputs": [],
   "source": []
  }
 ],
 "metadata": {
  "kernelspec": {
   "display_name": "Python 3",
   "language": "python",
   "name": "python3"
  },
  "language_info": {
   "codemirror_mode": {
    "name": "ipython",
    "version": 3
   },
   "file_extension": ".py",
   "mimetype": "text/x-python",
   "name": "python",
   "nbconvert_exporter": "python",
   "pygments_lexer": "ipython3",
   "version": "3.8.8"
  }
 },
 "nbformat": 4,
 "nbformat_minor": 5
}
