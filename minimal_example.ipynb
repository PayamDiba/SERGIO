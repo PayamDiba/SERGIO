{
 "cells": [
  {
   "cell_type": "code",
   "execution_count": 1,
   "id": "1da1038c",
   "metadata": {},
   "outputs": [],
   "source": [
    "import numpy as np\n",
    "from SERGIO.GRN import grn_from_human,grn_from_networkx\n",
    "from SERGIO._sergio import sergio\n",
    "from SERGIO.MR import mrProfile\n",
    "import pandas as pd\n",
    "from SERGIO.GRN._grn import GRN\n",
    "from SERGIO.GRN._components import Gene, SingleInteraction\n"
   ]
  },
  {
   "cell_type": "markdown",
   "id": "0bf0eb6e",
   "metadata": {},
   "source": [
    "Use regulatory network from Zhi-Ping Liu, Canglin Wu, Hongyu Miao and Hulin Wu (2015). RegNetwork: an integrated database of transcriptional and posttranscriptional regulatory networks in human and mouse. Database 2015. doi: [10.1093/database/bav095](10.1093/database/bav095)"
   ]
  },
  {
   "cell_type": "code",
   "execution_count": 2,
   "id": "39f4c300",
   "metadata": {},
   "outputs": [],
   "source": [
    "grn = grn_from_human()"
   ]
  },
  {
   "cell_type": "code",
   "execution_count": 3,
   "id": "63799495",
   "metadata": {},
   "outputs": [],
   "source": [
    "\n",
    "mrs = grn.get_mrs()\n",
    "mr_profs = mrProfile(MR_names = mrs, n_types = 1)\n",
    "mr_profs.build_rnd(range_dict={'L': [1, 2.5], 'H': [3.5, 5]})\n"
   ]
  },
  {
   "cell_type": "code",
   "execution_count": 7,
   "id": "920781f2",
   "metadata": {},
   "outputs": [
    {
     "name": "stdout",
     "output_type": "stream",
     "text": [
      "CPU times: user 3min 49s, sys: 99.9 ms, total: 3min 49s\n",
      "Wall time: 3min 49s\n"
     ]
    }
   ],
   "source": [
    "grn.init(mr_profs, update_half_resp = True)\n",
    "sim = sergio(grn)\n",
    "%time sim.simulate(nCells = 1000, noise_s = 1, safety_iter = 150, scale_iter = 10)"
   ]
  },
  {
   "cell_type": "code",
   "execution_count": 5,
   "id": "3a384409",
   "metadata": {},
   "outputs": [],
   "source": [
    "exp = sim.getSimExpr()"
   ]
  },
  {
   "cell_type": "code",
   "execution_count": 6,
   "id": "ed8fcd8f",
   "metadata": {},
   "outputs": [
    {
     "name": "stdout",
     "output_type": "stream",
     "text": [
      "CPU times: user 8min 58s, sys: 158 ms, total: 8min 58s\n",
      "Wall time: 8min 58s\n"
     ]
    }
   ],
   "source": [
    "grn.init(mr_profs, update_half_resp = True)\n",
    "sim_gpu = sergio(grn)\n",
    "%time sim_gpu.simulate_gpu(nCells = 1000, noise_s = 1, safety_iter = 150, scale_iter = 10)"
   ]
  },
  {
   "cell_type": "markdown",
   "id": "b770eab6",
   "metadata": {},
   "source": [
    "Use custom graph from networkx"
   ]
  },
  {
   "cell_type": "code",
   "execution_count": 2,
   "id": "36198427",
   "metadata": {},
   "outputs": [],
   "source": [
    "import networkx as nx"
   ]
  },
  {
   "cell_type": "code",
   "execution_count": 11,
   "id": "cfd6f566",
   "metadata": {},
   "outputs": [],
   "source": [
    "# create a networkx.DiGraph()\n",
    "G = nx.DiGraph()\n",
    "G.add_edges_from([('1','2',{'weight':2}),('2','3',{'weight':-1}),('3','1',{'weight':3})])# if weight is not given, grn_from_networkx will parametrize automatically\n",
    "\n",
    "# convert the networkx.DiGraph() to a GRN object\n",
    "grn = grn_from_networkx(g= G, parametrize=False)"
   ]
  },
  {
   "cell_type": "code",
   "execution_count": 12,
   "id": "74c461f2",
   "metadata": {},
   "outputs": [],
   "source": [
    "mrs = grn.get_mrs()\n",
    "mr_profs = mrProfile(MR_names = mrs, n_types = 2)\n",
    "mr_profs.build_rnd(range_dict={'L': [1, 2.5], 'H': [3.5, 5]})\n",
    "grn.init(mr_profs, update_half_resp = True)\n",
    "sim = sergio(grn)\n",
    "sim.simulate(nCells = 200, noise_s = 1, safety_iter = 150, scale_iter = 10)"
   ]
  },
  {
   "cell_type": "code",
   "execution_count": 13,
   "id": "42498356",
   "metadata": {},
   "outputs": [],
   "source": [
    "A = grn.to_networkx()"
   ]
  },
  {
   "cell_type": "code",
   "execution_count": 23,
   "id": "b4ed76dc",
   "metadata": {},
   "outputs": [],
   "source": [
    "a = set(A.edges())\n",
    "a.add(1)#note that Sergio removes cycles"
   ]
  },
  {
   "cell_type": "code",
   "execution_count": 24,
   "id": "3ee67cd9",
   "metadata": {},
   "outputs": [
    {
     "data": {
      "text/plain": [
       "(OutEdgeView([('2', '3'), ('3', '1')]), {('2', '3'), ('3', '1'), 1})"
      ]
     },
     "execution_count": 24,
     "metadata": {},
     "output_type": "execute_result"
    }
   ],
   "source": []
  },
  {
   "cell_type": "code",
   "execution_count": null,
   "id": "722c72c1",
   "metadata": {},
   "outputs": [],
   "source": []
  }
 ],
 "metadata": {
  "kernelspec": {
   "display_name": "Python 3",
   "language": "python",
   "name": "python3"
  },
  "language_info": {
   "codemirror_mode": {
    "name": "ipython",
    "version": 3
   },
   "file_extension": ".py",
   "mimetype": "text/x-python",
   "name": "python",
   "nbconvert_exporter": "python",
   "pygments_lexer": "ipython3",
   "version": "3.8.8"
  }
 },
 "nbformat": 4,
 "nbformat_minor": 5
}
