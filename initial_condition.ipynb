{
 "cells": [
  {
   "cell_type": "code",
   "execution_count": 222,
   "id": "7935ec07",
   "metadata": {},
   "outputs": [],
   "source": [
    "import numpy as np\n",
    "from SERGIO.GRN import grn_from_human,grn_from_networkx,grn_random_graph\n",
    "from SERGIO._sergio import sergio\n",
    "from SERGIO.MR import mrProfile\n",
    "import pandas as pd\n",
    "import copy\n",
    "import seaborn as sns\n",
    "from collections import defaultdict\n",
    "import matplotlib.pyplot as plt\n",
    "from SERGIO.GRN._grn import GRN\n",
    "import random\n",
    "from SERGIO.GRN._components import Gene, SingleInteraction"
   ]
  },
  {
   "cell_type": "markdown",
   "id": "0bd65398",
   "metadata": {},
   "source": [
    "- need 10000 cells to have the distribution of cells matching  when you repeat from h\n",
    "I take a master regulator and I change its transcription. If I take as initial condition the final state of the unperturbed trajectory, I do not observe a drammatic change in the dynamics"
   ]
  },
  {
   "cell_type": "code",
   "execution_count": 3,
   "id": "cbeafc63",
   "metadata": {},
   "outputs": [],
   "source": [
    "grn0 = grn_random_graph(20)\n",
    "G = grn0.to_networkx()\n"
   ]
  },
  {
   "cell_type": "code",
   "execution_count": 134,
   "id": "22a611ea",
   "metadata": {},
   "outputs": [],
   "source": [
    "grn = copy.deepcopy(grn0)\n",
    "mrs = grn.get_mrs()\n",
    "mr_profs = mrProfile(MR_names = mrs, n_types = 1)\n",
    "mr_profs.build_rnd(range_dict={'L': [1, 2.5], 'H': [3.5, 5]})\n",
    "grn.init(mr_profs, update_half_resp = True)\n",
    "sim = sergio(grn)"
   ]
  },
  {
   "cell_type": "code",
   "execution_count": 135,
   "id": "d3bb8d7c",
   "metadata": {},
   "outputs": [
    {
     "name": "stdout",
     "output_type": "stream",
     "text": [
      "CPU times: user 1min 19s, sys: 134 ms, total: 1min 19s\n",
      "Wall time: 1min 19s\n"
     ]
    }
   ],
   "source": [
    "\n",
    "%time sim.simulate(nCells = 10000, noise_s = 1, safety_iter = 150, scale_iter = 10)\n",
    "expr = sim.getSimExpr()"
   ]
  },
  {
   "cell_type": "markdown",
   "id": "df74eb26",
   "metadata": {},
   "source": [
    "use as initial condition empty simulation"
   ]
  },
  {
   "cell_type": "code",
   "execution_count": 5,
   "id": "62957af7",
   "metadata": {},
   "outputs": [
    {
     "name": "stdout",
     "output_type": "stream",
     "text": [
      "CPU times: user 11min 27s, sys: 196 ms, total: 11min 27s\n",
      "Wall time: 11min 28s\n"
     ]
    }
   ],
   "source": [
    "scale_prod = 1\n",
    "#grn1 = copy.deepcopy(grn)#to use as initial condition the endpoint of previous simulation\n",
    "grn1 = copy.deepcopy(grn0)#to use as initial condition empty simulation\n",
    "mrs = grn1.get_mrs()\n",
    "\n",
    "target_gene = list(mr_profs.profile.keys())[0]\n",
    "crispr = copy.deepcopy(mr_profs)\n",
    "crispr.profile[target_gene]=mr_profs.profile[target_gene]*scale_prod\n",
    "grn1.init(crispr, update_half_resp = True)\n",
    "sim3 = sergio(grn1)\n",
    "%time sim3.simulate(nCells = 10000, noise_s = 1, safety_iter = 150, scale_iter = 10)\n",
    "expr3 = sim3.getSimExpr()"
   ]
  },
  {
   "cell_type": "code",
   "execution_count": 11,
   "id": "5667545d",
   "metadata": {},
   "outputs": [
    {
     "data": {
      "text/plain": [
       "array([2.19487868])"
      ]
     },
     "execution_count": 11,
     "metadata": {},
     "output_type": "execute_result"
    },
    {
     "data": {
      "image/png": "[encoded data removed]",
      "text/plain": [
       "<Figure size 432x288 with 1 Axes>"
      ]
     },
     "metadata": {
      "needs_background": "light"
     },
     "output_type": "display_data"
    }
   ],
   "source": [
    "sns.histplot(expr.values[np.arange(len(grn.attr_['genes']))[np.array(list(grn.attr_['genes'].keys())) == target_gene][0]],stat = 'density')\n",
    "sns.histplot(expr3.values[np.arange(len(grn.attr_['genes']))[np.array(list(grn.attr_['genes'].keys())) == target_gene][0]],stat = 'density',color='magenta')\n",
    "plt.axvline(grn.attr_['genes'][target_gene].ss_conc_/0.8)\n",
    "grn1.attr_['genes'][target_gene].ss_conc_\n"
   ]
  },
  {
   "cell_type": "code",
   "execution_count": 27,
   "id": "4931c5e2",
   "metadata": {},
   "outputs": [
    {
     "data": {
      "text/plain": [
       "<matplotlib.lines.Line2D at 0x7fdd94f3a4f0>"
      ]
     },
     "execution_count": 27,
     "metadata": {},
     "output_type": "execute_result"
    },
    {
     "data": {
      "image/png": "[encoded data removed]",
      "text/plain": [
       "<Figure size 432x288 with 1 Axes>"
      ]
     },
     "metadata": {
      "needs_background": "light"
     },
     "output_type": "display_data"
    }
   ],
   "source": [
    "gene_nonmr = random.sample(set(grn.attr_['genes'])-grn.attr_['mrs'],1)[0]\n",
    "sns.histplot(expr.values[np.arange(len(grn.attr_['genes']))[np.array(list(grn.attr_['genes'].keys())) == gene_nonmr][0]],stat = 'density')\n",
    "sns.histplot(expr3.values[np.arange(len(grn.attr_['genes']))[np.array(list(grn.attr_['genes'].keys())) == gene_nonmr][0]],stat = 'density',color='magenta')\n",
    "plt.axvline(grn.attr_['genes'][gene_nonmr].ss_conc_/0.8)\n"
   ]
  },
  {
   "cell_type": "code",
   "execution_count": 19,
   "id": "d8a2792e",
   "metadata": {},
   "outputs": [
    {
     "data": {
      "text/plain": [
       "'66'"
      ]
     },
     "execution_count": 19,
     "metadata": {},
     "output_type": "execute_result"
    },
    {
     "data": {
      "image/png": "[encoded data removed]",
      "text/plain": [
       "<Figure size 432x288 with 1 Axes>"
      ]
     },
     "metadata": {
      "needs_background": "light"
     },
     "output_type": "display_data"
    }
   ],
   "source": [
    "\n",
    "gene_mr = random.sample(grn.attr_['mrs'],1)[0]\n",
    "sns.histplot(expr.values[np.arange(len(grn.attr_['genes']))[np.array(list(grn.attr_['genes'].keys())) == gene_mr][0]],stat = 'density')\n",
    "sns.histplot(expr3.values[np.arange(len(grn.attr_['genes']))[np.array(list(grn.attr_['genes'].keys())) == gene_mr][0]],stat = 'density',color='magenta')\n",
    "grn.attr_['genes'][gene_mr]._calc_prod([0]),grn1.attr_['genes'][gene_mr]._calc_prod([0])\n",
    "plt.axvline(grn.attr_['genes'][gene_r].ss_conc_/0.8)\n"
   ]
  },
  {
   "cell_type": "markdown",
   "id": "3bab2462",
   "metadata": {},
   "source": [
    "# understanding perturbation"
   ]
  },
  {
   "cell_type": "markdown",
   "id": "70d8be7c",
   "metadata": {},
   "source": [
    " use as initial condition the endpoint of previous simulation"
   ]
  },
  {
   "cell_type": "code",
   "execution_count": 244,
   "id": "7099e4e5",
   "metadata": {},
   "outputs": [],
   "source": [
    "scale_prod = 4.\n",
    "grn1 = copy.deepcopy(grn)#to use as initial condition the endpoint of previous simulation\n",
    "#grn1 = copy.deepcopy(grn0)#to use as initial condition empty simulation\n",
    "mrs = grn1.get_mrs()\n",
    "target_gene = list(mr_profs.profile.keys())[0]\n",
    "crispr = copy.deepcopy(mr_profs)\n",
    "crispr.profile[target_gene]=mr_profs.profile[target_gene]*scale_prod\n",
    "#clear up previous stationary point trajectory\n",
    "for g in grn1.attr_['genes'].values():\n",
    "    g.sim_conc_ = defaultdict(list) \n",
    "    \n",
    "grn1.init(crispr, update_half_resp = False)\n",
    "sim2 = sergio(grn1)\n",
    "sim2.simulate(nCells = 10000, noise_s = 1, safety_iter = 150, scale_iter = 10)\n",
    "expr2 = sim2.getSimExpr()"
   ]
  },
  {
   "cell_type": "code",
   "execution_count": 241,
   "id": "bc3c8063",
   "metadata": {},
   "outputs": [
    {
     "data": {
      "text/plain": [
       "(array([4.7146265]), array([18.85850599]))"
      ]
     },
     "execution_count": 241,
     "metadata": {},
     "output_type": "execute_result"
    },
    {
     "data": {
      "image/png": "[encoded data removed]",
      "text/plain": [
       "<Figure size 432x288 with 1 Axes>"
      ]
     },
     "metadata": {
      "needs_background": "light"
     },
     "output_type": "display_data"
    }
   ],
   "source": [
    "sns.histplot(expr.values[np.arange(len(grn.attr_['genes']))[np.array(list(grn.attr_['genes'].keys())) == target_gene][0]],stat = 'density')\n",
    "sns.histplot(expr2.values[np.arange(len(grn.attr_['genes']))[np.array(list(grn.attr_['genes'].keys())) == target_gene][0]],stat = 'density',color='magenta')\n",
    "grn.attr_['genes'][target_gene].ss_conc_,grn1.attr_['genes'][target_gene].ss_conc_"
   ]
  },
  {
   "cell_type": "code",
   "execution_count": 164,
   "id": "70d91ae4",
   "metadata": {},
   "outputs": [
    {
     "data": {
      "text/plain": [
       "(array([18.85850599]), array([4.7146265]))"
      ]
     },
     "execution_count": 164,
     "metadata": {},
     "output_type": "execute_result"
    }
   ],
   "source": [
    "sim2.grn_.attr_['genes'][target_gene]._calc_prod([0], regs_conc = 'sim'),sim.grn_.attr_['genes'][target_gene]._calc_prod([0], regs_conc = 'sim')\n",
    "sim2.grn_.attr_['genes'][target_gene].ss_conc_,sim.grn_.attr_['genes'][target_gene].ss_conc_"
   ]
  },
  {
   "cell_type": "code",
   "execution_count": 242,
   "id": "609cea08",
   "metadata": {},
   "outputs": [
    {
     "data": {
      "text/html": [
       "<div>\n",
       "<style scoped>\n",
       "    .dataframe tbody tr th:only-of-type {\n",
       "        vertical-align: middle;\n",
       "    }\n",
       "\n",
       "    .dataframe tbody tr th {\n",
       "        vertical-align: top;\n",
       "    }\n",
       "\n",
       "    .dataframe thead tr th {\n",
       "        text-align: left;\n",
       "    }\n",
       "</style>\n",
       "<table border=\"1\" class=\"dataframe\">\n",
       "  <thead>\n",
       "    <tr>\n",
       "      <th></th>\n",
       "      <th>from</th>\n",
       "      <th>to</th>\n",
       "      <th>weight</th>\n",
       "    </tr>\n",
       "  </thead>\n",
       "  <tbody>\n",
       "    <tr>\n",
       "      <th>0</th>\n",
       "      <td>8</td>\n",
       "      <td>2</td>\n",
       "      <td>2.644088</td>\n",
       "    </tr>\n",
       "    <tr>\n",
       "      <th>1</th>\n",
       "      <td>8</td>\n",
       "      <td>6</td>\n",
       "      <td>-3.209890</td>\n",
       "    </tr>\n",
       "    <tr>\n",
       "      <th>2</th>\n",
       "      <td>8</td>\n",
       "      <td>7</td>\n",
       "      <td>-3.514658</td>\n",
       "    </tr>\n",
       "    <tr>\n",
       "      <th>3</th>\n",
       "      <td>8</td>\n",
       "      <td>9</td>\n",
       "      <td>2.140007</td>\n",
       "    </tr>\n",
       "  </tbody>\n",
       "</table>\n",
       "</div>"
      ],
      "text/plain": [
       "  from to    weight\n",
       "0    8  2  2.644088\n",
       "1    8  6 -3.209890\n",
       "2    8  7 -3.514658\n",
       "3    8  9  2.140007"
      ]
     },
     "execution_count": 242,
     "metadata": {},
     "output_type": "execute_result"
    }
   ],
   "source": [
    "\n",
    "pd.DataFrame([[a,b,d['weight']] for a,b,d in list(G.out_edges(target_gene,data=True))],columns=[['from','to','weight']])"
   ]
  },
  {
   "cell_type": "code",
   "execution_count": 174,
   "id": "5d1376ee",
   "metadata": {},
   "outputs": [
    {
     "data": {
      "text/plain": [
       "['8', '10', '12', '14']"
      ]
     },
     "execution_count": 174,
     "metadata": {},
     "output_type": "execute_result"
    }
   ],
   "source": [
    "[*G.predecessors('9')]"
   ]
  },
  {
   "cell_type": "code",
   "execution_count": 249,
   "id": "2e6eaadb",
   "metadata": {},
   "outputs": [
    {
     "name": "stdout",
     "output_type": "stream",
     "text": [
      "[2.99117042] [5.14378576]\n"
     ]
    },
    {
     "data": {
      "text/plain": [
       "(3.093554280347654, 5.402171984179716)"
      ]
     },
     "execution_count": 249,
     "metadata": {},
     "output_type": "execute_result"
    },
    {
     "data": {
      "image/png": "[encoded data removed]",
      "text/plain": [
       "<Figure size 432x288 with 1 Axes>"
      ]
     },
     "metadata": {
      "needs_background": "light"
     },
     "output_type": "display_data"
    }
   ],
   "source": [
    "j = '7'\n",
    "sns.histplot(expr.values[np.arange(len(grn.attr_['genes']))[np.array(list(grn.attr_['genes'].keys())) == j][0]],stat = 'density')\n",
    "sns.histplot(expr2.values[np.arange(len(grn.attr_['genes']))[np.array(list(grn.attr_['genes'].keys())) == j][0]],stat = 'density',color='magenta')\n",
    "print(sim2.grn_.attr_['genes'][j].ss_conc_,sim.grn_.attr_['genes'][j].ss_conc_)\n",
    "expr2.values[np.arange(len(grn.attr_['genes']))[np.array(list(grn.attr_['genes'].keys())) == j][0]].mean(),expr.values[np.arange(len(grn.attr_['genes']))[np.array(list(grn.attr_['genes'].keys())) == j][0]].mean()"
   ]
  },
  {
   "cell_type": "code",
   "execution_count": 165,
   "id": "24c02cca",
   "metadata": {},
   "outputs": [
    {
     "data": {
      "text/plain": [
       "(array([6.38353307]), array([6.38353307]))"
      ]
     },
     "execution_count": 165,
     "metadata": {},
     "output_type": "execute_result"
    }
   ],
   "source": [
    "sim2.grn_.attr_['genes'][j]._calc_prod(cTypes = [0], regs_conc = 'ss'),sim.grn_.attr_['genes'][j]._calc_prod(cTypes = [0], regs_conc = 'ss')\n",
    "#sim2.grn_.attr_['genes'][j]._calc_prod(cTypes = [0], regs_conc = 'sim'),sim.grn_.attr_['genes'][j]._calc_prod(cTypes = [0], regs_conc = 'sim')"
   ]
  },
  {
   "cell_type": "code",
   "execution_count": 180,
   "id": "40c58974",
   "metadata": {},
   "outputs": [
    {
     "name": "stdout",
     "output_type": "stream",
     "text": [
      "8-9\n",
      "[1.07000351] [1.07000351]\n",
      "10-9\n",
      "[1.80512757] [1.80512757]\n",
      "12-9\n",
      "[1.63101882] [1.63101882]\n",
      "14-9\n",
      "[1.87738317] [1.87738317]\n"
     ]
    },
    {
     "data": {
      "text/plain": [
       "{'8-9': <SERGIO.GRN._components.SingleInteraction at 0x7f2088318430>,\n",
       " '10-9': <SERGIO.GRN._components.SingleInteraction at 0x7f20883184f0>,\n",
       " '12-9': <SERGIO.GRN._components.SingleInteraction at 0x7f2088318f10>,\n",
       " '14-9': <SERGIO.GRN._components.SingleInteraction at 0x7f2088318fa0>}"
      ]
     },
     "execution_count": 180,
     "metadata": {},
     "output_type": "execute_result"
    }
   ],
   "source": [
    "len(grn.attr_['genes'][j].sim_conc_[0]),len(grn1.attr_['genes'][j].sim_conc_[0])\n",
    "ret = np.zeros(shape = (len(cTypes),))\n",
    "for i in sim2.grn_.attr_['genes'][j].inInteractions.keys():\n",
    "            print(i)\n",
    "            ret += sim2.grn_.attr_['genes'][j].inInteractions[i]._get_hill(cTypes, regs_conc = 'ss')\n",
    "            print(sim2.grn_.attr_['genes'][j].inInteractions[i]._get_hill(cTypes, regs_conc = 'ss'),sim.grn_.attr_['genes'][j].inInteractions[i]._get_hill(cTypes, regs_conc = 'ss'))\n",
    "sim2.grn_.attr_['genes'][j].inInteractions"
   ]
  },
  {
   "cell_type": "code",
   "execution_count": 204,
   "id": "b937a66c",
   "metadata": {},
   "outputs": [
    {
     "name": "stdout",
     "output_type": "stream",
     "text": [
      "[1.07000351]\n"
     ]
    },
    {
     "data": {
      "text/plain": [
       "(2.0, 18.858505989444925, 18.858505989444925, 2.14000702088076)"
      ]
     },
     "execution_count": 204,
     "metadata": {},
     "output_type": "execute_result"
    }
   ],
   "source": [
    "print(sim2.grn_.attr_['genes'][j].inInteractions['8-9']._get_hill( cTypes, regs_conc = 'ss'))\n",
    "sim2.grn_.attr_['genes'][j].inInteractions['8-9'].n_,sim2.grn_.attr_['genes'][j].inInteractions['8-9'].h_,sim2.grn_.attr_['genes'][j].inInteractions['8-9'].reg_[0].ss_conc_[0],sim2.grn_.attr_['genes'][j].inInteractions['8-9'].k_"
   ]
  },
  {
   "cell_type": "code",
   "execution_count": 150,
   "id": "d9a281d1",
   "metadata": {},
   "outputs": [
    {
     "name": "stdout",
     "output_type": "stream",
     "text": [
      "[4.08452014] [5.8722576]\n"
     ]
    }
   ],
   "source": [
    "cTypes = [0]\n",
    "print(grn.attr_['genes'][j]._calc_prod([0], regs_conc = 'sim'),grn1.attr_['genes'][j]._calc_prod([0], regs_conc = 'sim'))\n",
    "x = grn.attr_['genes'][j].get_last_conc(cTypes)\n",
    "p = grn.attr_['genes'][j]._calc_prod([0], regs_conc = 'sim')\n",
    "dt = 0.01\n",
    "def update(x0,p,dt):\n",
    "    x = x0\n",
    "    rndP = np.random.normal()\n",
    "    rndD = np.random.normal()\n",
    "    D = 0.8*x\n",
    "    newx = x + (p - D)*dt + (np.multiply(np.sqrt(p),rndP) + np.multiply(np.sqrt(D),rndD))*1*np.sqrt(dt)\n",
    "    x = max(newx,0)\n",
    "    return x\n"
   ]
  },
  {
   "cell_type": "code",
   "execution_count": 151,
   "id": "3d687479",
   "metadata": {},
   "outputs": [
    {
     "data": {
      "text/plain": [
       "[<matplotlib.lines.Line2D at 0x7f207eb7bbb0>]"
      ]
     },
     "execution_count": 151,
     "metadata": {},
     "output_type": "execute_result"
    },
    {
     "data": {
      "image/png": "[encoded data removed]",
      "text/plain": [
       "<Figure size 432x288 with 1 Axes>"
      ]
     },
     "metadata": {
      "needs_background": "light"
     },
     "output_type": "display_data"
    },
    {
     "data": {
      "image/png": "[encoded data removed]",
      "text/plain": [
       "<Figure size 432x288 with 1 Axes>"
      ]
     },
     "metadata": {
      "needs_background": "light"
     },
     "output_type": "display_data"
    }
   ],
   "source": [
    "new_x = x\n",
    "new_x2 = x\n",
    "a = []\n",
    "b = []\n",
    "for _ in range(1000):\n",
    "    new_x =update(new_x,p,dt)\n",
    "    a+=[new_x[0]]\n",
    "    new_x2 =update(new_x2,1.5*p,dt)\n",
    "    b+=[new_x2[0]]\n",
    "\n",
    "x,new_x\n",
    "sns.histplot([a,b])\n",
    "plt.figure()\n",
    "plt.plot(a)\n"
   ]
  },
  {
   "cell_type": "code",
   "execution_count": 105,
   "id": "7fd45e0d",
   "metadata": {},
   "outputs": [
    {
     "data": {
      "text/plain": [
       "(array([1.92137693]), array([7.68550774]))"
      ]
     },
     "execution_count": 105,
     "metadata": {},
     "output_type": "execute_result"
    }
   ],
   "source": [
    "\n",
    "sim.grn_.attr_['genes'][target_gene].ss_conc_,sim2.grn_.attr_['genes'][target_gene].ss_conc_\n"
   ]
  },
  {
   "cell_type": "code",
   "execution_count": 88,
   "id": "34430577",
   "metadata": {},
   "outputs": [],
   "source": [
    "grn0.attr_['genes'][sim.gNames_[1]].ss_conc_"
   ]
  },
  {
   "cell_type": "code",
   "execution_count": 78,
   "id": "2620004d",
   "metadata": {},
   "outputs": [
    {
     "ename": "TypeError",
     "evalue": "'NoneType' object is not subscriptable",
     "output_type": "error",
     "traceback": [
      "\u001b[0;31m---------------------------------------------------------------------------\u001b[0m",
      "\u001b[0;31mTypeError\u001b[0m                                 Traceback (most recent call last)",
      "\u001b[0;32m<ipython-input-78-c745c67f85a9>\u001b[0m in \u001b[0;36m<module>\u001b[0;34m\u001b[0m\n\u001b[0;32m----> 1\u001b[0;31m \u001b[0mgrn0\u001b[0m\u001b[0;34m.\u001b[0m\u001b[0mattr_\u001b[0m\u001b[0;34m[\u001b[0m\u001b[0;34m'genes'\u001b[0m\u001b[0;34m]\u001b[0m\u001b[0;34m[\u001b[0m\u001b[0msim\u001b[0m\u001b[0;34m.\u001b[0m\u001b[0mgNames_\u001b[0m\u001b[0;34m[\u001b[0m\u001b[0;36m1\u001b[0m\u001b[0;34m]\u001b[0m\u001b[0;34m]\u001b[0m\u001b[0;34m.\u001b[0m\u001b[0m_calc_prod\u001b[0m\u001b[0;34m(\u001b[0m\u001b[0;34m[\u001b[0m\u001b[0;36m0\u001b[0m\u001b[0;34m]\u001b[0m\u001b[0;34m)\u001b[0m\u001b[0;34m\u001b[0m\u001b[0;34m\u001b[0m\u001b[0m\n\u001b[0m",
      "\u001b[0;32m~/Documents/Github/SERGIO/SERGIO/GRN/_components.py\u001b[0m in \u001b[0;36m_calc_prod\u001b[0;34m(self, cTypes, regs_conc)\u001b[0m\n\u001b[1;32m     24\u001b[0m         \u001b[0mret\u001b[0m \u001b[0;34m=\u001b[0m \u001b[0mnp\u001b[0m\u001b[0;34m.\u001b[0m\u001b[0mzeros\u001b[0m\u001b[0;34m(\u001b[0m\u001b[0mshape\u001b[0m \u001b[0;34m=\u001b[0m \u001b[0;34m(\u001b[0m\u001b[0mlen\u001b[0m\u001b[0;34m(\u001b[0m\u001b[0mcTypes\u001b[0m\u001b[0;34m)\u001b[0m\u001b[0;34m,\u001b[0m\u001b[0;34m)\u001b[0m\u001b[0;34m)\u001b[0m\u001b[0;34m\u001b[0m\u001b[0;34m\u001b[0m\u001b[0m\n\u001b[1;32m     25\u001b[0m         \u001b[0;32mfor\u001b[0m \u001b[0mi\u001b[0m \u001b[0;32min\u001b[0m \u001b[0mself\u001b[0m\u001b[0;34m.\u001b[0m\u001b[0minInteractions\u001b[0m\u001b[0;34m.\u001b[0m\u001b[0mkeys\u001b[0m\u001b[0;34m(\u001b[0m\u001b[0;34m)\u001b[0m\u001b[0;34m:\u001b[0m\u001b[0;34m\u001b[0m\u001b[0;34m\u001b[0m\u001b[0m\n\u001b[0;32m---> 26\u001b[0;31m             \u001b[0mret\u001b[0m \u001b[0;34m+=\u001b[0m \u001b[0mself\u001b[0m\u001b[0;34m.\u001b[0m\u001b[0minInteractions\u001b[0m\u001b[0;34m[\u001b[0m\u001b[0mi\u001b[0m\u001b[0;34m]\u001b[0m\u001b[0;34m.\u001b[0m\u001b[0m_get_hill\u001b[0m\u001b[0;34m(\u001b[0m\u001b[0mcTypes\u001b[0m\u001b[0;34m,\u001b[0m \u001b[0mregs_conc\u001b[0m \u001b[0;34m=\u001b[0m \u001b[0mregs_conc\u001b[0m\u001b[0;34m)\u001b[0m\u001b[0;34m\u001b[0m\u001b[0;34m\u001b[0m\u001b[0m\n\u001b[0m\u001b[1;32m     27\u001b[0m         \u001b[0;31m#to implement the effect of basal production in Crispr experiments\u001b[0m\u001b[0;34m\u001b[0m\u001b[0;34m\u001b[0m\u001b[0;34m\u001b[0m\u001b[0m\n\u001b[1;32m     28\u001b[0m         \u001b[0;32mif\u001b[0m \u001b[0mself\u001b[0m\u001b[0;34m.\u001b[0m\u001b[0mprod_rates_\u001b[0m \u001b[0;32mis\u001b[0m \u001b[0;32mnot\u001b[0m \u001b[0;32mNone\u001b[0m\u001b[0;34m:\u001b[0m\u001b[0;34m\u001b[0m\u001b[0;34m\u001b[0m\u001b[0m\n",
      "\u001b[0;32m~/Documents/Github/SERGIO/SERGIO/GRN/_components.py\u001b[0m in \u001b[0;36m_get_hill\u001b[0;34m(self, cTypes, regs_conc)\u001b[0m\n\u001b[1;32m     61\u001b[0m \u001b[0;34m\u001b[0m\u001b[0m\n\u001b[1;32m     62\u001b[0m         \u001b[0;32mif\u001b[0m \u001b[0mregs_conc\u001b[0m \u001b[0;34m==\u001b[0m \u001b[0;34m'ss'\u001b[0m\u001b[0;34m:\u001b[0m\u001b[0;34m\u001b[0m\u001b[0;34m\u001b[0m\u001b[0m\n\u001b[0;32m---> 63\u001b[0;31m             \u001b[0mx\u001b[0m \u001b[0;34m=\u001b[0m \u001b[0mself\u001b[0m\u001b[0;34m.\u001b[0m\u001b[0mreg_\u001b[0m\u001b[0;34m[\u001b[0m\u001b[0;36m0\u001b[0m\u001b[0;34m]\u001b[0m\u001b[0;34m.\u001b[0m\u001b[0mss_conc_\u001b[0m\u001b[0;34m[\u001b[0m\u001b[0mcTypes\u001b[0m\u001b[0;34m]\u001b[0m \u001b[0;31m#np.arr\u001b[0m\u001b[0;34m\u001b[0m\u001b[0;34m\u001b[0m\u001b[0m\n\u001b[0m\u001b[1;32m     64\u001b[0m         \u001b[0;32melse\u001b[0m\u001b[0;34m:\u001b[0m\u001b[0;34m\u001b[0m\u001b[0;34m\u001b[0m\u001b[0m\n\u001b[1;32m     65\u001b[0m             \u001b[0mx\u001b[0m \u001b[0;34m=\u001b[0m \u001b[0mself\u001b[0m\u001b[0;34m.\u001b[0m\u001b[0mreg_\u001b[0m\u001b[0;34m[\u001b[0m\u001b[0;36m0\u001b[0m\u001b[0;34m]\u001b[0m\u001b[0;34m.\u001b[0m\u001b[0mget_last_conc\u001b[0m\u001b[0;34m(\u001b[0m\u001b[0mcTypes\u001b[0m\u001b[0;34m)\u001b[0m \u001b[0;31m#np.arr\u001b[0m\u001b[0;34m\u001b[0m\u001b[0;34m\u001b[0m\u001b[0m\n",
      "\u001b[0;31mTypeError\u001b[0m: 'NoneType' object is not subscriptable"
     ]
    }
   ],
   "source": [
    "grn0.attr_['genes'][sim.gNames_[1]]._calc_prod([0])"
   ]
  },
  {
   "cell_type": "code",
   "execution_count": 84,
   "id": "edfd1de5",
   "metadata": {},
   "outputs": [],
   "source": [
    "for g in grn0.attr_['mrs']:\n",
    "    grn0.attr_['genes'][g].isMR_ = True\n",
    "grn0._set_levels()\n",
    "grn0._set_MR_profile(mr_profs)\n",
    "grn0._estimate_params(half_resp = True)"
   ]
  },
  {
   "cell_type": "code",
   "execution_count": 56,
   "id": "2d971ec4",
   "metadata": {},
   "outputs": [
    {
     "data": {
      "text/plain": [
       "(['11', '16', '22', '25', '30', '33', '36', '4', '64', '72', '9'],\n",
       " ['11', '16', '22', '25', '30', '33', '36', '4', '64', '72', '9'])"
      ]
     },
     "execution_count": 56,
     "metadata": {},
     "output_type": "execute_result"
    }
   ],
   "source": [
    "sorted(set(grn0.attr_['mrs'])),sorted( set(mr_profs.profile.keys()))"
   ]
  },
  {
   "cell_type": "code",
   "execution_count": 61,
   "id": "75a06916",
   "metadata": {},
   "outputs": [],
   "source": [
    "def init(self, mr_profile, update_half_resp = True):\n",
    "    for g in self.attr_['mrs']:\n",
    "        self.attr_['genes'][g].isMR_ = True\n",
    "    self._set_levels()\n",
    "    self._set_MR_profile(mr_profile)\n",
    "    self._estimate_params(half_resp = update_half_resp)\n"
   ]
  },
  {
   "cell_type": "code",
   "execution_count": null,
   "id": "593e4be8",
   "metadata": {},
   "outputs": [],
   "source": []
  }
 ],
 "metadata": {
  "kernelspec": {
   "display_name": "Python 3",
   "language": "python",
   "name": "python3"
  },
  "language_info": {
   "codemirror_mode": {
    "name": "ipython",
    "version": 3
   },
   "file_extension": ".py",
   "mimetype": "text/x-python",
   "name": "python",
   "nbconvert_exporter": "python",
   "pygments_lexer": "ipython3",
   "version": "3.8.8"
  }
 },
 "nbformat": 4,
 "nbformat_minor": 5
}
