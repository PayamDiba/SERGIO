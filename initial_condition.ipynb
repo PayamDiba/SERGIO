{
 "cells": [
  {
   "cell_type": "code",
   "execution_count": 1,
   "id": "7935ec07",
   "metadata": {},
   "outputs": [],
   "source": [
    "import numpy as np\n",
    "from SERGIO.GRN import grn_from_human,grn_from_networkx,grn_random_graph\n",
    "from SERGIO._sergio import sergio\n",
    "from SERGIO.MR import mrProfile\n",
    "import pandas as pd\n",
    "import copy\n",
    "import seaborn as sns\n",
    "import matplotlib.pyplot as plt\n",
    "from SERGIO.GRN._grn import GRN\n",
    "import random\n",
    "from SERGIO.GRN._components import Gene, SingleInteraction"
   ]
  },
  {
   "cell_type": "markdown",
   "id": "0bd65398",
   "metadata": {},
   "source": [
    "- need 10000 cells to have the distribution of cells matching  when you repeat from h\n",
    "I take a master regulator and I change its transcription. If I take as initial condition the final state of the unperturbed trajectory, I do not observe a drammatic change in the dynamics"
   ]
  },
  {
   "cell_type": "code",
   "execution_count": 2,
   "id": "cbeafc63",
   "metadata": {},
   "outputs": [],
   "source": [
    "grn0 = grn_random_graph(100)\n",
    "G = grn0.to_networkx()\n"
   ]
  },
  {
   "cell_type": "code",
   "execution_count": 3,
   "id": "22a611ea",
   "metadata": {},
   "outputs": [],
   "source": [
    "grn = copy.deepcopy(grn0)\n",
    "mrs = grn.get_mrs()\n",
    "mr_profs = mrProfile(MR_names = mrs, n_types = 1)\n",
    "mr_profs.build_rnd(range_dict={'L': [1, 2.5], 'H': [3.5, 5]})\n",
    "grn.init(mr_profs, update_half_resp = True)\n",
    "sim = sergio(grn)"
   ]
  },
  {
   "cell_type": "code",
   "execution_count": 4,
   "id": "d3bb8d7c",
   "metadata": {},
   "outputs": [
    {
     "name": "stdout",
     "output_type": "stream",
     "text": [
      "CPU times: user 11min 32s, sys: 541 ms, total: 11min 33s\n",
      "Wall time: 11min 33s\n"
     ]
    }
   ],
   "source": [
    "\n",
    "%time sim.simulate(nCells = 10000, noise_s = 1, safety_iter = 150, scale_iter = 10)\n",
    "expr = sim.getSimExpr()"
   ]
  },
  {
   "cell_type": "markdown",
   "id": "df74eb26",
   "metadata": {},
   "source": [
    "use as initial condition empty simulation"
   ]
  },
  {
   "cell_type": "code",
   "execution_count": 5,
   "id": "62957af7",
   "metadata": {},
   "outputs": [
    {
     "name": "stdout",
     "output_type": "stream",
     "text": [
      "CPU times: user 11min 27s, sys: 196 ms, total: 11min 27s\n",
      "Wall time: 11min 28s\n"
     ]
    }
   ],
   "source": [
    "scale_prod = 1\n",
    "#grn1 = copy.deepcopy(grn)#to use as initial condition the endpoint of previous simulation\n",
    "grn1 = copy.deepcopy(grn0)#to use as initial condition empty simulation\n",
    "mrs = grn1.get_mrs()\n",
    "\n",
    "target_gene = list(mr_profs.profile.keys())[0]\n",
    "crispr = copy.deepcopy(mr_profs)\n",
    "crispr.profile[target_gene]=mr_profs.profile[target_gene]*scale_prod\n",
    "grn1.init(crispr, update_half_resp = True)\n",
    "sim3 = sergio(grn1)\n",
    "%time sim3.simulate(nCells = 10000, noise_s = 1, safety_iter = 150, scale_iter = 10)\n",
    "expr3 = sim3.getSimExpr()"
   ]
  },
  {
   "cell_type": "code",
   "execution_count": 11,
   "id": "5667545d",
   "metadata": {},
   "outputs": [
    {
     "data": {
      "text/plain": [
       "array([2.19487868])"
      ]
     },
     "execution_count": 11,
     "metadata": {},
     "output_type": "execute_result"
    },
    {
     "data": {
      "image/png": "[encoded data removed]",
      "text/plain": [
       "<Figure size 432x288 with 1 Axes>"
      ]
     },
     "metadata": {
      "needs_background": "light"
     },
     "output_type": "display_data"
    }
   ],
   "source": [
    "sns.histplot(expr.values[np.arange(len(grn.attr_['genes']))[np.array(list(grn.attr_['genes'].keys())) == target_gene][0]],stat = 'density')\n",
    "sns.histplot(expr3.values[np.arange(len(grn.attr_['genes']))[np.array(list(grn.attr_['genes'].keys())) == target_gene][0]],stat = 'density',color='magenta')\n",
    "plt.axvline(grn.attr_['genes'][target_gene].ss_conc_/0.8)\n",
    "grn1.attr_['genes'][target_gene].ss_conc_\n"
   ]
  },
  {
   "cell_type": "code",
   "execution_count": 27,
   "id": "4931c5e2",
   "metadata": {},
   "outputs": [
    {
     "data": {
      "text/plain": [
       "<matplotlib.lines.Line2D at 0x7fdd94f3a4f0>"
      ]
     },
     "execution_count": 27,
     "metadata": {},
     "output_type": "execute_result"
    },
    {
     "data": {
      "image/png": "[encoded data removed]",
      "text/plain": [
       "<Figure size 432x288 with 1 Axes>"
      ]
     },
     "metadata": {
      "needs_background": "light"
     },
     "output_type": "display_data"
    }
   ],
   "source": [
    "gene_nonmr = random.sample(set(grn.attr_['genes'])-grn.attr_['mrs'],1)[0]\n",
    "sns.histplot(expr.values[np.arange(len(grn.attr_['genes']))[np.array(list(grn.attr_['genes'].keys())) == gene_nonmr][0]],stat = 'density')\n",
    "sns.histplot(expr3.values[np.arange(len(grn.attr_['genes']))[np.array(list(grn.attr_['genes'].keys())) == gene_nonmr][0]],stat = 'density',color='magenta')\n",
    "plt.axvline(grn.attr_['genes'][gene_nonmr].ss_conc_/0.8)\n"
   ]
  },
  {
   "cell_type": "code",
   "execution_count": 19,
   "id": "d8a2792e",
   "metadata": {},
   "outputs": [
    {
     "data": {
      "text/plain": [
       "'66'"
      ]
     },
     "execution_count": 19,
     "metadata": {},
     "output_type": "execute_result"
    },
    {
     "data": {
      "image/png": "[encoded data removed]",
      "text/plain": [
       "<Figure size 432x288 with 1 Axes>"
      ]
     },
     "metadata": {
      "needs_background": "light"
     },
     "output_type": "display_data"
    }
   ],
   "source": [
    "\n",
    "gene_mr = random.sample(grn.attr_['mrs'],1)[0]\n",
    "sns.histplot(expr.values[np.arange(len(grn.attr_['genes']))[np.array(list(grn.attr_['genes'].keys())) == gene_mr][0]],stat = 'density')\n",
    "sns.histplot(expr3.values[np.arange(len(grn.attr_['genes']))[np.array(list(grn.attr_['genes'].keys())) == gene_mr][0]],stat = 'density',color='magenta')\n",
    "grn.attr_['genes'][gene_mr]._calc_prod([0]),grn1.attr_['genes'][gene_mr]._calc_prod([0])\n",
    "plt.axvline(grn.attr_['genes'][gene_r].ss_conc_/0.8)\n"
   ]
  },
  {
   "cell_type": "markdown",
   "id": "70d8be7c",
   "metadata": {},
   "source": [
    " use as initial condition the endpoint of previous simulation"
   ]
  },
  {
   "cell_type": "code",
   "execution_count": null,
   "id": "7099e4e5",
   "metadata": {},
   "outputs": [],
   "source": [
    "scale_prod = 4.\n",
    "grn1 = copy.deepcopy(grn)#to use as initial condition the endpoint of previous simulation\n",
    "#grn1 = copy.deepcopy(grn0)#to use as initial condition empty simulation\n",
    "mrs = grn1.get_mrs()\n",
    "target_gene = list(mr_profs.profile.keys())[0]\n",
    "crispr = copy.deepcopy(mr_profs)\n",
    "crispr.profile[target_gene]=mr_profs.profile[target_gene]*scale_prod\n",
    "grn1.init(crispr, update_half_resp = True)\n",
    "sim2 = sergio(grn1)\n",
    "sim2.simulate(nCells = 10000, noise_s = 1, safety_iter = 150, scale_iter = 10)\n",
    "expr2 = sim2.getSimExpr()"
   ]
  },
  {
   "cell_type": "code",
   "execution_count": 6,
   "id": "40a058c4",
   "metadata": {},
   "outputs": [
    {
     "data": {
      "text/plain": [
       "(array([2.54093078]), array([2.54093078]))"
      ]
     },
     "execution_count": 6,
     "metadata": {},
     "output_type": "execute_result"
    },
    {
     "data": {
      "image/png": "[encoded data removed]",
      "text/plain": [
       "<Figure size 432x288 with 1 Axes>"
      ]
     },
     "metadata": {
      "needs_background": "light"
     },
     "output_type": "display_data"
    }
   ],
   "source": [
    "sns.histplot(expr.values[np.arange(len(grn.attr_['genes']))[np.array(list(grn.attr_['genes'].keys())) == target_gene][0]],stat = 'density')\n",
    "sns.histplot(expr2.values[np.arange(len(grn.attr_['genes']))[np.array(list(grn.attr_['genes'].keys())) == target_gene][0]],stat = 'density',color='magenta')\n",
    "grn.attr_['genes'][target_gene].ss_conc_,grn1.attr_['genes'][target_gene].ss_conc_"
   ]
  },
  {
   "cell_type": "code",
   "execution_count": 60,
   "id": "7fd45e0d",
   "metadata": {},
   "outputs": [
    {
     "data": {
      "text/plain": [
       "['50']"
      ]
     },
     "execution_count": 60,
     "metadata": {},
     "output_type": "execute_result"
    }
   ],
   "source": [
    "\n",
    "grn.attr_['mrs']\n",
    "gene2"
   ]
  },
  {
   "cell_type": "code",
   "execution_count": 88,
   "id": "34430577",
   "metadata": {},
   "outputs": [],
   "source": [
    "grn0.attr_['genes'][sim.gNames_[1]].ss_conc_"
   ]
  },
  {
   "cell_type": "code",
   "execution_count": 78,
   "id": "2620004d",
   "metadata": {},
   "outputs": [
    {
     "ename": "TypeError",
     "evalue": "'NoneType' object is not subscriptable",
     "output_type": "error",
     "traceback": [
      "\u001b[0;31m---------------------------------------------------------------------------\u001b[0m",
      "\u001b[0;31mTypeError\u001b[0m                                 Traceback (most recent call last)",
      "\u001b[0;32m<ipython-input-78-c745c67f85a9>\u001b[0m in \u001b[0;36m<module>\u001b[0;34m\u001b[0m\n\u001b[0;32m----> 1\u001b[0;31m \u001b[0mgrn0\u001b[0m\u001b[0;34m.\u001b[0m\u001b[0mattr_\u001b[0m\u001b[0;34m[\u001b[0m\u001b[0;34m'genes'\u001b[0m\u001b[0;34m]\u001b[0m\u001b[0;34m[\u001b[0m\u001b[0msim\u001b[0m\u001b[0;34m.\u001b[0m\u001b[0mgNames_\u001b[0m\u001b[0;34m[\u001b[0m\u001b[0;36m1\u001b[0m\u001b[0;34m]\u001b[0m\u001b[0;34m]\u001b[0m\u001b[0;34m.\u001b[0m\u001b[0m_calc_prod\u001b[0m\u001b[0;34m(\u001b[0m\u001b[0;34m[\u001b[0m\u001b[0;36m0\u001b[0m\u001b[0;34m]\u001b[0m\u001b[0;34m)\u001b[0m\u001b[0;34m\u001b[0m\u001b[0;34m\u001b[0m\u001b[0m\n\u001b[0m",
      "\u001b[0;32m~/Documents/Github/SERGIO/SERGIO/GRN/_components.py\u001b[0m in \u001b[0;36m_calc_prod\u001b[0;34m(self, cTypes, regs_conc)\u001b[0m\n\u001b[1;32m     24\u001b[0m         \u001b[0mret\u001b[0m \u001b[0;34m=\u001b[0m \u001b[0mnp\u001b[0m\u001b[0;34m.\u001b[0m\u001b[0mzeros\u001b[0m\u001b[0;34m(\u001b[0m\u001b[0mshape\u001b[0m \u001b[0;34m=\u001b[0m \u001b[0;34m(\u001b[0m\u001b[0mlen\u001b[0m\u001b[0;34m(\u001b[0m\u001b[0mcTypes\u001b[0m\u001b[0;34m)\u001b[0m\u001b[0;34m,\u001b[0m\u001b[0;34m)\u001b[0m\u001b[0;34m)\u001b[0m\u001b[0;34m\u001b[0m\u001b[0;34m\u001b[0m\u001b[0m\n\u001b[1;32m     25\u001b[0m         \u001b[0;32mfor\u001b[0m \u001b[0mi\u001b[0m \u001b[0;32min\u001b[0m \u001b[0mself\u001b[0m\u001b[0;34m.\u001b[0m\u001b[0minInteractions\u001b[0m\u001b[0;34m.\u001b[0m\u001b[0mkeys\u001b[0m\u001b[0;34m(\u001b[0m\u001b[0;34m)\u001b[0m\u001b[0;34m:\u001b[0m\u001b[0;34m\u001b[0m\u001b[0;34m\u001b[0m\u001b[0m\n\u001b[0;32m---> 26\u001b[0;31m             \u001b[0mret\u001b[0m \u001b[0;34m+=\u001b[0m \u001b[0mself\u001b[0m\u001b[0;34m.\u001b[0m\u001b[0minInteractions\u001b[0m\u001b[0;34m[\u001b[0m\u001b[0mi\u001b[0m\u001b[0;34m]\u001b[0m\u001b[0;34m.\u001b[0m\u001b[0m_get_hill\u001b[0m\u001b[0;34m(\u001b[0m\u001b[0mcTypes\u001b[0m\u001b[0;34m,\u001b[0m \u001b[0mregs_conc\u001b[0m \u001b[0;34m=\u001b[0m \u001b[0mregs_conc\u001b[0m\u001b[0;34m)\u001b[0m\u001b[0;34m\u001b[0m\u001b[0;34m\u001b[0m\u001b[0m\n\u001b[0m\u001b[1;32m     27\u001b[0m         \u001b[0;31m#to implement the effect of basal production in Crispr experiments\u001b[0m\u001b[0;34m\u001b[0m\u001b[0;34m\u001b[0m\u001b[0;34m\u001b[0m\u001b[0m\n\u001b[1;32m     28\u001b[0m         \u001b[0;32mif\u001b[0m \u001b[0mself\u001b[0m\u001b[0;34m.\u001b[0m\u001b[0mprod_rates_\u001b[0m \u001b[0;32mis\u001b[0m \u001b[0;32mnot\u001b[0m \u001b[0;32mNone\u001b[0m\u001b[0;34m:\u001b[0m\u001b[0;34m\u001b[0m\u001b[0;34m\u001b[0m\u001b[0m\n",
      "\u001b[0;32m~/Documents/Github/SERGIO/SERGIO/GRN/_components.py\u001b[0m in \u001b[0;36m_get_hill\u001b[0;34m(self, cTypes, regs_conc)\u001b[0m\n\u001b[1;32m     61\u001b[0m \u001b[0;34m\u001b[0m\u001b[0m\n\u001b[1;32m     62\u001b[0m         \u001b[0;32mif\u001b[0m \u001b[0mregs_conc\u001b[0m \u001b[0;34m==\u001b[0m \u001b[0;34m'ss'\u001b[0m\u001b[0;34m:\u001b[0m\u001b[0;34m\u001b[0m\u001b[0;34m\u001b[0m\u001b[0m\n\u001b[0;32m---> 63\u001b[0;31m             \u001b[0mx\u001b[0m \u001b[0;34m=\u001b[0m \u001b[0mself\u001b[0m\u001b[0;34m.\u001b[0m\u001b[0mreg_\u001b[0m\u001b[0;34m[\u001b[0m\u001b[0;36m0\u001b[0m\u001b[0;34m]\u001b[0m\u001b[0;34m.\u001b[0m\u001b[0mss_conc_\u001b[0m\u001b[0;34m[\u001b[0m\u001b[0mcTypes\u001b[0m\u001b[0;34m]\u001b[0m \u001b[0;31m#np.arr\u001b[0m\u001b[0;34m\u001b[0m\u001b[0;34m\u001b[0m\u001b[0m\n\u001b[0m\u001b[1;32m     64\u001b[0m         \u001b[0;32melse\u001b[0m\u001b[0;34m:\u001b[0m\u001b[0;34m\u001b[0m\u001b[0;34m\u001b[0m\u001b[0m\n\u001b[1;32m     65\u001b[0m             \u001b[0mx\u001b[0m \u001b[0;34m=\u001b[0m \u001b[0mself\u001b[0m\u001b[0;34m.\u001b[0m\u001b[0mreg_\u001b[0m\u001b[0;34m[\u001b[0m\u001b[0;36m0\u001b[0m\u001b[0;34m]\u001b[0m\u001b[0;34m.\u001b[0m\u001b[0mget_last_conc\u001b[0m\u001b[0;34m(\u001b[0m\u001b[0mcTypes\u001b[0m\u001b[0;34m)\u001b[0m \u001b[0;31m#np.arr\u001b[0m\u001b[0;34m\u001b[0m\u001b[0;34m\u001b[0m\u001b[0m\n",
      "\u001b[0;31mTypeError\u001b[0m: 'NoneType' object is not subscriptable"
     ]
    }
   ],
   "source": [
    "grn0.attr_['genes'][sim.gNames_[1]]._calc_prod([0])"
   ]
  },
  {
   "cell_type": "code",
   "execution_count": 84,
   "id": "edfd1de5",
   "metadata": {},
   "outputs": [],
   "source": [
    "for g in grn0.attr_['mrs']:\n",
    "    grn0.attr_['genes'][g].isMR_ = True\n",
    "grn0._set_levels()\n",
    "grn0._set_MR_profile(mr_profs)\n",
    "grn0._estimate_params(half_resp = True)"
   ]
  },
  {
   "cell_type": "code",
   "execution_count": 56,
   "id": "2d971ec4",
   "metadata": {},
   "outputs": [
    {
     "data": {
      "text/plain": [
       "(['11', '16', '22', '25', '30', '33', '36', '4', '64', '72', '9'],\n",
       " ['11', '16', '22', '25', '30', '33', '36', '4', '64', '72', '9'])"
      ]
     },
     "execution_count": 56,
     "metadata": {},
     "output_type": "execute_result"
    }
   ],
   "source": [
    "sorted(set(grn0.attr_['mrs'])),sorted( set(mr_profs.profile.keys()))"
   ]
  },
  {
   "cell_type": "code",
   "execution_count": 61,
   "id": "75a06916",
   "metadata": {},
   "outputs": [],
   "source": [
    "def init(self, mr_profile, update_half_resp = True):\n",
    "    for g in self.attr_['mrs']:\n",
    "        self.attr_['genes'][g].isMR_ = True\n",
    "    self._set_levels()\n",
    "    self._set_MR_profile(mr_profile)\n",
    "    self._estimate_params(half_resp = update_half_resp)\n"
   ]
  },
  {
   "cell_type": "code",
   "execution_count": null,
   "id": "593e4be8",
   "metadata": {},
   "outputs": [],
   "source": []
  }
 ],
 "metadata": {
  "kernelspec": {
   "display_name": "Python 3",
   "language": "python",
   "name": "python3"
  },
  "language_info": {
   "codemirror_mode": {
    "name": "ipython",
    "version": 3
   },
   "file_extension": ".py",
   "mimetype": "text/x-python",
   "name": "python",
   "nbconvert_exporter": "python",
   "pygments_lexer": "ipython3",
   "version": "3.8.8"
  }
 },
 "nbformat": 4,
 "nbformat_minor": 5
}
