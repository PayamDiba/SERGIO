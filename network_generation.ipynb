{
 "cells": [
  {
   "cell_type": "code",
   "execution_count": null,
   "id": "4ea50f09-4c2e-46d0-a2cf-5590eb7755a4",
   "metadata": {},
   "outputs": [],
   "source": [
    "def regnet_parser(regfile):\n",
    "    targets = {}\n",
    "    regulators = []\n",
    "    for line in open(regfile):\n",
    "        if line[0] == '#':\n",
    "            pass\n",
    "        if line[0] != ' ' and line[-1] == '*':\n",
    "            regulators.append(line[:-1])\n",
    "        else:\n",
    "            targets[regulators[-1]] = parse_targets(line)\n",
    "\n",
    "def parse_targets(line):\n",
    "    for dir_target_reg in line.strip().split():\n",
    "        if "
   ]
  }
 ],
 "metadata": {
  "kernelspec": {
   "display_name": "anaconda3-2021.11",
   "language": "python",
   "name": "anaconda3-2021.11"
  },
  "language_info": {
   "codemirror_mode": {
    "name": "ipython",
    "version": 3
   },
   "file_extension": ".py",
   "mimetype": "text/x-python",
   "name": "python",
   "nbconvert_exporter": "python",
   "pygments_lexer": "ipython3",
   "version": "3.9.7"
  }
 },
 "nbformat": 4,
 "nbformat_minor": 5
}
